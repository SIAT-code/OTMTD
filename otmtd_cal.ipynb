{
 "cells": [
  {
   "cell_type": "code",
   "execution_count": 3,
   "metadata": {},
   "outputs": [],
   "source": [
    "import time\n",
    "import random\n",
    "import itertools\n",
    "import collections\n",
    "import numpy as np\n",
    "import pandas as pd\n",
    "import torch\n",
    "import torch.nn as nn\n",
    "import matplotlib.pyplot as plt\n",
    "from torch.utils.data import Dataset, DataLoader\n",
    "\n",
    "from otmtd.utils.distance import WTE\n",
    "from scipy.spatial import distance\n",
    "\n",
    "\n",
    "class EmbeddingDataset(Dataset):\n",
    "    def __init__(self, task, text_path, train_embs_path, valid_embs_path=None, pt_label='domain'):\n",
    "        embs, labels, unique_labels = self.load_embs_and_labels(task, text_path, train_embs_path, valid_embs_path, pt_label)\n",
    "        if task != 'pre_train':\n",
    "            print(\"{} unique labels: {}\".format(task.capitalize(), len(unique_labels)))\n",
    "        else:\n",
    "            print(\"PRE-TRAIN {} unique labels: {}\".format(pt_label, len(unique_labels)))\n",
    "        counter = collections.Counter(labels)\n",
    "        sorted_counter = dict(sorted(counter.items(), key=lambda kv: kv[1], reverse=True))\n",
    "        print(sorted_counter)\n",
    "        self.unique_labels = unique_labels\n",
    "\n",
    "        self.embs_and_labels = pd.concat([embs, labels], axis=1)\n",
    "        # 创建otdd需求的Dataset属性\n",
    "        self.classes = [str(k) for k in unique_labels] # list of unique labels string\n",
    "        self.targets = torch.tensor(list(labels))\n",
    "\n",
    "    def __len__(self):\n",
    "        return len(self.targets)\n",
    "\n",
    "    def __getitem__(self, idx):\n",
    "        embedding = self.embs_and_labels.iloc[idx]['pro_emb']\n",
    "        label = self.embs_and_labels.iloc[idx]['label']\n",
    "        return torch.tensor(embedding).reshape(1, -1, 1), torch.tensor(label)\n",
    "\n",
    "    def load_embs_and_labels(self, task, text_path, train_embs_path, valid_embs_path, pt_label):\n",
    "        texts = pd.read_csv(text_path)\n",
    "        if task=='pre_train':\n",
    "            texts.rename(columns={pt_label: 'label'}, inplace=True)\n",
    "        labels = texts['label']\n",
    "        unique_labels = labels.unique()\n",
    "\n",
    "        if task=='pre_train' or task=='kinase': # pre_train / kinase, only `train` set\n",
    "            embs = pd.read_pickle(train_embs_path)\n",
    "        else:\n",
    "            train_embs, valid_embs = pd.read_pickle(train_embs_path), pd.read_pickle(valid_embs_path)\n",
    "            embs = pd.concat([train_embs, valid_embs], axis=0)\n",
    "\n",
    "        selected_ids = texts['uniprot_id'].tolist()\n",
    "        selected_embs_flag = embs['pro_id'].map(lambda x: True if x in selected_ids else False)\n",
    "        embs = embs[selected_embs_flag].reset_index(drop=True)\n",
    "        embs = embs['pro_emb']\n",
    "\n",
    "        return embs, labels, unique_labels\n",
    "    \n",
    "def set_random_seed(SEED):\n",
    "    np.random.seed(SEED)\n",
    "    torch.manual_seed(SEED)\n",
    "    torch.cuda.manual_seed(SEED)\n",
    "\n",
    "def cal_combs_distances_mean(all_pt_tasks, t2t_distances_list):\n",
    "    mean_t2t_distances = []\n",
    "    for pt_task in all_pt_tasks:\n",
    "        spec_pt_task_distance = []\n",
    "        for t2t_distances in t2t_distances_list:\n",
    "            if pt_task in t2t_distances['pt_task'].tolist():\n",
    "                spec_pt_task_distance.append(t2t_distances[t2t_distances['pt_task']==pt_task].to_numpy()[:, :-1].reshape(1, -1))\n",
    "        spec_pt_task_distance = np.concatenate(spec_pt_task_distance, axis=0).astype(np.float32).mean(axis=0)\n",
    "        mean_t2t_distances.append(spec_pt_task_distance)\n",
    "    mean_t2t_distances = np.stack(mean_t2t_distances, axis=0)\n",
    "    return mean_t2t_distances"
   ]
  },
  {
   "cell_type": "code",
   "execution_count": 5,
   "metadata": {},
   "outputs": [
    {
     "name": "stdout",
     "output_type": "stream",
     "text": [
      "Start computing for Pretrain-MultiTask: MLM+RMD\n",
      "PRE-TRAIN mlm unique labels: 15\n",
      "{2: 148, 10: 117, 6: 116, 8: 101, 9: 98, 4: 95, 5: 59, 14: 54, 1: 49, 3: 47, 7: 46, 12: 45, 0: 45, 11: 13, 13: 12}\n",
      "PRE-TRAIN domain unique labels: 13\n",
      "{0: 173, 1: 165, 2: 121, 3: 89, 4: 88, 5: 64, 6: 59, 7: 53, 8: 50, 9: 47, 10: 46, 11: 45, 12: 45}\n",
      "PRE-TRAIN motif unique labels: 5\n",
      "{0: 843, 1: 59, 2: 50, 3: 47, 4: 46}\n",
      "PRE-TRAIN region unique labels: 10\n",
      "{0: 202, 1: 173, 2: 165, 3: 121, 4: 89, 5: 88, 6: 64, 7: 53, 8: 45, 9: 45}\n",
      "Stability unique labels: 12\n",
      "{0: 101, 1: 87, 2: 83, 3: 57, 4: 53, 5: 34, 6: 27, 7: 20, 8: 14, 9: 11, 10: 7, 11: 6}\n",
      "Fluoresecence unique labels: 12\n",
      "{0: 142, 1: 83, 2: 80, 3: 48, 4: 38, 5: 35, 6: 20, 7: 20, 8: 14, 9: 9, 10: 6, 11: 5}\n",
      "Remote_homology unique labels: 16\n",
      "{0: 136, 1: 126, 2: 96, 3: 26, 4: 20, 5: 14, 6: 11, 7: 11, 8: 9, 9: 9, 10: 8, 11: 8, 12: 7, 13: 7, 14: 6, 15: 6}\n",
      "Secondary_structrue unique labels: 15\n",
      "{9: 55, 3: 50, 1: 46, 14: 45, 8: 42, 7: 38, 13: 38, 0: 32, 6: 30, 11: 28, 2: 25, 5: 23, 12: 19, 10: 17, 4: 12}\n",
      "Pdbbind unique labels: 11\n",
      "{0: 81, 1: 70, 2: 66, 3: 58, 4: 57, 5: 56, 6: 33, 7: 28, 8: 28, 9: 18, 10: 5}\n",
      "Kinase unique labels: 2\n",
      "{0: 398, 1: 102}\n",
      "Embedding labels...\n",
      "Computing inter label-to-label distance for mlm & domain\n"
     ]
    },
    {
     "name": "stderr",
     "output_type": "stream",
     "text": [
      "13it [00:01, 10.57it/s]\n",
      "Computing label-to-label distances: 100%|██████████| 195/195 [00:21<00:00,  8.98it/s]\n"
     ]
    },
    {
     "name": "stdout",
     "output_type": "stream",
     "text": [
      "Computing inter label-to-label distance for mlm & motif\n"
     ]
    },
    {
     "name": "stderr",
     "output_type": "stream",
     "text": [
      "5it [00:00, 17.21it/s]\n",
      "Computing label-to-label distances: 100%|██████████| 75/75 [00:06<00:00, 11.26it/s]\n"
     ]
    },
    {
     "name": "stdout",
     "output_type": "stream",
     "text": [
      "Computing inter label-to-label distance for mlm & region\n"
     ]
    },
    {
     "name": "stderr",
     "output_type": "stream",
     "text": [
      "10it [00:01,  6.43it/s]\n",
      "Computing label-to-label distances: 100%|██████████| 150/150 [00:15<00:00,  9.72it/s]\n"
     ]
    },
    {
     "name": "stdout",
     "output_type": "stream",
     "text": [
      "Computing inter label-to-label distance for mlm & Stability\n"
     ]
    },
    {
     "name": "stderr",
     "output_type": "stream",
     "text": [
      "12it [00:02,  5.85it/s]\n",
      "Computing label-to-label distances: 100%|██████████| 180/180 [00:24<00:00,  7.40it/s]\n"
     ]
    },
    {
     "name": "stdout",
     "output_type": "stream",
     "text": [
      "Computing inter label-to-label distance for mlm & Fluoresecence\n"
     ]
    },
    {
     "name": "stderr",
     "output_type": "stream",
     "text": [
      "12it [00:00, 19.26it/s]\n",
      "Computing label-to-label distances: 100%|██████████| 180/180 [00:17<00:00, 10.29it/s]\n"
     ]
    },
    {
     "name": "stdout",
     "output_type": "stream",
     "text": [
      "Computing inter label-to-label distance for mlm & Remote_homology\n"
     ]
    },
    {
     "name": "stderr",
     "output_type": "stream",
     "text": [
      "15it [00:01, 12.74it/s]\n",
      "Computing label-to-label distances: 100%|██████████| 240/240 [00:20<00:00, 11.55it/s]\n"
     ]
    },
    {
     "name": "stdout",
     "output_type": "stream",
     "text": [
      "Computing inter label-to-label distance for mlm & Secondary_structrue\n"
     ]
    },
    {
     "name": "stderr",
     "output_type": "stream",
     "text": [
      "15it [00:02,  5.52it/s]\n",
      "Computing label-to-label distances: 100%|██████████| 225/225 [00:16<00:00, 13.45it/s]\n"
     ]
    },
    {
     "name": "stdout",
     "output_type": "stream",
     "text": [
      "Computing inter label-to-label distance for mlm & Pdbbind\n"
     ]
    },
    {
     "name": "stderr",
     "output_type": "stream",
     "text": [
      "11it [00:02,  5.48it/s]\n",
      "Computing label-to-label distances: 100%|██████████| 165/165 [00:14<00:00, 11.67it/s]\n"
     ]
    },
    {
     "name": "stdout",
     "output_type": "stream",
     "text": [
      "Computing inter label-to-label distance for mlm & Kinase\n"
     ]
    },
    {
     "name": "stderr",
     "output_type": "stream",
     "text": [
      "2it [00:00, 14.44it/s]\n",
      "Computing label-to-label distances: 100%|██████████| 30/30 [00:04<00:00,  7.35it/s]\n"
     ]
    },
    {
     "name": "stdout",
     "output_type": "stream",
     "text": [
      "Computing inter label-to-label distance for domain & motif\n"
     ]
    },
    {
     "name": "stderr",
     "output_type": "stream",
     "text": [
      "5it [00:00, 20.09it/s]\n",
      "Computing label-to-label distances: 100%|██████████| 65/65 [00:07<00:00,  8.60it/s]\n"
     ]
    },
    {
     "name": "stdout",
     "output_type": "stream",
     "text": [
      "Computing inter label-to-label distance for domain & region\n"
     ]
    },
    {
     "name": "stderr",
     "output_type": "stream",
     "text": [
      "10it [00:01,  6.01it/s]\n",
      "Computing label-to-label distances: 100%|██████████| 130/130 [00:11<00:00, 10.99it/s]\n"
     ]
    },
    {
     "name": "stdout",
     "output_type": "stream",
     "text": [
      "Computing inter label-to-label distance for domain & Stability\n"
     ]
    },
    {
     "name": "stderr",
     "output_type": "stream",
     "text": [
      "12it [00:01,  7.26it/s]\n",
      "Computing label-to-label distances: 100%|██████████| 156/156 [00:13<00:00, 11.67it/s]\n"
     ]
    },
    {
     "name": "stdout",
     "output_type": "stream",
     "text": [
      "Computing inter label-to-label distance for domain & Fluoresecence\n"
     ]
    },
    {
     "name": "stderr",
     "output_type": "stream",
     "text": [
      "12it [00:01,  7.38it/s]\n",
      "Computing label-to-label distances: 100%|██████████| 156/156 [00:15<00:00,  9.98it/s]\n"
     ]
    },
    {
     "name": "stdout",
     "output_type": "stream",
     "text": [
      "Computing inter label-to-label distance for domain & Remote_homology\n"
     ]
    },
    {
     "name": "stderr",
     "output_type": "stream",
     "text": [
      "13it [00:01,  9.18it/s]\n",
      "Computing label-to-label distances: 100%|██████████| 208/208 [00:20<00:00, 10.00it/s]\n"
     ]
    },
    {
     "name": "stdout",
     "output_type": "stream",
     "text": [
      "Computing inter label-to-label distance for domain & Secondary_structrue\n"
     ]
    },
    {
     "name": "stderr",
     "output_type": "stream",
     "text": [
      "13it [00:01,  7.88it/s]\n",
      "Computing label-to-label distances: 100%|██████████| 195/195 [00:18<00:00, 10.74it/s]\n"
     ]
    },
    {
     "name": "stdout",
     "output_type": "stream",
     "text": [
      "Computing inter label-to-label distance for domain & Pdbbind\n"
     ]
    },
    {
     "name": "stderr",
     "output_type": "stream",
     "text": [
      "11it [00:00, 18.74it/s]\n",
      "Computing label-to-label distances: 100%|██████████| 143/143 [00:11<00:00, 11.92it/s]\n"
     ]
    },
    {
     "name": "stdout",
     "output_type": "stream",
     "text": [
      "Computing inter label-to-label distance for domain & Kinase\n"
     ]
    },
    {
     "name": "stderr",
     "output_type": "stream",
     "text": [
      "2it [00:00, 15.48it/s]\n",
      "Computing label-to-label distances: 100%|██████████| 26/26 [00:01<00:00, 13.35it/s]\n"
     ]
    },
    {
     "name": "stdout",
     "output_type": "stream",
     "text": [
      "Computing inter label-to-label distance for motif & region\n"
     ]
    },
    {
     "name": "stderr",
     "output_type": "stream",
     "text": [
      "5it [00:00, 11.36it/s]\n",
      "Computing label-to-label distances: 100%|██████████| 50/50 [00:10<00:00,  4.63it/s]\n"
     ]
    },
    {
     "name": "stdout",
     "output_type": "stream",
     "text": [
      "Computing inter label-to-label distance for motif & Stability\n"
     ]
    },
    {
     "name": "stderr",
     "output_type": "stream",
     "text": [
      "5it [00:00,  8.91it/s]\n",
      "Computing label-to-label distances: 100%|██████████| 60/60 [00:05<00:00, 10.38it/s]\n"
     ]
    },
    {
     "name": "stdout",
     "output_type": "stream",
     "text": [
      "Computing inter label-to-label distance for motif & Fluoresecence\n"
     ]
    },
    {
     "name": "stderr",
     "output_type": "stream",
     "text": [
      "5it [00:00,  8.47it/s]\n",
      "Computing label-to-label distances: 100%|██████████| 60/60 [00:03<00:00, 15.57it/s]\n"
     ]
    },
    {
     "name": "stdout",
     "output_type": "stream",
     "text": [
      "Computing inter label-to-label distance for motif & Remote_homology\n"
     ]
    },
    {
     "name": "stderr",
     "output_type": "stream",
     "text": [
      "5it [00:00,  5.84it/s]\n",
      "Computing label-to-label distances: 100%|██████████| 80/80 [00:09<00:00,  8.59it/s]\n"
     ]
    },
    {
     "name": "stdout",
     "output_type": "stream",
     "text": [
      "Computing inter label-to-label distance for motif & Secondary_structrue\n"
     ]
    },
    {
     "name": "stderr",
     "output_type": "stream",
     "text": [
      "5it [00:00, 18.27it/s]\n",
      "Computing label-to-label distances: 100%|██████████| 75/75 [00:07<00:00, 10.25it/s]\n"
     ]
    },
    {
     "name": "stdout",
     "output_type": "stream",
     "text": [
      "Computing inter label-to-label distance for motif & Pdbbind\n"
     ]
    },
    {
     "name": "stderr",
     "output_type": "stream",
     "text": [
      "5it [00:00, 20.08it/s]\n",
      "Computing label-to-label distances: 100%|██████████| 55/55 [00:05<00:00, 10.17it/s]\n"
     ]
    },
    {
     "name": "stdout",
     "output_type": "stream",
     "text": [
      "Computing inter label-to-label distance for motif & Kinase\n"
     ]
    },
    {
     "name": "stderr",
     "output_type": "stream",
     "text": [
      "2it [00:00,  5.75it/s]\n",
      "Computing label-to-label distances: 100%|██████████| 10/10 [00:00<00:00, 18.94it/s]\n"
     ]
    },
    {
     "name": "stdout",
     "output_type": "stream",
     "text": [
      "Computing inter label-to-label distance for region & Stability\n"
     ]
    },
    {
     "name": "stderr",
     "output_type": "stream",
     "text": [
      "10it [00:00, 13.37it/s]\n",
      "Computing label-to-label distances: 100%|██████████| 120/120 [00:09<00:00, 12.30it/s]\n"
     ]
    },
    {
     "name": "stdout",
     "output_type": "stream",
     "text": [
      "Computing inter label-to-label distance for region & Fluoresecence\n"
     ]
    },
    {
     "name": "stderr",
     "output_type": "stream",
     "text": [
      "10it [00:00, 20.25it/s]\n",
      "Computing label-to-label distances: 100%|██████████| 120/120 [00:12<00:00,  9.57it/s]\n"
     ]
    },
    {
     "name": "stdout",
     "output_type": "stream",
     "text": [
      "Computing inter label-to-label distance for region & Remote_homology\n"
     ]
    },
    {
     "name": "stderr",
     "output_type": "stream",
     "text": [
      "10it [00:01,  7.96it/s]\n",
      "Computing label-to-label distances: 100%|██████████| 160/160 [00:14<00:00, 10.97it/s]\n"
     ]
    },
    {
     "name": "stdout",
     "output_type": "stream",
     "text": [
      "Computing inter label-to-label distance for region & Secondary_structrue\n"
     ]
    },
    {
     "name": "stderr",
     "output_type": "stream",
     "text": [
      "10it [00:01,  5.60it/s]\n",
      "Computing label-to-label distances: 100%|██████████| 150/150 [00:14<00:00, 10.36it/s]\n"
     ]
    },
    {
     "name": "stdout",
     "output_type": "stream",
     "text": [
      "Computing inter label-to-label distance for region & Pdbbind\n"
     ]
    },
    {
     "name": "stderr",
     "output_type": "stream",
     "text": [
      "10it [00:00, 11.79it/s]\n",
      "Computing label-to-label distances: 100%|██████████| 110/110 [00:11<00:00,  9.66it/s]\n"
     ]
    },
    {
     "name": "stdout",
     "output_type": "stream",
     "text": [
      "Computing inter label-to-label distance for region & Kinase\n"
     ]
    },
    {
     "name": "stderr",
     "output_type": "stream",
     "text": [
      "2it [00:00, 12.26it/s]\n",
      "Computing label-to-label distances: 100%|██████████| 20/20 [00:01<00:00, 10.91it/s]\n"
     ]
    },
    {
     "name": "stdout",
     "output_type": "stream",
     "text": [
      "Computing inter label-to-label distance for Stability & Fluoresecence\n"
     ]
    },
    {
     "name": "stderr",
     "output_type": "stream",
     "text": [
      "12it [00:01, 11.07it/s]\n",
      "Computing label-to-label distances: 100%|██████████| 144/144 [00:13<00:00, 10.33it/s]\n"
     ]
    },
    {
     "name": "stdout",
     "output_type": "stream",
     "text": [
      "Computing inter label-to-label distance for Stability & Remote_homology\n"
     ]
    },
    {
     "name": "stderr",
     "output_type": "stream",
     "text": [
      "12it [00:00, 14.07it/s]\n",
      "Computing label-to-label distances: 100%|██████████| 192/192 [00:18<00:00, 10.23it/s]\n"
     ]
    },
    {
     "name": "stdout",
     "output_type": "stream",
     "text": [
      "Computing inter label-to-label distance for Stability & Secondary_structrue\n"
     ]
    },
    {
     "name": "stderr",
     "output_type": "stream",
     "text": [
      "12it [00:00, 16.80it/s]\n",
      "Computing label-to-label distances: 100%|██████████| 180/180 [00:18<00:00,  9.54it/s]\n"
     ]
    },
    {
     "name": "stdout",
     "output_type": "stream",
     "text": [
      "Computing inter label-to-label distance for Stability & Pdbbind\n"
     ]
    },
    {
     "name": "stderr",
     "output_type": "stream",
     "text": [
      "11it [00:00, 13.96it/s]\n",
      "Computing label-to-label distances: 100%|██████████| 132/132 [00:13<00:00,  9.92it/s]\n"
     ]
    },
    {
     "name": "stdout",
     "output_type": "stream",
     "text": [
      "Computing inter label-to-label distance for Stability & Kinase\n"
     ]
    },
    {
     "name": "stderr",
     "output_type": "stream",
     "text": [
      "2it [00:00, 21.41it/s]\n",
      "Computing label-to-label distances: 100%|██████████| 24/24 [00:02<00:00, 11.75it/s]\n"
     ]
    },
    {
     "name": "stdout",
     "output_type": "stream",
     "text": [
      "Computing inter label-to-label distance for Fluoresecence & Remote_homology\n"
     ]
    },
    {
     "name": "stderr",
     "output_type": "stream",
     "text": [
      "12it [00:01,  7.01it/s]\n",
      "Computing label-to-label distances: 100%|██████████| 192/192 [00:21<00:00,  8.99it/s]\n"
     ]
    },
    {
     "name": "stdout",
     "output_type": "stream",
     "text": [
      "Computing inter label-to-label distance for Fluoresecence & Secondary_structrue\n"
     ]
    },
    {
     "name": "stderr",
     "output_type": "stream",
     "text": [
      "12it [00:01,  8.87it/s]\n",
      "Computing label-to-label distances: 100%|██████████| 180/180 [00:17<00:00, 10.16it/s]\n"
     ]
    },
    {
     "name": "stdout",
     "output_type": "stream",
     "text": [
      "Computing inter label-to-label distance for Fluoresecence & Pdbbind\n"
     ]
    },
    {
     "name": "stderr",
     "output_type": "stream",
     "text": [
      "11it [00:00, 15.29it/s]\n",
      "Computing label-to-label distances: 100%|██████████| 132/132 [00:10<00:00, 12.08it/s]\n"
     ]
    },
    {
     "name": "stdout",
     "output_type": "stream",
     "text": [
      "Computing inter label-to-label distance for Fluoresecence & Kinase\n"
     ]
    },
    {
     "name": "stderr",
     "output_type": "stream",
     "text": [
      "2it [00:00,  3.84it/s]\n",
      "Computing label-to-label distances: 100%|██████████| 24/24 [00:01<00:00, 13.56it/s]\n"
     ]
    },
    {
     "name": "stdout",
     "output_type": "stream",
     "text": [
      "Computing inter label-to-label distance for Remote_homology & Secondary_structrue\n"
     ]
    },
    {
     "name": "stderr",
     "output_type": "stream",
     "text": [
      "15it [00:01, 14.49it/s]\n",
      "Computing label-to-label distances: 100%|██████████| 240/240 [00:22<00:00, 10.69it/s]\n"
     ]
    },
    {
     "name": "stdout",
     "output_type": "stream",
     "text": [
      "Computing inter label-to-label distance for Remote_homology & Pdbbind\n"
     ]
    },
    {
     "name": "stderr",
     "output_type": "stream",
     "text": [
      "11it [00:01, 10.67it/s]\n",
      "Computing label-to-label distances: 100%|██████████| 176/176 [00:18<00:00,  9.41it/s]\n"
     ]
    },
    {
     "name": "stdout",
     "output_type": "stream",
     "text": [
      "Computing inter label-to-label distance for Remote_homology & Kinase\n"
     ]
    },
    {
     "name": "stderr",
     "output_type": "stream",
     "text": [
      "2it [00:00, 17.01it/s]\n",
      "Computing label-to-label distances: 100%|██████████| 32/32 [00:04<00:00,  7.54it/s]\n"
     ]
    },
    {
     "name": "stdout",
     "output_type": "stream",
     "text": [
      "Computing inter label-to-label distance for Secondary_structrue & Pdbbind\n"
     ]
    },
    {
     "name": "stderr",
     "output_type": "stream",
     "text": [
      "11it [00:00, 17.03it/s]\n",
      "Computing label-to-label distances: 100%|██████████| 165/165 [00:19<00:00,  8.61it/s]\n"
     ]
    },
    {
     "name": "stdout",
     "output_type": "stream",
     "text": [
      "Computing inter label-to-label distance for Secondary_structrue & Kinase\n"
     ]
    },
    {
     "name": "stderr",
     "output_type": "stream",
     "text": [
      "2it [00:00,  6.57it/s]\n",
      "Computing label-to-label distances: 100%|██████████| 30/30 [00:02<00:00, 14.86it/s]\n"
     ]
    },
    {
     "name": "stdout",
     "output_type": "stream",
     "text": [
      "Computing inter label-to-label distance for Pdbbind & Kinase\n"
     ]
    },
    {
     "name": "stderr",
     "output_type": "stream",
     "text": [
      "2it [00:00, 16.13it/s]\n",
      "Computing label-to-label distances: 100%|██████████| 22/22 [00:01<00:00, 11.21it/s]\n"
     ]
    },
    {
     "name": "stdout",
     "output_type": "stream",
     "text": [
      "Computing intra label-to-label distance for mlm\n"
     ]
    },
    {
     "name": "stderr",
     "output_type": "stream",
     "text": [
      "15it [00:00, 16.79it/s]\n",
      "Computing label-to-label distances: 100%|██████████| 105/105 [00:10<00:00,  9.55it/s]\n"
     ]
    },
    {
     "name": "stdout",
     "output_type": "stream",
     "text": [
      "Computing intra label-to-label distance for domain\n"
     ]
    },
    {
     "name": "stderr",
     "output_type": "stream",
     "text": [
      "13it [00:00, 19.79it/s]\n",
      "Computing label-to-label distances: 100%|██████████| 78/78 [00:06<00:00, 11.35it/s]\n"
     ]
    },
    {
     "name": "stdout",
     "output_type": "stream",
     "text": [
      "Computing intra label-to-label distance for motif\n"
     ]
    },
    {
     "name": "stderr",
     "output_type": "stream",
     "text": [
      "5it [00:01,  2.97it/s]\n",
      "Computing label-to-label distances: 100%|██████████| 10/10 [00:00<00:00, 10.30it/s]\n"
     ]
    },
    {
     "name": "stdout",
     "output_type": "stream",
     "text": [
      "Computing intra label-to-label distance for region\n"
     ]
    },
    {
     "name": "stderr",
     "output_type": "stream",
     "text": [
      "10it [00:01,  7.30it/s]\n",
      "Computing label-to-label distances: 100%|██████████| 45/45 [00:03<00:00, 13.43it/s]\n"
     ]
    },
    {
     "name": "stdout",
     "output_type": "stream",
     "text": [
      "Computing intra label-to-label distance for Stability\n"
     ]
    },
    {
     "name": "stderr",
     "output_type": "stream",
     "text": [
      "12it [00:00, 17.72it/s]\n",
      "Computing label-to-label distances: 100%|██████████| 66/66 [00:05<00:00, 12.90it/s]\n"
     ]
    },
    {
     "name": "stdout",
     "output_type": "stream",
     "text": [
      "Computing intra label-to-label distance for Fluoresecence\n"
     ]
    },
    {
     "name": "stderr",
     "output_type": "stream",
     "text": [
      "12it [00:01,  8.24it/s]\n",
      "Computing label-to-label distances: 100%|██████████| 66/66 [00:08<00:00,  8.12it/s]\n"
     ]
    },
    {
     "name": "stdout",
     "output_type": "stream",
     "text": [
      "Computing intra label-to-label distance for Remote_homology\n"
     ]
    },
    {
     "name": "stderr",
     "output_type": "stream",
     "text": [
      "16it [00:00, 17.89it/s]\n",
      "Computing label-to-label distances: 100%|██████████| 120/120 [00:13<00:00,  8.94it/s]\n"
     ]
    },
    {
     "name": "stdout",
     "output_type": "stream",
     "text": [
      "Computing intra label-to-label distance for Secondary_structrue\n"
     ]
    },
    {
     "name": "stderr",
     "output_type": "stream",
     "text": [
      "15it [00:00, 17.10it/s]\n",
      "Computing label-to-label distances: 100%|██████████| 105/105 [00:11<00:00,  9.19it/s]\n"
     ]
    },
    {
     "name": "stdout",
     "output_type": "stream",
     "text": [
      "Computing intra label-to-label distance for Pdbbind\n"
     ]
    },
    {
     "name": "stderr",
     "output_type": "stream",
     "text": [
      "11it [00:01, 10.73it/s]\n",
      "Computing label-to-label distances: 100%|██████████| 55/55 [00:03<00:00, 14.31it/s]\n"
     ]
    },
    {
     "name": "stdout",
     "output_type": "stream",
     "text": [
      "Computing intra label-to-label distance for Kinase\n"
     ]
    },
    {
     "name": "stderr",
     "output_type": "stream",
     "text": [
      "2it [00:00, 17.60it/s]\n",
      "Computing label-to-label distances: 100%|██████████| 1/1 [00:00<00:00,  4.24it/s]\n"
     ]
    },
    {
     "name": "stdout",
     "output_type": "stream",
     "text": [
      "Finish label embedding in 11.6 mins\n",
      "Wasserstein embedding...\n",
      "Finish WTE in 11.6 mins\n",
      "(1, 6) \n",
      " ==== x ==== ==== x ==== ==== x ==== ==== x ==== ==== x ==== \n",
      "Start computing for Pretrain-MultiTask: GO+RMD\n",
      "PRE-TRAIN domain unique labels: 13\n",
      "{0: 173, 1: 165, 2: 121, 3: 89, 4: 88, 5: 64, 6: 59, 7: 53, 8: 50, 9: 47, 10: 46, 11: 45, 12: 45}\n",
      "PRE-TRAIN motif unique labels: 5\n",
      "{0: 843, 1: 59, 2: 50, 3: 47, 4: 46}\n",
      "PRE-TRAIN region unique labels: 10\n",
      "{0: 202, 1: 173, 2: 165, 3: 121, 4: 89, 5: 88, 6: 64, 7: 53, 8: 45, 9: 45}\n",
      "PRE-TRAIN go unique labels: 9\n",
      "{0: 347, 1: 229, 2: 133, 3: 89, 4: 59, 5: 50, 6: 47, 7: 46, 8: 45}\n",
      "Stability unique labels: 12\n",
      "{0: 101, 1: 87, 2: 83, 3: 57, 4: 53, 5: 34, 6: 27, 7: 20, 8: 14, 9: 11, 10: 7, 11: 6}\n",
      "Fluoresecence unique labels: 12\n",
      "{0: 142, 1: 83, 2: 80, 3: 48, 4: 38, 5: 35, 6: 20, 7: 20, 8: 14, 9: 9, 10: 6, 11: 5}\n",
      "Remote_homology unique labels: 16\n",
      "{0: 136, 1: 126, 2: 96, 3: 26, 4: 20, 5: 14, 6: 11, 7: 11, 8: 9, 9: 9, 10: 8, 11: 8, 12: 7, 13: 7, 14: 6, 15: 6}\n",
      "Secondary_structrue unique labels: 15\n",
      "{9: 55, 3: 50, 1: 46, 14: 45, 8: 42, 7: 38, 13: 38, 0: 32, 6: 30, 11: 28, 2: 25, 5: 23, 12: 19, 10: 17, 4: 12}\n",
      "Pdbbind unique labels: 11\n",
      "{0: 81, 1: 70, 2: 66, 3: 58, 4: 57, 5: 56, 6: 33, 7: 28, 8: 28, 9: 18, 10: 5}\n",
      "Kinase unique labels: 2\n",
      "{0: 398, 1: 102}\n",
      "Embedding labels...\n",
      "Computing inter label-to-label distance for domain & motif\n"
     ]
    },
    {
     "name": "stderr",
     "output_type": "stream",
     "text": [
      "5it [00:01,  4.69it/s]\n",
      "Computing label-to-label distances: 100%|██████████| 65/65 [00:04<00:00, 13.93it/s]\n"
     ]
    },
    {
     "name": "stdout",
     "output_type": "stream",
     "text": [
      "Computing inter label-to-label distance for domain & region\n"
     ]
    },
    {
     "name": "stderr",
     "output_type": "stream",
     "text": [
      "10it [00:02,  4.43it/s]\n",
      "Computing label-to-label distances: 100%|██████████| 130/130 [00:11<00:00, 10.90it/s]\n"
     ]
    },
    {
     "name": "stdout",
     "output_type": "stream",
     "text": [
      "Computing inter label-to-label distance for domain & go\n"
     ]
    },
    {
     "name": "stderr",
     "output_type": "stream",
     "text": [
      "9it [00:00, 10.95it/s]\n",
      "Computing label-to-label distances: 100%|██████████| 117/117 [00:10<00:00, 10.73it/s]\n"
     ]
    },
    {
     "name": "stdout",
     "output_type": "stream",
     "text": [
      "Computing inter label-to-label distance for domain & Stability\n"
     ]
    },
    {
     "name": "stderr",
     "output_type": "stream",
     "text": [
      "12it [00:01,  7.76it/s]\n",
      "Computing label-to-label distances: 100%|██████████| 156/156 [00:16<00:00,  9.21it/s]\n"
     ]
    },
    {
     "name": "stdout",
     "output_type": "stream",
     "text": [
      "Computing inter label-to-label distance for domain & Fluoresecence\n"
     ]
    },
    {
     "name": "stderr",
     "output_type": "stream",
     "text": [
      "12it [00:01, 10.18it/s]\n",
      "Computing label-to-label distances: 100%|██████████| 156/156 [00:14<00:00, 11.01it/s]\n"
     ]
    },
    {
     "name": "stdout",
     "output_type": "stream",
     "text": [
      "Computing inter label-to-label distance for domain & Remote_homology\n"
     ]
    },
    {
     "name": "stderr",
     "output_type": "stream",
     "text": [
      "13it [00:01, 12.85it/s]\n",
      "Computing label-to-label distances: 100%|██████████| 208/208 [00:22<00:00,  9.33it/s]\n"
     ]
    },
    {
     "name": "stdout",
     "output_type": "stream",
     "text": [
      "Computing inter label-to-label distance for domain & Secondary_structrue\n"
     ]
    },
    {
     "name": "stderr",
     "output_type": "stream",
     "text": [
      "13it [00:00, 15.05it/s]\n",
      "Computing label-to-label distances: 100%|██████████| 195/195 [00:18<00:00, 10.40it/s]\n"
     ]
    },
    {
     "name": "stdout",
     "output_type": "stream",
     "text": [
      "Computing inter label-to-label distance for domain & Pdbbind\n"
     ]
    },
    {
     "name": "stderr",
     "output_type": "stream",
     "text": [
      "11it [00:01, 10.06it/s]\n",
      "Computing label-to-label distances: 100%|██████████| 143/143 [00:15<00:00,  9.48it/s]\n"
     ]
    },
    {
     "name": "stdout",
     "output_type": "stream",
     "text": [
      "Computing inter label-to-label distance for domain & Kinase\n"
     ]
    },
    {
     "name": "stderr",
     "output_type": "stream",
     "text": [
      "2it [00:00,  7.22it/s]\n",
      "Computing label-to-label distances: 100%|██████████| 26/26 [00:02<00:00, 10.05it/s]\n"
     ]
    },
    {
     "name": "stdout",
     "output_type": "stream",
     "text": [
      "Computing inter label-to-label distance for motif & region\n"
     ]
    },
    {
     "name": "stderr",
     "output_type": "stream",
     "text": [
      "5it [00:00,  6.89it/s]\n",
      "Computing label-to-label distances: 100%|██████████| 50/50 [00:03<00:00, 13.50it/s]\n"
     ]
    },
    {
     "name": "stdout",
     "output_type": "stream",
     "text": [
      "Computing inter label-to-label distance for motif & go\n"
     ]
    },
    {
     "name": "stderr",
     "output_type": "stream",
     "text": [
      "5it [00:00,  6.60it/s]\n",
      "Computing label-to-label distances: 100%|██████████| 45/45 [00:04<00:00, 10.61it/s]\n"
     ]
    },
    {
     "name": "stdout",
     "output_type": "stream",
     "text": [
      "Computing inter label-to-label distance for motif & Stability\n"
     ]
    },
    {
     "name": "stderr",
     "output_type": "stream",
     "text": [
      "5it [00:00, 11.07it/s]\n",
      "Computing label-to-label distances: 100%|██████████| 60/60 [00:06<00:00,  8.57it/s]\n"
     ]
    },
    {
     "name": "stdout",
     "output_type": "stream",
     "text": [
      "Computing inter label-to-label distance for motif & Fluoresecence\n"
     ]
    },
    {
     "name": "stderr",
     "output_type": "stream",
     "text": [
      "5it [00:00, 19.50it/s]\n",
      "Computing label-to-label distances: 100%|██████████| 60/60 [00:04<00:00, 13.44it/s]\n"
     ]
    },
    {
     "name": "stdout",
     "output_type": "stream",
     "text": [
      "Computing inter label-to-label distance for motif & Remote_homology\n"
     ]
    },
    {
     "name": "stderr",
     "output_type": "stream",
     "text": [
      "5it [00:00, 14.06it/s]\n",
      "Computing label-to-label distances: 100%|██████████| 80/80 [00:06<00:00, 12.37it/s]\n"
     ]
    },
    {
     "name": "stdout",
     "output_type": "stream",
     "text": [
      "Computing inter label-to-label distance for motif & Secondary_structrue\n"
     ]
    },
    {
     "name": "stderr",
     "output_type": "stream",
     "text": [
      "5it [00:00,  9.27it/s]\n",
      "Computing label-to-label distances: 100%|██████████| 75/75 [00:06<00:00, 11.91it/s]\n"
     ]
    },
    {
     "name": "stdout",
     "output_type": "stream",
     "text": [
      "Computing inter label-to-label distance for motif & Pdbbind\n"
     ]
    },
    {
     "name": "stderr",
     "output_type": "stream",
     "text": [
      "5it [00:00, 14.71it/s]\n",
      "Computing label-to-label distances: 100%|██████████| 55/55 [00:06<00:00,  7.97it/s]\n"
     ]
    },
    {
     "name": "stdout",
     "output_type": "stream",
     "text": [
      "Computing inter label-to-label distance for motif & Kinase\n"
     ]
    },
    {
     "name": "stderr",
     "output_type": "stream",
     "text": [
      "2it [00:01,  1.89it/s]\n",
      "Computing label-to-label distances: 100%|██████████| 10/10 [00:01<00:00,  7.53it/s]\n"
     ]
    },
    {
     "name": "stdout",
     "output_type": "stream",
     "text": [
      "Computing inter label-to-label distance for region & go\n"
     ]
    },
    {
     "name": "stderr",
     "output_type": "stream",
     "text": [
      "9it [00:00, 13.76it/s]\n",
      "Computing label-to-label distances: 100%|██████████| 90/90 [00:08<00:00, 10.03it/s]\n"
     ]
    },
    {
     "name": "stdout",
     "output_type": "stream",
     "text": [
      "Computing inter label-to-label distance for region & Stability\n"
     ]
    },
    {
     "name": "stderr",
     "output_type": "stream",
     "text": [
      "10it [00:00, 16.34it/s]\n",
      "Computing label-to-label distances: 100%|██████████| 120/120 [00:11<00:00, 10.76it/s]\n"
     ]
    },
    {
     "name": "stdout",
     "output_type": "stream",
     "text": [
      "Computing inter label-to-label distance for region & Fluoresecence\n"
     ]
    },
    {
     "name": "stderr",
     "output_type": "stream",
     "text": [
      "10it [00:01,  5.88it/s]\n",
      "Computing label-to-label distances: 100%|██████████| 120/120 [00:09<00:00, 12.40it/s]\n"
     ]
    },
    {
     "name": "stdout",
     "output_type": "stream",
     "text": [
      "Computing inter label-to-label distance for region & Remote_homology\n"
     ]
    },
    {
     "name": "stderr",
     "output_type": "stream",
     "text": [
      "10it [00:02,  4.46it/s]\n",
      "Computing label-to-label distances: 100%|██████████| 160/160 [00:12<00:00, 12.50it/s]\n"
     ]
    },
    {
     "name": "stdout",
     "output_type": "stream",
     "text": [
      "Computing inter label-to-label distance for region & Secondary_structrue\n"
     ]
    },
    {
     "name": "stderr",
     "output_type": "stream",
     "text": [
      "10it [00:00, 14.24it/s]\n",
      "Computing label-to-label distances: 100%|██████████| 150/150 [00:15<00:00,  9.43it/s]\n"
     ]
    },
    {
     "name": "stdout",
     "output_type": "stream",
     "text": [
      "Computing inter label-to-label distance for region & Pdbbind\n"
     ]
    },
    {
     "name": "stderr",
     "output_type": "stream",
     "text": [
      "10it [00:01,  5.47it/s]\n",
      "Computing label-to-label distances: 100%|██████████| 110/110 [00:18<00:00,  6.07it/s]\n"
     ]
    },
    {
     "name": "stdout",
     "output_type": "stream",
     "text": [
      "Computing inter label-to-label distance for region & Kinase\n"
     ]
    },
    {
     "name": "stderr",
     "output_type": "stream",
     "text": [
      "2it [00:00,  2.88it/s]\n",
      "Computing label-to-label distances: 100%|██████████| 20/20 [00:08<00:00,  2.43it/s]\n"
     ]
    },
    {
     "name": "stdout",
     "output_type": "stream",
     "text": [
      "Computing inter label-to-label distance for go & Stability\n"
     ]
    },
    {
     "name": "stderr",
     "output_type": "stream",
     "text": [
      "9it [00:02,  3.51it/s]\n",
      "Computing label-to-label distances: 100%|██████████| 108/108 [00:38<00:00,  2.78it/s]\n"
     ]
    },
    {
     "name": "stdout",
     "output_type": "stream",
     "text": [
      "Computing inter label-to-label distance for go & Fluoresecence\n"
     ]
    },
    {
     "name": "stderr",
     "output_type": "stream",
     "text": [
      "9it [00:04,  1.82it/s]\n",
      "Computing label-to-label distances: 100%|██████████| 108/108 [00:45<00:00,  2.36it/s]\n"
     ]
    },
    {
     "name": "stdout",
     "output_type": "stream",
     "text": [
      "Computing inter label-to-label distance for go & Remote_homology\n"
     ]
    },
    {
     "name": "stderr",
     "output_type": "stream",
     "text": [
      "9it [00:02,  3.90it/s]\n",
      "Computing label-to-label distances: 100%|██████████| 144/144 [00:55<00:00,  2.59it/s]\n"
     ]
    },
    {
     "name": "stdout",
     "output_type": "stream",
     "text": [
      "Computing inter label-to-label distance for go & Secondary_structrue\n"
     ]
    },
    {
     "name": "stderr",
     "output_type": "stream",
     "text": [
      "9it [00:04,  1.84it/s]\n",
      "Computing label-to-label distances: 100%|██████████| 135/135 [00:35<00:00,  3.77it/s]\n"
     ]
    },
    {
     "name": "stdout",
     "output_type": "stream",
     "text": [
      "Computing inter label-to-label distance for go & Pdbbind\n"
     ]
    },
    {
     "name": "stderr",
     "output_type": "stream",
     "text": [
      "9it [00:05,  1.69it/s]\n",
      "Computing label-to-label distances: 100%|██████████| 99/99 [00:17<00:00,  5.55it/s]\n"
     ]
    },
    {
     "name": "stdout",
     "output_type": "stream",
     "text": [
      "Computing inter label-to-label distance for go & Kinase\n"
     ]
    },
    {
     "name": "stderr",
     "output_type": "stream",
     "text": [
      "2it [00:00, 11.29it/s]\n",
      "Computing label-to-label distances: 100%|██████████| 18/18 [00:01<00:00, 17.60it/s]\n"
     ]
    },
    {
     "name": "stdout",
     "output_type": "stream",
     "text": [
      "Computing inter label-to-label distance for Stability & Fluoresecence\n"
     ]
    },
    {
     "name": "stderr",
     "output_type": "stream",
     "text": [
      "12it [00:00, 19.19it/s]\n",
      "Computing label-to-label distances: 100%|██████████| 144/144 [00:07<00:00, 19.92it/s]\n"
     ]
    },
    {
     "name": "stdout",
     "output_type": "stream",
     "text": [
      "Computing inter label-to-label distance for Stability & Remote_homology\n"
     ]
    },
    {
     "name": "stderr",
     "output_type": "stream",
     "text": [
      "12it [00:00, 20.46it/s]\n",
      "Computing label-to-label distances: 100%|██████████| 192/192 [00:09<00:00, 19.29it/s]\n"
     ]
    },
    {
     "name": "stdout",
     "output_type": "stream",
     "text": [
      "Computing inter label-to-label distance for Stability & Secondary_structrue\n"
     ]
    },
    {
     "name": "stderr",
     "output_type": "stream",
     "text": [
      "12it [00:00, 19.09it/s]\n",
      "Computing label-to-label distances: 100%|██████████| 180/180 [00:08<00:00, 20.02it/s]\n"
     ]
    },
    {
     "name": "stdout",
     "output_type": "stream",
     "text": [
      "Computing inter label-to-label distance for Stability & Pdbbind\n"
     ]
    },
    {
     "name": "stderr",
     "output_type": "stream",
     "text": [
      "11it [00:00, 21.33it/s]\n",
      "Computing label-to-label distances: 100%|██████████| 132/132 [00:06<00:00, 19.98it/s]\n"
     ]
    },
    {
     "name": "stdout",
     "output_type": "stream",
     "text": [
      "Computing inter label-to-label distance for Stability & Kinase\n"
     ]
    },
    {
     "name": "stderr",
     "output_type": "stream",
     "text": [
      "2it [00:00, 16.79it/s]\n",
      "Computing label-to-label distances: 100%|██████████| 24/24 [00:01<00:00, 19.63it/s]\n"
     ]
    },
    {
     "name": "stdout",
     "output_type": "stream",
     "text": [
      "Computing inter label-to-label distance for Fluoresecence & Remote_homology\n"
     ]
    },
    {
     "name": "stderr",
     "output_type": "stream",
     "text": [
      "12it [00:00, 21.02it/s]\n",
      "Computing label-to-label distances: 100%|██████████| 192/192 [00:09<00:00, 19.97it/s]\n"
     ]
    },
    {
     "name": "stdout",
     "output_type": "stream",
     "text": [
      "Computing inter label-to-label distance for Fluoresecence & Secondary_structrue\n"
     ]
    },
    {
     "name": "stderr",
     "output_type": "stream",
     "text": [
      "12it [00:00, 19.88it/s]\n",
      "Computing label-to-label distances: 100%|██████████| 180/180 [00:09<00:00, 19.70it/s]\n"
     ]
    },
    {
     "name": "stdout",
     "output_type": "stream",
     "text": [
      "Computing inter label-to-label distance for Fluoresecence & Pdbbind\n"
     ]
    },
    {
     "name": "stderr",
     "output_type": "stream",
     "text": [
      "11it [00:00, 18.13it/s]\n",
      "Computing label-to-label distances: 100%|██████████| 132/132 [00:06<00:00, 19.84it/s]\n"
     ]
    },
    {
     "name": "stdout",
     "output_type": "stream",
     "text": [
      "Computing inter label-to-label distance for Fluoresecence & Kinase\n"
     ]
    },
    {
     "name": "stderr",
     "output_type": "stream",
     "text": [
      "2it [00:00, 18.08it/s]\n",
      "Computing label-to-label distances: 100%|██████████| 24/24 [00:01<00:00, 19.62it/s]\n"
     ]
    },
    {
     "name": "stdout",
     "output_type": "stream",
     "text": [
      "Computing inter label-to-label distance for Remote_homology & Secondary_structrue\n"
     ]
    },
    {
     "name": "stderr",
     "output_type": "stream",
     "text": [
      "15it [00:00, 20.01it/s]\n",
      "Computing label-to-label distances: 100%|██████████| 240/240 [00:11<00:00, 20.49it/s]\n"
     ]
    },
    {
     "name": "stdout",
     "output_type": "stream",
     "text": [
      "Computing inter label-to-label distance for Remote_homology & Pdbbind\n"
     ]
    },
    {
     "name": "stderr",
     "output_type": "stream",
     "text": [
      "11it [00:00, 21.14it/s]\n",
      "Computing label-to-label distances: 100%|██████████| 176/176 [00:08<00:00, 20.24it/s]\n"
     ]
    },
    {
     "name": "stdout",
     "output_type": "stream",
     "text": [
      "Computing inter label-to-label distance for Remote_homology & Kinase\n"
     ]
    },
    {
     "name": "stderr",
     "output_type": "stream",
     "text": [
      "2it [00:00, 17.75it/s]\n",
      "Computing label-to-label distances: 100%|██████████| 32/32 [00:01<00:00, 20.49it/s]\n"
     ]
    },
    {
     "name": "stdout",
     "output_type": "stream",
     "text": [
      "Computing inter label-to-label distance for Secondary_structrue & Pdbbind\n"
     ]
    },
    {
     "name": "stderr",
     "output_type": "stream",
     "text": [
      "11it [00:00, 20.97it/s]\n",
      "Computing label-to-label distances: 100%|██████████| 165/165 [00:08<00:00, 20.03it/s]\n"
     ]
    },
    {
     "name": "stdout",
     "output_type": "stream",
     "text": [
      "Computing inter label-to-label distance for Secondary_structrue & Kinase\n"
     ]
    },
    {
     "name": "stderr",
     "output_type": "stream",
     "text": [
      "2it [00:00, 17.88it/s]\n",
      "Computing label-to-label distances: 100%|██████████| 30/30 [00:01<00:00, 20.39it/s]\n"
     ]
    },
    {
     "name": "stdout",
     "output_type": "stream",
     "text": [
      "Computing inter label-to-label distance for Pdbbind & Kinase\n"
     ]
    },
    {
     "name": "stderr",
     "output_type": "stream",
     "text": [
      "2it [00:00, 17.21it/s]\n",
      "Computing label-to-label distances: 100%|██████████| 22/22 [00:01<00:00, 19.86it/s]\n"
     ]
    },
    {
     "name": "stdout",
     "output_type": "stream",
     "text": [
      "Computing intra label-to-label distance for domain\n"
     ]
    },
    {
     "name": "stderr",
     "output_type": "stream",
     "text": [
      "13it [00:00, 20.72it/s]\n",
      "Computing label-to-label distances: 100%|██████████| 78/78 [00:03<00:00, 20.70it/s]\n"
     ]
    },
    {
     "name": "stdout",
     "output_type": "stream",
     "text": [
      "Computing intra label-to-label distance for motif\n"
     ]
    },
    {
     "name": "stderr",
     "output_type": "stream",
     "text": [
      "5it [00:00, 19.40it/s]\n",
      "Computing label-to-label distances: 100%|██████████| 10/10 [00:00<00:00, 20.81it/s]\n"
     ]
    },
    {
     "name": "stdout",
     "output_type": "stream",
     "text": [
      "Computing intra label-to-label distance for region\n"
     ]
    },
    {
     "name": "stderr",
     "output_type": "stream",
     "text": [
      "10it [00:00, 19.31it/s]\n",
      "Computing label-to-label distances: 100%|██████████| 45/45 [00:02<00:00, 20.22it/s]\n"
     ]
    },
    {
     "name": "stdout",
     "output_type": "stream",
     "text": [
      "Computing intra label-to-label distance for go\n"
     ]
    },
    {
     "name": "stderr",
     "output_type": "stream",
     "text": [
      "9it [00:00, 20.37it/s]\n",
      "Computing label-to-label distances: 100%|██████████| 36/36 [00:01<00:00, 20.75it/s]\n"
     ]
    },
    {
     "name": "stdout",
     "output_type": "stream",
     "text": [
      "Computing intra label-to-label distance for Stability\n"
     ]
    },
    {
     "name": "stderr",
     "output_type": "stream",
     "text": [
      "12it [00:00, 20.32it/s]\n",
      "Computing label-to-label distances: 100%|██████████| 66/66 [00:03<00:00, 20.07it/s]\n"
     ]
    },
    {
     "name": "stdout",
     "output_type": "stream",
     "text": [
      "Computing intra label-to-label distance for Fluoresecence\n"
     ]
    },
    {
     "name": "stderr",
     "output_type": "stream",
     "text": [
      "12it [00:00, 20.05it/s]\n",
      "Computing label-to-label distances: 100%|██████████| 66/66 [00:03<00:00, 19.38it/s]\n"
     ]
    },
    {
     "name": "stdout",
     "output_type": "stream",
     "text": [
      "Computing intra label-to-label distance for Remote_homology\n"
     ]
    },
    {
     "name": "stderr",
     "output_type": "stream",
     "text": [
      "16it [00:00, 21.15it/s]\n",
      "Computing label-to-label distances: 100%|██████████| 120/120 [00:05<00:00, 20.20it/s]\n"
     ]
    },
    {
     "name": "stdout",
     "output_type": "stream",
     "text": [
      "Computing intra label-to-label distance for Secondary_structrue\n"
     ]
    },
    {
     "name": "stderr",
     "output_type": "stream",
     "text": [
      "15it [00:00, 20.92it/s]\n",
      "Computing label-to-label distances: 100%|██████████| 105/105 [00:05<00:00, 19.92it/s]\n"
     ]
    },
    {
     "name": "stdout",
     "output_type": "stream",
     "text": [
      "Computing intra label-to-label distance for Pdbbind\n"
     ]
    },
    {
     "name": "stderr",
     "output_type": "stream",
     "text": [
      "11it [00:00, 19.36it/s]\n",
      "Computing label-to-label distances: 100%|██████████| 55/55 [00:02<00:00, 20.90it/s]\n"
     ]
    },
    {
     "name": "stdout",
     "output_type": "stream",
     "text": [
      "Computing intra label-to-label distance for Kinase\n"
     ]
    },
    {
     "name": "stderr",
     "output_type": "stream",
     "text": [
      "2it [00:00, 16.35it/s]\n",
      "Computing label-to-label distances: 100%|██████████| 1/1 [00:00<00:00, 20.47it/s]\n"
     ]
    },
    {
     "name": "stdout",
     "output_type": "stream",
     "text": [
      "Finish label embedding in 10.9 mins\n",
      "Wasserstein embedding...\n",
      "Finish WTE in 10.9 mins\n",
      "(1, 6) \n",
      " ==== x ==== ==== x ==== ==== x ==== ==== x ==== ==== x ==== \n",
      "Start computing for Pretrain-MultiTask: MLM+GO+D\n",
      "PRE-TRAIN mlm unique labels: 15\n",
      "{2: 148, 10: 117, 6: 116, 8: 101, 9: 98, 4: 95, 5: 59, 14: 54, 1: 49, 3: 47, 7: 46, 12: 45, 0: 45, 11: 13, 13: 12}\n",
      "PRE-TRAIN domain unique labels: 13\n",
      "{0: 173, 1: 165, 2: 121, 3: 89, 4: 88, 5: 64, 6: 59, 7: 53, 8: 50, 9: 47, 10: 46, 11: 45, 12: 45}\n",
      "PRE-TRAIN go unique labels: 9\n",
      "{0: 347, 1: 229, 2: 133, 3: 89, 4: 59, 5: 50, 6: 47, 7: 46, 8: 45}\n",
      "Stability unique labels: 12\n",
      "{0: 101, 1: 87, 2: 83, 3: 57, 4: 53, 5: 34, 6: 27, 7: 20, 8: 14, 9: 11, 10: 7, 11: 6}\n",
      "Fluoresecence unique labels: 12\n",
      "{0: 142, 1: 83, 2: 80, 3: 48, 4: 38, 5: 35, 6: 20, 7: 20, 8: 14, 9: 9, 10: 6, 11: 5}\n",
      "Remote_homology unique labels: 16\n",
      "{0: 136, 1: 126, 2: 96, 3: 26, 4: 20, 5: 14, 6: 11, 7: 11, 8: 9, 9: 9, 10: 8, 11: 8, 12: 7, 13: 7, 14: 6, 15: 6}\n",
      "Secondary_structrue unique labels: 15\n",
      "{9: 55, 3: 50, 1: 46, 14: 45, 8: 42, 7: 38, 13: 38, 0: 32, 6: 30, 11: 28, 2: 25, 5: 23, 12: 19, 10: 17, 4: 12}\n",
      "Pdbbind unique labels: 11\n",
      "{0: 81, 1: 70, 2: 66, 3: 58, 4: 57, 5: 56, 6: 33, 7: 28, 8: 28, 9: 18, 10: 5}\n",
      "Kinase unique labels: 2\n",
      "{0: 398, 1: 102}\n",
      "Embedding labels...\n",
      "Computing inter label-to-label distance for mlm & domain\n"
     ]
    },
    {
     "name": "stderr",
     "output_type": "stream",
     "text": [
      "13it [00:00, 19.51it/s]\n",
      "Computing label-to-label distances: 100%|██████████| 195/195 [00:09<00:00, 20.33it/s]\n"
     ]
    },
    {
     "name": "stdout",
     "output_type": "stream",
     "text": [
      "Computing inter label-to-label distance for mlm & go\n"
     ]
    },
    {
     "name": "stderr",
     "output_type": "stream",
     "text": [
      "9it [00:00, 18.74it/s]\n",
      "Computing label-to-label distances: 100%|██████████| 135/135 [00:06<00:00, 19.86it/s]\n"
     ]
    },
    {
     "name": "stdout",
     "output_type": "stream",
     "text": [
      "Computing inter label-to-label distance for mlm & Stability\n"
     ]
    },
    {
     "name": "stderr",
     "output_type": "stream",
     "text": [
      "12it [00:00, 18.70it/s]\n",
      "Computing label-to-label distances: 100%|██████████| 180/180 [00:09<00:00, 19.98it/s]\n"
     ]
    },
    {
     "name": "stdout",
     "output_type": "stream",
     "text": [
      "Computing inter label-to-label distance for mlm & Fluoresecence\n"
     ]
    },
    {
     "name": "stderr",
     "output_type": "stream",
     "text": [
      "12it [00:00, 19.96it/s]\n",
      "Computing label-to-label distances: 100%|██████████| 180/180 [00:08<00:00, 20.37it/s]\n"
     ]
    },
    {
     "name": "stdout",
     "output_type": "stream",
     "text": [
      "Computing inter label-to-label distance for mlm & Remote_homology\n"
     ]
    },
    {
     "name": "stderr",
     "output_type": "stream",
     "text": [
      "15it [00:00, 20.03it/s]\n",
      "Computing label-to-label distances: 100%|██████████| 240/240 [00:12<00:00, 19.97it/s]\n"
     ]
    },
    {
     "name": "stdout",
     "output_type": "stream",
     "text": [
      "Computing inter label-to-label distance for mlm & Secondary_structrue\n"
     ]
    },
    {
     "name": "stderr",
     "output_type": "stream",
     "text": [
      "15it [00:00, 20.93it/s]\n",
      "Computing label-to-label distances: 100%|██████████| 225/225 [00:11<00:00, 19.81it/s]\n"
     ]
    },
    {
     "name": "stdout",
     "output_type": "stream",
     "text": [
      "Computing inter label-to-label distance for mlm & Pdbbind\n"
     ]
    },
    {
     "name": "stderr",
     "output_type": "stream",
     "text": [
      "11it [00:00, 20.51it/s]\n",
      "Computing label-to-label distances: 100%|██████████| 165/165 [00:08<00:00, 20.38it/s]\n"
     ]
    },
    {
     "name": "stdout",
     "output_type": "stream",
     "text": [
      "Computing inter label-to-label distance for mlm & Kinase\n"
     ]
    },
    {
     "name": "stderr",
     "output_type": "stream",
     "text": [
      "2it [00:00, 17.53it/s]\n",
      "Computing label-to-label distances: 100%|██████████| 30/30 [00:01<00:00, 20.37it/s]\n"
     ]
    },
    {
     "name": "stdout",
     "output_type": "stream",
     "text": [
      "Computing inter label-to-label distance for domain & go\n"
     ]
    },
    {
     "name": "stderr",
     "output_type": "stream",
     "text": [
      "9it [00:00, 20.63it/s]\n",
      "Computing label-to-label distances: 100%|██████████| 117/117 [00:05<00:00, 19.88it/s]\n"
     ]
    },
    {
     "name": "stdout",
     "output_type": "stream",
     "text": [
      "Computing inter label-to-label distance for domain & Stability\n"
     ]
    },
    {
     "name": "stderr",
     "output_type": "stream",
     "text": [
      "12it [00:00, 19.10it/s]\n",
      "Computing label-to-label distances: 100%|██████████| 156/156 [00:07<00:00, 20.18it/s]\n"
     ]
    },
    {
     "name": "stdout",
     "output_type": "stream",
     "text": [
      "Computing inter label-to-label distance for domain & Fluoresecence\n"
     ]
    },
    {
     "name": "stderr",
     "output_type": "stream",
     "text": [
      "12it [00:00, 18.64it/s]\n",
      "Computing label-to-label distances: 100%|██████████| 156/156 [00:07<00:00, 20.10it/s]\n"
     ]
    },
    {
     "name": "stdout",
     "output_type": "stream",
     "text": [
      "Computing inter label-to-label distance for domain & Remote_homology\n"
     ]
    },
    {
     "name": "stderr",
     "output_type": "stream",
     "text": [
      "13it [00:00, 20.91it/s]\n",
      "Computing label-to-label distances: 100%|██████████| 208/208 [00:10<00:00, 19.97it/s]\n"
     ]
    },
    {
     "name": "stdout",
     "output_type": "stream",
     "text": [
      "Computing inter label-to-label distance for domain & Secondary_structrue\n"
     ]
    },
    {
     "name": "stderr",
     "output_type": "stream",
     "text": [
      "13it [00:00, 20.36it/s]\n",
      "Computing label-to-label distances: 100%|██████████| 195/195 [00:09<00:00, 20.22it/s]\n"
     ]
    },
    {
     "name": "stdout",
     "output_type": "stream",
     "text": [
      "Computing inter label-to-label distance for domain & Pdbbind\n"
     ]
    },
    {
     "name": "stderr",
     "output_type": "stream",
     "text": [
      "11it [00:00, 17.47it/s]\n",
      "Computing label-to-label distances: 100%|██████████| 143/143 [00:07<00:00, 20.09it/s]\n"
     ]
    },
    {
     "name": "stdout",
     "output_type": "stream",
     "text": [
      "Computing inter label-to-label distance for domain & Kinase\n"
     ]
    },
    {
     "name": "stderr",
     "output_type": "stream",
     "text": [
      "2it [00:00, 15.58it/s]\n",
      "Computing label-to-label distances: 100%|██████████| 26/26 [00:01<00:00, 19.19it/s]\n"
     ]
    },
    {
     "name": "stdout",
     "output_type": "stream",
     "text": [
      "Computing inter label-to-label distance for go & Stability\n"
     ]
    },
    {
     "name": "stderr",
     "output_type": "stream",
     "text": [
      "9it [00:00, 18.90it/s]\n",
      "Computing label-to-label distances: 100%|██████████| 108/108 [00:05<00:00, 19.98it/s]\n"
     ]
    },
    {
     "name": "stdout",
     "output_type": "stream",
     "text": [
      "Computing inter label-to-label distance for go & Fluoresecence\n"
     ]
    },
    {
     "name": "stderr",
     "output_type": "stream",
     "text": [
      "9it [00:00, 20.04it/s]\n",
      "Computing label-to-label distances: 100%|██████████| 108/108 [00:05<00:00, 19.89it/s]\n"
     ]
    },
    {
     "name": "stdout",
     "output_type": "stream",
     "text": [
      "Computing inter label-to-label distance for go & Remote_homology\n"
     ]
    },
    {
     "name": "stderr",
     "output_type": "stream",
     "text": [
      "9it [00:00, 19.24it/s]\n",
      "Computing label-to-label distances: 100%|██████████| 144/144 [00:07<00:00, 20.21it/s]\n"
     ]
    },
    {
     "name": "stdout",
     "output_type": "stream",
     "text": [
      "Computing inter label-to-label distance for go & Secondary_structrue\n"
     ]
    },
    {
     "name": "stderr",
     "output_type": "stream",
     "text": [
      "9it [00:00, 19.00it/s]\n",
      "Computing label-to-label distances: 100%|██████████| 135/135 [00:06<00:00, 20.20it/s]\n"
     ]
    },
    {
     "name": "stdout",
     "output_type": "stream",
     "text": [
      "Computing inter label-to-label distance for go & Pdbbind\n"
     ]
    },
    {
     "name": "stderr",
     "output_type": "stream",
     "text": [
      "9it [00:00, 19.54it/s]\n",
      "Computing label-to-label distances: 100%|██████████| 99/99 [00:04<00:00, 20.26it/s]\n"
     ]
    },
    {
     "name": "stdout",
     "output_type": "stream",
     "text": [
      "Computing inter label-to-label distance for go & Kinase\n"
     ]
    },
    {
     "name": "stderr",
     "output_type": "stream",
     "text": [
      "2it [00:00, 18.00it/s]\n",
      "Computing label-to-label distances: 100%|██████████| 18/18 [00:00<00:00, 20.48it/s]\n"
     ]
    },
    {
     "name": "stdout",
     "output_type": "stream",
     "text": [
      "Computing inter label-to-label distance for Stability & Fluoresecence\n"
     ]
    },
    {
     "name": "stderr",
     "output_type": "stream",
     "text": [
      "12it [00:00, 19.81it/s]\n",
      "Computing label-to-label distances: 100%|██████████| 144/144 [00:07<00:00, 20.10it/s]\n"
     ]
    },
    {
     "name": "stdout",
     "output_type": "stream",
     "text": [
      "Computing inter label-to-label distance for Stability & Remote_homology\n"
     ]
    },
    {
     "name": "stderr",
     "output_type": "stream",
     "text": [
      "12it [00:00, 20.10it/s]\n",
      "Computing label-to-label distances: 100%|██████████| 192/192 [00:09<00:00, 20.37it/s]\n"
     ]
    },
    {
     "name": "stdout",
     "output_type": "stream",
     "text": [
      "Computing inter label-to-label distance for Stability & Secondary_structrue\n"
     ]
    },
    {
     "name": "stderr",
     "output_type": "stream",
     "text": [
      "12it [00:00, 19.63it/s]\n",
      "Computing label-to-label distances: 100%|██████████| 180/180 [00:09<00:00, 19.87it/s]\n"
     ]
    },
    {
     "name": "stdout",
     "output_type": "stream",
     "text": [
      "Computing inter label-to-label distance for Stability & Pdbbind\n"
     ]
    },
    {
     "name": "stderr",
     "output_type": "stream",
     "text": [
      "11it [00:00, 20.55it/s]\n",
      "Computing label-to-label distances: 100%|██████████| 132/132 [00:06<00:00, 20.25it/s]\n"
     ]
    },
    {
     "name": "stdout",
     "output_type": "stream",
     "text": [
      "Computing inter label-to-label distance for Stability & Kinase\n"
     ]
    },
    {
     "name": "stderr",
     "output_type": "stream",
     "text": [
      "2it [00:00, 20.06it/s]\n",
      "Computing label-to-label distances: 100%|██████████| 24/24 [00:01<00:00, 19.64it/s]\n"
     ]
    },
    {
     "name": "stdout",
     "output_type": "stream",
     "text": [
      "Computing inter label-to-label distance for Fluoresecence & Remote_homology\n"
     ]
    },
    {
     "name": "stderr",
     "output_type": "stream",
     "text": [
      "12it [00:00, 20.55it/s]\n",
      "Computing label-to-label distances: 100%|██████████| 192/192 [00:09<00:00, 20.37it/s]\n"
     ]
    },
    {
     "name": "stdout",
     "output_type": "stream",
     "text": [
      "Computing inter label-to-label distance for Fluoresecence & Secondary_structrue\n"
     ]
    },
    {
     "name": "stderr",
     "output_type": "stream",
     "text": [
      "12it [00:00, 19.75it/s]\n",
      "Computing label-to-label distances: 100%|██████████| 180/180 [00:08<00:00, 20.31it/s]\n"
     ]
    },
    {
     "name": "stdout",
     "output_type": "stream",
     "text": [
      "Computing inter label-to-label distance for Fluoresecence & Pdbbind\n"
     ]
    },
    {
     "name": "stderr",
     "output_type": "stream",
     "text": [
      "11it [00:00, 20.52it/s]\n",
      "Computing label-to-label distances: 100%|██████████| 132/132 [00:06<00:00, 19.81it/s]\n"
     ]
    },
    {
     "name": "stdout",
     "output_type": "stream",
     "text": [
      "Computing inter label-to-label distance for Fluoresecence & Kinase\n"
     ]
    },
    {
     "name": "stderr",
     "output_type": "stream",
     "text": [
      "2it [00:00, 15.24it/s]\n",
      "Computing label-to-label distances: 100%|██████████| 24/24 [00:01<00:00, 20.36it/s]\n"
     ]
    },
    {
     "name": "stdout",
     "output_type": "stream",
     "text": [
      "Computing inter label-to-label distance for Remote_homology & Secondary_structrue\n"
     ]
    },
    {
     "name": "stderr",
     "output_type": "stream",
     "text": [
      "15it [00:00, 19.62it/s]\n",
      "Computing label-to-label distances: 100%|██████████| 240/240 [00:12<00:00, 19.78it/s]\n"
     ]
    },
    {
     "name": "stdout",
     "output_type": "stream",
     "text": [
      "Computing inter label-to-label distance for Remote_homology & Pdbbind\n"
     ]
    },
    {
     "name": "stderr",
     "output_type": "stream",
     "text": [
      "11it [00:00, 20.63it/s]\n",
      "Computing label-to-label distances: 100%|██████████| 176/176 [00:08<00:00, 19.66it/s]\n"
     ]
    },
    {
     "name": "stdout",
     "output_type": "stream",
     "text": [
      "Computing inter label-to-label distance for Remote_homology & Kinase\n"
     ]
    },
    {
     "name": "stderr",
     "output_type": "stream",
     "text": [
      "2it [00:00, 17.54it/s]\n",
      "Computing label-to-label distances: 100%|██████████| 32/32 [00:01<00:00, 19.64it/s]\n"
     ]
    },
    {
     "name": "stdout",
     "output_type": "stream",
     "text": [
      "Computing inter label-to-label distance for Secondary_structrue & Pdbbind\n"
     ]
    },
    {
     "name": "stderr",
     "output_type": "stream",
     "text": [
      "11it [00:00, 20.84it/s]\n",
      "Computing label-to-label distances: 100%|██████████| 165/165 [00:08<00:00, 20.05it/s]\n"
     ]
    },
    {
     "name": "stdout",
     "output_type": "stream",
     "text": [
      "Computing inter label-to-label distance for Secondary_structrue & Kinase\n"
     ]
    },
    {
     "name": "stderr",
     "output_type": "stream",
     "text": [
      "2it [00:00, 11.85it/s]\n",
      "Computing label-to-label distances: 100%|██████████| 30/30 [00:01<00:00, 20.11it/s]\n"
     ]
    },
    {
     "name": "stdout",
     "output_type": "stream",
     "text": [
      "Computing inter label-to-label distance for Pdbbind & Kinase\n"
     ]
    },
    {
     "name": "stderr",
     "output_type": "stream",
     "text": [
      "2it [00:00, 19.09it/s]\n",
      "Computing label-to-label distances: 100%|██████████| 22/22 [00:01<00:00, 19.31it/s]\n"
     ]
    },
    {
     "name": "stdout",
     "output_type": "stream",
     "text": [
      "Computing intra label-to-label distance for mlm\n"
     ]
    },
    {
     "name": "stderr",
     "output_type": "stream",
     "text": [
      "15it [00:00, 20.29it/s]\n",
      "Computing label-to-label distances: 100%|██████████| 105/105 [00:05<00:00, 19.56it/s]\n"
     ]
    },
    {
     "name": "stdout",
     "output_type": "stream",
     "text": [
      "Computing intra label-to-label distance for domain\n"
     ]
    },
    {
     "name": "stderr",
     "output_type": "stream",
     "text": [
      "13it [00:00, 17.87it/s]\n",
      "Computing label-to-label distances: 100%|██████████| 78/78 [00:03<00:00, 20.47it/s]\n"
     ]
    },
    {
     "name": "stdout",
     "output_type": "stream",
     "text": [
      "Computing intra label-to-label distance for go\n"
     ]
    },
    {
     "name": "stderr",
     "output_type": "stream",
     "text": [
      "9it [00:00, 19.07it/s]\n",
      "Computing label-to-label distances: 100%|██████████| 36/36 [00:01<00:00, 20.28it/s]\n"
     ]
    },
    {
     "name": "stdout",
     "output_type": "stream",
     "text": [
      "Computing intra label-to-label distance for Stability\n"
     ]
    },
    {
     "name": "stderr",
     "output_type": "stream",
     "text": [
      "12it [00:00, 18.98it/s]\n",
      "Computing label-to-label distances: 100%|██████████| 66/66 [00:03<00:00, 20.43it/s]\n"
     ]
    },
    {
     "name": "stdout",
     "output_type": "stream",
     "text": [
      "Computing intra label-to-label distance for Fluoresecence\n"
     ]
    },
    {
     "name": "stderr",
     "output_type": "stream",
     "text": [
      "12it [00:00, 19.03it/s]\n",
      "Computing label-to-label distances: 100%|██████████| 66/66 [00:03<00:00, 19.64it/s]\n"
     ]
    },
    {
     "name": "stdout",
     "output_type": "stream",
     "text": [
      "Computing intra label-to-label distance for Remote_homology\n"
     ]
    },
    {
     "name": "stderr",
     "output_type": "stream",
     "text": [
      "16it [00:00, 20.46it/s]\n",
      "Computing label-to-label distances: 100%|██████████| 120/120 [00:05<00:00, 20.09it/s]\n"
     ]
    },
    {
     "name": "stdout",
     "output_type": "stream",
     "text": [
      "Computing intra label-to-label distance for Secondary_structrue\n"
     ]
    },
    {
     "name": "stderr",
     "output_type": "stream",
     "text": [
      "15it [00:00, 19.63it/s]\n",
      "Computing label-to-label distances: 100%|██████████| 105/105 [00:05<00:00, 19.71it/s]\n"
     ]
    },
    {
     "name": "stdout",
     "output_type": "stream",
     "text": [
      "Computing intra label-to-label distance for Pdbbind\n"
     ]
    },
    {
     "name": "stderr",
     "output_type": "stream",
     "text": [
      "11it [00:00, 19.86it/s]\n",
      "Computing label-to-label distances: 100%|██████████| 55/55 [00:02<00:00, 20.28it/s]\n"
     ]
    },
    {
     "name": "stdout",
     "output_type": "stream",
     "text": [
      "Computing intra label-to-label distance for Kinase\n"
     ]
    },
    {
     "name": "stderr",
     "output_type": "stream",
     "text": [
      "2it [00:00, 13.43it/s]\n",
      "Computing label-to-label distances: 100%|██████████| 1/1 [00:00<00:00, 19.55it/s]\n"
     ]
    },
    {
     "name": "stdout",
     "output_type": "stream",
     "text": [
      "Finish label embedding in 5.2 mins\n",
      "Wasserstein embedding...\n",
      "Finish WTE in 5.2 mins\n",
      "(1, 6) \n",
      " ==== x ==== ==== x ==== ==== x ==== ==== x ==== ==== x ==== \n",
      "Start computing for Pretrain-MultiTask: RMD\n",
      "PRE-TRAIN domain unique labels: 13\n",
      "{0: 173, 1: 165, 2: 121, 3: 89, 4: 88, 5: 64, 6: 59, 7: 53, 8: 50, 9: 47, 10: 46, 11: 45, 12: 45}\n",
      "PRE-TRAIN motif unique labels: 5\n",
      "{0: 843, 1: 59, 2: 50, 3: 47, 4: 46}\n",
      "PRE-TRAIN region unique labels: 10\n",
      "{0: 202, 1: 173, 2: 165, 3: 121, 4: 89, 5: 88, 6: 64, 7: 53, 8: 45, 9: 45}\n",
      "Stability unique labels: 12\n",
      "{0: 101, 1: 87, 2: 83, 3: 57, 4: 53, 5: 34, 6: 27, 7: 20, 8: 14, 9: 11, 10: 7, 11: 6}\n",
      "Fluoresecence unique labels: 12\n",
      "{0: 142, 1: 83, 2: 80, 3: 48, 4: 38, 5: 35, 6: 20, 7: 20, 8: 14, 9: 9, 10: 6, 11: 5}\n",
      "Remote_homology unique labels: 16\n",
      "{0: 136, 1: 126, 2: 96, 3: 26, 4: 20, 5: 14, 6: 11, 7: 11, 8: 9, 9: 9, 10: 8, 11: 8, 12: 7, 13: 7, 14: 6, 15: 6}\n",
      "Secondary_structrue unique labels: 15\n",
      "{9: 55, 3: 50, 1: 46, 14: 45, 8: 42, 7: 38, 13: 38, 0: 32, 6: 30, 11: 28, 2: 25, 5: 23, 12: 19, 10: 17, 4: 12}\n",
      "Pdbbind unique labels: 11\n",
      "{0: 81, 1: 70, 2: 66, 3: 58, 4: 57, 5: 56, 6: 33, 7: 28, 8: 28, 9: 18, 10: 5}\n",
      "Kinase unique labels: 2\n",
      "{0: 398, 1: 102}\n",
      "Embedding labels...\n",
      "Computing inter label-to-label distance for domain & motif\n"
     ]
    },
    {
     "name": "stderr",
     "output_type": "stream",
     "text": [
      "5it [00:00, 18.58it/s]\n",
      "Computing label-to-label distances: 100%|██████████| 65/65 [00:03<00:00, 19.47it/s]\n"
     ]
    },
    {
     "name": "stdout",
     "output_type": "stream",
     "text": [
      "Computing inter label-to-label distance for domain & region\n"
     ]
    },
    {
     "name": "stderr",
     "output_type": "stream",
     "text": [
      "10it [00:00, 19.15it/s]\n",
      "Computing label-to-label distances: 100%|██████████| 130/130 [00:06<00:00, 19.86it/s]\n"
     ]
    },
    {
     "name": "stdout",
     "output_type": "stream",
     "text": [
      "Computing inter label-to-label distance for domain & Stability\n"
     ]
    },
    {
     "name": "stderr",
     "output_type": "stream",
     "text": [
      "12it [00:00, 20.23it/s]\n",
      "Computing label-to-label distances: 100%|██████████| 156/156 [00:08<00:00, 19.46it/s]\n"
     ]
    },
    {
     "name": "stdout",
     "output_type": "stream",
     "text": [
      "Computing inter label-to-label distance for domain & Fluoresecence\n"
     ]
    },
    {
     "name": "stderr",
     "output_type": "stream",
     "text": [
      "12it [00:00, 19.19it/s]\n",
      "Computing label-to-label distances: 100%|██████████| 156/156 [00:07<00:00, 19.82it/s]\n"
     ]
    },
    {
     "name": "stdout",
     "output_type": "stream",
     "text": [
      "Computing inter label-to-label distance for domain & Remote_homology\n"
     ]
    },
    {
     "name": "stderr",
     "output_type": "stream",
     "text": [
      "13it [00:00, 21.02it/s]\n",
      "Computing label-to-label distances: 100%|██████████| 208/208 [00:10<00:00, 20.28it/s]\n"
     ]
    },
    {
     "name": "stdout",
     "output_type": "stream",
     "text": [
      "Computing inter label-to-label distance for domain & Secondary_structrue\n"
     ]
    },
    {
     "name": "stderr",
     "output_type": "stream",
     "text": [
      "13it [00:00, 21.54it/s]\n",
      "Computing label-to-label distances: 100%|██████████| 195/195 [00:10<00:00, 18.65it/s]\n"
     ]
    },
    {
     "name": "stdout",
     "output_type": "stream",
     "text": [
      "Computing inter label-to-label distance for domain & Pdbbind\n"
     ]
    },
    {
     "name": "stderr",
     "output_type": "stream",
     "text": [
      "11it [00:00, 20.10it/s]\n",
      "Computing label-to-label distances: 100%|██████████| 143/143 [00:07<00:00, 19.91it/s]\n"
     ]
    },
    {
     "name": "stdout",
     "output_type": "stream",
     "text": [
      "Computing inter label-to-label distance for domain & Kinase\n"
     ]
    },
    {
     "name": "stderr",
     "output_type": "stream",
     "text": [
      "2it [00:00, 17.35it/s]\n",
      "Computing label-to-label distances: 100%|██████████| 26/26 [00:01<00:00, 19.95it/s]\n"
     ]
    },
    {
     "name": "stdout",
     "output_type": "stream",
     "text": [
      "Computing inter label-to-label distance for motif & region\n"
     ]
    },
    {
     "name": "stderr",
     "output_type": "stream",
     "text": [
      "5it [00:00, 19.38it/s]\n",
      "Computing label-to-label distances: 100%|██████████| 50/50 [00:02<00:00, 19.58it/s]\n"
     ]
    },
    {
     "name": "stdout",
     "output_type": "stream",
     "text": [
      "Computing inter label-to-label distance for motif & Stability\n"
     ]
    },
    {
     "name": "stderr",
     "output_type": "stream",
     "text": [
      "5it [00:00, 18.43it/s]\n",
      "Computing label-to-label distances: 100%|██████████| 60/60 [00:03<00:00, 18.86it/s]\n"
     ]
    },
    {
     "name": "stdout",
     "output_type": "stream",
     "text": [
      "Computing inter label-to-label distance for motif & Fluoresecence\n"
     ]
    },
    {
     "name": "stderr",
     "output_type": "stream",
     "text": [
      "5it [00:00, 19.41it/s]\n",
      "Computing label-to-label distances: 100%|██████████| 60/60 [00:02<00:00, 20.39it/s]\n"
     ]
    },
    {
     "name": "stdout",
     "output_type": "stream",
     "text": [
      "Computing inter label-to-label distance for motif & Remote_homology\n"
     ]
    },
    {
     "name": "stderr",
     "output_type": "stream",
     "text": [
      "5it [00:00, 17.09it/s]\n",
      "Computing label-to-label distances: 100%|██████████| 80/80 [00:03<00:00, 20.38it/s]\n"
     ]
    },
    {
     "name": "stdout",
     "output_type": "stream",
     "text": [
      "Computing inter label-to-label distance for motif & Secondary_structrue\n"
     ]
    },
    {
     "name": "stderr",
     "output_type": "stream",
     "text": [
      "5it [00:00, 18.57it/s]\n",
      "Computing label-to-label distances: 100%|██████████| 75/75 [00:03<00:00, 20.59it/s]\n"
     ]
    },
    {
     "name": "stdout",
     "output_type": "stream",
     "text": [
      "Computing inter label-to-label distance for motif & Pdbbind\n"
     ]
    },
    {
     "name": "stderr",
     "output_type": "stream",
     "text": [
      "5it [00:00, 20.79it/s]\n",
      "Computing label-to-label distances: 100%|██████████| 55/55 [00:02<00:00, 20.67it/s]\n"
     ]
    },
    {
     "name": "stdout",
     "output_type": "stream",
     "text": [
      "Computing inter label-to-label distance for motif & Kinase\n"
     ]
    },
    {
     "name": "stderr",
     "output_type": "stream",
     "text": [
      "2it [00:00, 17.26it/s]\n",
      "Computing label-to-label distances: 100%|██████████| 10/10 [00:00<00:00, 17.44it/s]\n"
     ]
    },
    {
     "name": "stdout",
     "output_type": "stream",
     "text": [
      "Computing inter label-to-label distance for region & Stability\n"
     ]
    },
    {
     "name": "stderr",
     "output_type": "stream",
     "text": [
      "10it [00:00, 19.99it/s]\n",
      "Computing label-to-label distances: 100%|██████████| 120/120 [00:05<00:00, 20.47it/s]\n"
     ]
    },
    {
     "name": "stdout",
     "output_type": "stream",
     "text": [
      "Computing inter label-to-label distance for region & Fluoresecence\n"
     ]
    },
    {
     "name": "stderr",
     "output_type": "stream",
     "text": [
      "10it [00:00, 18.89it/s]\n",
      "Computing label-to-label distances: 100%|██████████| 120/120 [00:05<00:00, 20.21it/s]\n"
     ]
    },
    {
     "name": "stdout",
     "output_type": "stream",
     "text": [
      "Computing inter label-to-label distance for region & Remote_homology\n"
     ]
    },
    {
     "name": "stderr",
     "output_type": "stream",
     "text": [
      "10it [00:00, 20.23it/s]\n",
      "Computing label-to-label distances: 100%|██████████| 160/160 [00:07<00:00, 20.60it/s]\n"
     ]
    },
    {
     "name": "stdout",
     "output_type": "stream",
     "text": [
      "Computing inter label-to-label distance for region & Secondary_structrue\n"
     ]
    },
    {
     "name": "stderr",
     "output_type": "stream",
     "text": [
      "10it [00:00, 19.46it/s]\n",
      "Computing label-to-label distances: 100%|██████████| 150/150 [00:07<00:00, 20.62it/s]\n"
     ]
    },
    {
     "name": "stdout",
     "output_type": "stream",
     "text": [
      "Computing inter label-to-label distance for region & Pdbbind\n"
     ]
    },
    {
     "name": "stderr",
     "output_type": "stream",
     "text": [
      "10it [00:00, 19.26it/s]\n",
      "Computing label-to-label distances: 100%|██████████| 110/110 [00:05<00:00, 20.35it/s]\n"
     ]
    },
    {
     "name": "stdout",
     "output_type": "stream",
     "text": [
      "Computing inter label-to-label distance for region & Kinase\n"
     ]
    },
    {
     "name": "stderr",
     "output_type": "stream",
     "text": [
      "2it [00:00, 18.09it/s]\n",
      "Computing label-to-label distances: 100%|██████████| 20/20 [00:01<00:00, 19.51it/s]\n"
     ]
    },
    {
     "name": "stdout",
     "output_type": "stream",
     "text": [
      "Computing inter label-to-label distance for Stability & Fluoresecence\n"
     ]
    },
    {
     "name": "stderr",
     "output_type": "stream",
     "text": [
      "12it [00:00, 21.26it/s]\n",
      "Computing label-to-label distances: 100%|██████████| 144/144 [00:07<00:00, 19.94it/s]\n"
     ]
    },
    {
     "name": "stdout",
     "output_type": "stream",
     "text": [
      "Computing inter label-to-label distance for Stability & Remote_homology\n"
     ]
    },
    {
     "name": "stderr",
     "output_type": "stream",
     "text": [
      "12it [00:00, 19.62it/s]\n",
      "Computing label-to-label distances: 100%|██████████| 192/192 [00:09<00:00, 20.39it/s]\n"
     ]
    },
    {
     "name": "stdout",
     "output_type": "stream",
     "text": [
      "Computing inter label-to-label distance for Stability & Secondary_structrue\n"
     ]
    },
    {
     "name": "stderr",
     "output_type": "stream",
     "text": [
      "12it [00:00, 20.11it/s]\n",
      "Computing label-to-label distances: 100%|██████████| 180/180 [00:09<00:00, 19.59it/s]\n"
     ]
    },
    {
     "name": "stdout",
     "output_type": "stream",
     "text": [
      "Computing inter label-to-label distance for Stability & Pdbbind\n"
     ]
    },
    {
     "name": "stderr",
     "output_type": "stream",
     "text": [
      "11it [00:00, 20.38it/s]\n",
      "Computing label-to-label distances: 100%|██████████| 132/132 [00:06<00:00, 20.23it/s]\n"
     ]
    },
    {
     "name": "stdout",
     "output_type": "stream",
     "text": [
      "Computing inter label-to-label distance for Stability & Kinase\n"
     ]
    },
    {
     "name": "stderr",
     "output_type": "stream",
     "text": [
      "2it [00:00,  3.73it/s]\n",
      "Computing label-to-label distances: 100%|██████████| 24/24 [00:01<00:00, 18.75it/s]\n"
     ]
    },
    {
     "name": "stdout",
     "output_type": "stream",
     "text": [
      "Computing inter label-to-label distance for Fluoresecence & Remote_homology\n"
     ]
    },
    {
     "name": "stderr",
     "output_type": "stream",
     "text": [
      "12it [00:00, 20.59it/s]\n",
      "Computing label-to-label distances: 100%|██████████| 192/192 [00:09<00:00, 19.67it/s]\n"
     ]
    },
    {
     "name": "stdout",
     "output_type": "stream",
     "text": [
      "Computing inter label-to-label distance for Fluoresecence & Secondary_structrue\n"
     ]
    },
    {
     "name": "stderr",
     "output_type": "stream",
     "text": [
      "12it [00:00, 19.78it/s]\n",
      "Computing label-to-label distances: 100%|██████████| 180/180 [00:09<00:00, 19.86it/s]\n"
     ]
    },
    {
     "name": "stdout",
     "output_type": "stream",
     "text": [
      "Computing inter label-to-label distance for Fluoresecence & Pdbbind\n"
     ]
    },
    {
     "name": "stderr",
     "output_type": "stream",
     "text": [
      "11it [00:00, 20.06it/s]\n",
      "Computing label-to-label distances: 100%|██████████| 132/132 [00:06<00:00, 20.20it/s]\n"
     ]
    },
    {
     "name": "stdout",
     "output_type": "stream",
     "text": [
      "Computing inter label-to-label distance for Fluoresecence & Kinase\n"
     ]
    },
    {
     "name": "stderr",
     "output_type": "stream",
     "text": [
      "2it [00:00, 16.18it/s]\n",
      "Computing label-to-label distances: 100%|██████████| 24/24 [00:01<00:00, 20.45it/s]\n"
     ]
    },
    {
     "name": "stdout",
     "output_type": "stream",
     "text": [
      "Computing inter label-to-label distance for Remote_homology & Secondary_structrue\n"
     ]
    },
    {
     "name": "stderr",
     "output_type": "stream",
     "text": [
      "15it [00:00, 19.43it/s]\n",
      "Computing label-to-label distances: 100%|██████████| 240/240 [00:11<00:00, 20.34it/s]\n"
     ]
    },
    {
     "name": "stdout",
     "output_type": "stream",
     "text": [
      "Computing inter label-to-label distance for Remote_homology & Pdbbind\n"
     ]
    },
    {
     "name": "stderr",
     "output_type": "stream",
     "text": [
      "11it [00:00, 20.56it/s]\n",
      "Computing label-to-label distances: 100%|██████████| 176/176 [00:09<00:00, 19.35it/s]\n"
     ]
    },
    {
     "name": "stdout",
     "output_type": "stream",
     "text": [
      "Computing inter label-to-label distance for Remote_homology & Kinase\n"
     ]
    },
    {
     "name": "stderr",
     "output_type": "stream",
     "text": [
      "2it [00:00, 15.44it/s]\n",
      "Computing label-to-label distances: 100%|██████████| 32/32 [00:01<00:00, 19.87it/s]\n"
     ]
    },
    {
     "name": "stdout",
     "output_type": "stream",
     "text": [
      "Computing inter label-to-label distance for Secondary_structrue & Pdbbind\n"
     ]
    },
    {
     "name": "stderr",
     "output_type": "stream",
     "text": [
      "11it [00:00, 21.32it/s]\n",
      "Computing label-to-label distances: 100%|██████████| 165/165 [00:08<00:00, 20.42it/s]\n"
     ]
    },
    {
     "name": "stdout",
     "output_type": "stream",
     "text": [
      "Computing inter label-to-label distance for Secondary_structrue & Kinase\n"
     ]
    },
    {
     "name": "stderr",
     "output_type": "stream",
     "text": [
      "2it [00:00, 17.07it/s]\n",
      "Computing label-to-label distances: 100%|██████████| 30/30 [00:01<00:00, 19.65it/s]\n"
     ]
    },
    {
     "name": "stdout",
     "output_type": "stream",
     "text": [
      "Computing inter label-to-label distance for Pdbbind & Kinase\n"
     ]
    },
    {
     "name": "stderr",
     "output_type": "stream",
     "text": [
      "2it [00:00, 17.63it/s]\n",
      "Computing label-to-label distances: 100%|██████████| 22/22 [00:01<00:00, 20.27it/s]\n"
     ]
    },
    {
     "name": "stdout",
     "output_type": "stream",
     "text": [
      "Computing intra label-to-label distance for domain\n"
     ]
    },
    {
     "name": "stderr",
     "output_type": "stream",
     "text": [
      "13it [00:00, 20.69it/s]\n",
      "Computing label-to-label distances: 100%|██████████| 78/78 [00:03<00:00, 19.61it/s]\n"
     ]
    },
    {
     "name": "stdout",
     "output_type": "stream",
     "text": [
      "Computing intra label-to-label distance for motif\n"
     ]
    },
    {
     "name": "stderr",
     "output_type": "stream",
     "text": [
      "5it [00:00, 19.11it/s]\n",
      "Computing label-to-label distances: 100%|██████████| 10/10 [00:00<00:00, 18.61it/s]\n"
     ]
    },
    {
     "name": "stdout",
     "output_type": "stream",
     "text": [
      "Computing intra label-to-label distance for region\n"
     ]
    },
    {
     "name": "stderr",
     "output_type": "stream",
     "text": [
      "10it [00:00, 20.13it/s]\n",
      "Computing label-to-label distances: 100%|██████████| 45/45 [00:02<00:00, 20.43it/s]\n"
     ]
    },
    {
     "name": "stdout",
     "output_type": "stream",
     "text": [
      "Computing intra label-to-label distance for Stability\n"
     ]
    },
    {
     "name": "stderr",
     "output_type": "stream",
     "text": [
      "12it [00:00, 20.34it/s]\n",
      "Computing label-to-label distances: 100%|██████████| 66/66 [00:03<00:00, 19.21it/s]\n"
     ]
    },
    {
     "name": "stdout",
     "output_type": "stream",
     "text": [
      "Computing intra label-to-label distance for Fluoresecence\n"
     ]
    },
    {
     "name": "stderr",
     "output_type": "stream",
     "text": [
      "12it [00:00, 18.21it/s]\n",
      "Computing label-to-label distances: 100%|██████████| 66/66 [00:03<00:00, 18.95it/s]\n"
     ]
    },
    {
     "name": "stdout",
     "output_type": "stream",
     "text": [
      "Computing intra label-to-label distance for Remote_homology\n"
     ]
    },
    {
     "name": "stderr",
     "output_type": "stream",
     "text": [
      "16it [00:00, 20.57it/s]\n",
      "Computing label-to-label distances: 100%|██████████| 120/120 [00:05<00:00, 20.18it/s]\n"
     ]
    },
    {
     "name": "stdout",
     "output_type": "stream",
     "text": [
      "Computing intra label-to-label distance for Secondary_structrue\n"
     ]
    },
    {
     "name": "stderr",
     "output_type": "stream",
     "text": [
      "15it [00:00, 20.46it/s]\n",
      "Computing label-to-label distances: 100%|██████████| 105/105 [00:05<00:00, 20.78it/s]\n"
     ]
    },
    {
     "name": "stdout",
     "output_type": "stream",
     "text": [
      "Computing intra label-to-label distance for Pdbbind\n"
     ]
    },
    {
     "name": "stderr",
     "output_type": "stream",
     "text": [
      "11it [00:00, 20.92it/s]\n",
      "Computing label-to-label distances: 100%|██████████| 55/55 [00:02<00:00, 18.55it/s]\n"
     ]
    },
    {
     "name": "stdout",
     "output_type": "stream",
     "text": [
      "Computing intra label-to-label distance for Kinase\n"
     ]
    },
    {
     "name": "stderr",
     "output_type": "stream",
     "text": [
      "2it [00:00, 16.27it/s]\n",
      "Computing label-to-label distances: 100%|██████████| 1/1 [00:00<00:00, 18.33it/s]\n"
     ]
    },
    {
     "name": "stdout",
     "output_type": "stream",
     "text": [
      "Finish label embedding in 4.5 mins\n",
      "Wasserstein embedding...\n",
      "Finish WTE in 4.5 mins\n",
      "(1, 6) \n",
      " ==== x ==== ==== x ==== ==== x ==== ==== x ==== ==== x ==== \n"
     ]
    }
   ],
   "source": [
    "return_t2t = True # 同时计算task-to-task distance (for PT and FT)\n",
    "num_samples = 1000\n",
    "TaskCombs = ['MLM+RMD', 'GO+RMD', 'MLM+GO+D', 'RMD']\n",
    "pt_tasks_combs = [\n",
    "    ['mlm', 'domain', 'motif', 'region'],\n",
    "    ['domain', 'motif', 'region', 'go'],\n",
    "    ['mlm', 'domain', 'go'],\n",
    "    ['domain', 'motif', 'region']\n",
    "]\n",
    "\n",
    "device = torch.device('cpu')\n",
    "# generate reference\n",
    "feat_dim, lbl_emb_dim, ref_size = 512, 10, 200\n",
    "seed = 1145114\n",
    "set_random_seed(seed)\n",
    "reference = torch.randn(ref_size, feat_dim + lbl_emb_dim, dtype=float, device=device).float()\n",
    "\n",
    "wte_distance, wte_t2t_distances = [], []\n",
    "texts_base_dir = \"/home/brian/work/OTMTD_GH/processed_data\"\n",
    "embs_base_dir = \"/home/brian/work/OTMTD_GH/protein_embeddings_MultiTasks\"\n",
    "for i, comb in enumerate(TaskCombs):\n",
    "    print(\"Start computing for Pretrain-MultiTask: {}\".format(comb))\n",
    "    # 根据multi-tasks combination构建对应的embdding hub\n",
    "    tasks_texts_embs_hub = {\n",
    "        'pre_train': [\"{}/pre_train/sampling_set.txt\".format(texts_base_dir),\n",
    "                        \"{}/pre_train_combs/pre_train_{}_pro_embs_pt.pkl\".format(embs_base_dir, comb)],\n",
    "        'stability': [\"{}/stability/sequence_go_label_{}.txt\".format(texts_base_dir, num_samples),\n",
    "                        \"{}/stability/{}->stability_pretrain_pro_embs_train.pkl\".format(embs_base_dir, comb),\n",
    "                        \"{}/stability/{}->stability_pretrain_pro_embs_valid.pkl\".format(embs_base_dir, comb)],\n",
    "        'fluoresecence': [\"{}/fluorescence/sequence_go_label_{}.txt\".format(texts_base_dir, num_samples),\n",
    "                        \"{}/fluorescence/{}->fluorescence_pretrain_pro_embs_train.pkl\".format(embs_base_dir, comb),\n",
    "                        \"{}/fluorescence/{}->fluorescence_pretrain_pro_embs_valid.pkl\".format(embs_base_dir, comb)],\n",
    "        'remote_homology': [\"{}/remote_homology/sequence_go_label_{}.txt\".format(texts_base_dir, num_samples),\n",
    "                            \"{}/remote_homology/{}->remote_homology_pretrain_pro_embs_train.pkl\".format(embs_base_dir, comb),\n",
    "                            \"{}/remote_homology/{}->remote_homology_pretrain_pro_embs_valid.pkl\".format(embs_base_dir, comb)], \n",
    "        'secondary_structrue': [\"{}/secondary_structure/sequence_go_label_{}.txt\".format(texts_base_dir, num_samples),\n",
    "                                \"{}/secondary_structure/{}->secondary_structure_pretrain_pro_embs_train.pkl\".format(embs_base_dir, comb),\n",
    "                                \"{}/secondary_structure/{}->secondary_structure_pretrain_pro_embs_valid.pkl\".format(embs_base_dir, comb)],\n",
    "        'pdbbind': [\"{}/pdbbind/sequence_go_label_{}.txt\".format(texts_base_dir, num_samples),\n",
    "                    \"{}/pdbbind/{}->pdbbind_pretrain_pro_embs_train.pkl\".format(embs_base_dir, comb),\n",
    "                    \"{}/pdbbind/{}->pdbbind_pretrain_pro_embs_dev.pkl\".format(embs_base_dir, comb)],\n",
    "        'kinase': [\"{}/kinase/sequence_go_label_{}.txt\".format(texts_base_dir, num_samples),\n",
    "                    \"{}/kinase/{}->kinase_pretrain_pro_embs_train.pkl\".format(embs_base_dir, comb)]\n",
    "    }\n",
    "\n",
    "    pt_datasets, pt_class_nums, pt_names = [], [], []\n",
    "    for label_task in pt_tasks_combs[i]:\n",
    "        dataset = EmbeddingDataset('pre_train', *tasks_texts_embs_hub['pre_train'], pt_label=label_task)\n",
    "        pt_datasets.append(dataset)\n",
    "        pt_class_nums.append(len(dataset.unique_labels))\n",
    "        pt_names.append(label_task)\n",
    "\n",
    "    ft_datasets, ft_class_nums, ft_names = [], [], []\n",
    "    for task in ['stability', 'fluoresecence', 'remote_homology', 'secondary_structrue', 'pdbbind', 'kinase']:\n",
    "        dataset = EmbeddingDataset(task, *tasks_texts_embs_hub[task])\n",
    "        ft_datasets.append(dataset)\n",
    "        ft_class_nums.append(len(dataset.unique_labels))\n",
    "        ft_names.append(task.capitalize())\n",
    "\n",
    "    pt_tasks_dict = {task: i for i, task in enumerate(pt_tasks_combs[i])}\n",
    "    MultiTask_WTE = WTE(lbl_emb_dim, device, pt_class_nums=np.array(pt_class_nums),\n",
    "                        ft_class_nums=np.array(ft_class_nums), pt_names=pt_names, ft_names=ft_names,\n",
    "                        pt_tasks_combs=[pt_tasks_combs[i]], pt_tasks_dict=pt_tasks_dict, gaussian_assumption=True)\n",
    "    # pt_task_comb_embs, ft_task_embs = MultiTask_WTE.cwte(pt_datasets, ft_datasets, reference)\n",
    "    pt_task_comb_embs, ft_task_embs, pt_task_sole_embs = MultiTask_WTE.cwte(pt_datasets, ft_datasets, reference, return_t2t=return_t2t)\n",
    "    pt_task_comb_vecs = pt_task_comb_embs.reshape(1, -1) # each comb each time\n",
    "    pt_task_sole_vecs = pt_task_sole_embs.reshape(len(pt_datasets), -1) # (PT dataset_num, ref_size * (feat_dim+lbl_emb_dim))\n",
    "    ft_task_vecs = ft_task_embs.reshape(ft_task_embs.shape[0], -1) # (dataset_num, ref_size * (feat_dim+lbl_emb_dim)) flatten operation\n",
    "\n",
    "    wte_distance_row = distance.cdist(pt_task_comb_vecs, ft_task_vecs, 'euclidean') # (dataset_num, dataset_num)\n",
    "    wte_distance.append(wte_distance_row)\n",
    "    wte_sole_distance = distance.cdist(pt_task_sole_vecs, ft_task_vecs, 'euclidean')\n",
    "    wte_sole_distance = pd.DataFrame(wte_sole_distance, columns=ft_names)\n",
    "    wte_sole_distance['pt_task'] = pt_names\n",
    "    wte_t2t_distances.append(wte_sole_distance)\n",
    "    print(wte_distance_row.shape, '\\n', '==== x ==== ' * 5)\n",
    "    \n",
    "wte_distance = np.concatenate(wte_distance, axis=0)\n",
    "wte_t2t_distances_ = cal_combs_distances_mean(['mlm', 'domain', 'motif', 'region', 'go'], wte_t2t_distances)\n",
    "np.save(\"./results(all)/wte_distance_20bins_{}_mlm.npy\".format(num_samples), wte_distance)\n",
    "np.save(\"./results(all)/wte_t2t_distances.npy\", wte_t2t_distances_)"
   ]
  },
  {
   "cell_type": "code",
   "execution_count": 6,
   "metadata": {},
   "outputs": [
    {
     "data": {
      "text/plain": [
       "array([[38.40540346, 44.79597617, 33.85493267, 28.63922014, 24.94117958,\n",
       "        32.10071586],\n",
       "       [46.82312473, 48.46425588, 40.7069211 , 36.05075889, 31.85468649,\n",
       "        37.19391109],\n",
       "       [46.34556328, 49.16766106, 41.38405414, 33.45248207, 30.8719547 ,\n",
       "        36.89193618],\n",
       "       [45.22778648, 48.96813173, 41.61017046, 36.56553857, 32.70094148,\n",
       "        36.49767181]])"
      ]
     },
     "execution_count": 6,
     "metadata": {},
     "output_type": "execute_result"
    }
   ],
   "source": [
    "wte_distance"
   ]
  },
  {
   "cell_type": "code",
   "execution_count": 7,
   "metadata": {},
   "outputs": [
    {
     "data": {
      "text/plain": [
       "array([[61.670288, 63.41589 , 56.41153 , 50.012352, 45.240467, 49.394222],\n",
       "       [56.66255 , 57.94836 , 52.118855, 46.64529 , 42.66111 , 46.740273],\n",
       "       [47.307526, 52.377655, 44.003674, 41.161655, 38.047565, 42.479202],\n",
       "       [44.199158, 48.80211 , 40.563343, 36.305386, 35.674587, 40.402863],\n",
       "       [40.889996, 47.152973, 37.526886, 34.33467 , 35.356403, 40.64837 ]],\n",
       "      dtype=float32)"
      ]
     },
     "execution_count": 7,
     "metadata": {},
     "output_type": "execute_result"
    }
   ],
   "source": [
    "wte_t2t_distances_"
   ]
  }
 ],
 "metadata": {
  "kernelspec": {
   "display_name": "Python 3.9.1 ('transferability')",
   "language": "python",
   "name": "python3"
  },
  "language_info": {
   "codemirror_mode": {
    "name": "ipython",
    "version": 3
   },
   "file_extension": ".py",
   "mimetype": "text/x-python",
   "name": "python",
   "nbconvert_exporter": "python",
   "pygments_lexer": "ipython3",
   "version": "3.9.1 (default, Dec 11 2020, 14:32:07) \n[GCC 7.3.0]"
  },
  "orig_nbformat": 4,
  "vscode": {
   "interpreter": {
    "hash": "147b18059a52f9d12650ff68dd3a2fbba920f25994ce47eb91f133cf06ed312d"
   }
  }
 },
 "nbformat": 4,
 "nbformat_minor": 2
}
