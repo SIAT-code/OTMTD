{
 "cells": [
  {
   "cell_type": "code",
   "execution_count": 8,
   "metadata": {},
   "outputs": [
    {
     "name": "stdout",
     "output_type": "stream",
     "text": [
      "Files already downloaded and verified\n",
      "Files already downloaded and verified\n",
      "Fold Sizes: 20/20/10000 (train/valid/test)\n",
      "Fold Sizes: 20/20/10000 (train/valid/test)\n"
     ]
    },
    {
     "data": {
      "application/vnd.jupyter.widget-view+json": {
       "model_id": "5cc72f083b6e4332987fc215c23caf4b",
       "version_major": 2,
       "version_minor": 0
      },
      "text/plain": [
       "  0%|          | 0/1 [00:00<?, ?it/s]"
      ]
     },
     "metadata": {},
     "output_type": "display_data"
    },
    {
     "data": {
      "application/vnd.jupyter.widget-view+json": {
       "model_id": "97b683e038c74bdc922977bfb4e3b226",
       "version_major": 2,
       "version_minor": 0
      },
      "text/plain": [
       "  0%|          | 0/1 [00:00<?, ?it/s]"
      ]
     },
     "metadata": {},
     "output_type": "display_data"
    },
    {
     "data": {
      "application/vnd.jupyter.widget-view+json": {
       "model_id": "475072e4ea0a4f6fa002315447d42292",
       "version_major": 2,
       "version_minor": 0
      },
      "text/plain": [
       "  0%|          | 0/21 [00:00<?, ?it/s]"
      ]
     },
     "metadata": {},
     "output_type": "display_data"
    },
    {
     "data": {
      "application/vnd.jupyter.widget-view+json": {
       "model_id": "b028382431e24bcf8bbb6de717d531c8",
       "version_major": 2,
       "version_minor": 0
      },
      "text/plain": [
       "  0%|          | 0/21 [00:00<?, ?it/s]"
      ]
     },
     "metadata": {},
     "output_type": "display_data"
    },
    {
     "data": {
      "application/vnd.jupyter.widget-view+json": {
       "model_id": "e2ad4e3db36347dba20c2a938172b39e",
       "version_major": 2,
       "version_minor": 0
      },
      "text/plain": [
       "  0%|          | 0/49 [00:00<?, ?it/s]"
      ]
     },
     "metadata": {},
     "output_type": "display_data"
    },
    {
     "name": "stdout",
     "output_type": "stream",
     "text": [
      "Embedded OTDD(MNIST,USPS)=  301.58\n"
     ]
    },
    {
     "ename": "",
     "evalue": "",
     "output_type": "error",
     "traceback": [
      "\u001b[1;31mThe Kernel crashed while executing code in the the current cell or a previous cell. Please review the code in the cell(s) to identify a possible cause of the failure. Click <a href='https://aka.ms/vscodeJupyterKernelCrash'>here</a> for more info. View Jupyter <a href='command:jupyter.viewOutput'>log</a> for further details."
     ]
    }
   ],
   "source": [
    "import torch\n",
    "from torchvision.models import resnet18\n",
    "\n",
    "from otdd.pytorch.datasets import load_torchvision_data\n",
    "from otdd.pytorch.distance import DatasetDistance, FeatureCost\n",
    "\n",
    "# Load MNIST/CIFAR in 3channels (needed by torchvision models)\n",
    "loaders_src = load_torchvision_data('CIFAR10', resize=28, maxsize=20)[0]\n",
    "loaders_tgt = load_torchvision_data('MNIST', resize=28, to3channels=True, maxsize=20)[0]\n",
    "\n",
    "# Embed using a pretrained (+frozen) resnet\n",
    "embedder = resnet18(pretrained=True).eval()\n",
    "embedder.fc = torch.nn.Identity()\n",
    "for p in embedder.parameters():\n",
    "    p.requires_grad = False\n",
    "\n",
    "# Here we use same embedder for both datasets\n",
    "feature_cost = FeatureCost(src_embedding = embedder,\n",
    "                           src_dim = (3,28,28),\n",
    "                           tgt_embedding = embedder,\n",
    "                           tgt_dim = (3,28,28),\n",
    "                           p = 2,\n",
    "                           device='cpu')\n",
    "\n",
    "dist = DatasetDistance(loaders_src['train'], loaders_tgt['train'],\n",
    "                          inner_ot_method = 'exact',\n",
    "                          debiased_loss = True,\n",
    "                          feature_cost = feature_cost,\n",
    "                          sqrt_method = 'spectral',\n",
    "                          sqrt_niters=10,\n",
    "                          precision='single',\n",
    "                          p = 2, entreg = 1e-1,\n",
    "                          device='cpu')\n",
    "\n",
    "d = dist.distance(maxsamples = 100)\n",
    "print(f'Embedded OTDD(MNIST,USPS)={d:8.2f}')\n"
   ]
  },
  {
   "cell_type": "code",
   "execution_count": 1,
   "metadata": {},
   "outputs": [
    {
     "name": "stdout",
     "output_type": "stream",
     "text": [
      "[KeOps] Compiling cuda jit compiler engine ... /usr/bin/ld: cannot find -lcuda\n",
      "collect2: error: ld returned 1 exit status\n",
      "\n",
      "[KeOps] Compiling cuda jit compiler engine ... /usr/bin/ld: cannot find -lcuda\n",
      "collect2: error: ld returned 1 exit status\n",
      "\n",
      "[KeOps] Compiling cuda jit compiler engine ... /usr/bin/ld: cannot find -lcuda\n",
      "collect2: error: ld returned 1 exit status\n",
      "\n",
      "[KeOps] Compiling cuda jit compiler engine ... /usr/bin/ld: cannot find -lcuda\n",
      "collect2: error: ld returned 1 exit status\n",
      "\n"
     ]
    },
    {
     "name": "stderr",
     "output_type": "stream",
     "text": [
      "ot.gpu not found - coupling computation will be in cpu\n"
     ]
    },
    {
     "name": "stdout",
     "output_type": "stream",
     "text": [
      "Fold Sizes: 2000/10000 (train/test)\n",
      "Downloading https://www.csie.ntu.edu.tw/~cjlin/libsvmtools/datasets/multiclass/usps.bz2 to /home/brian/anaconda3/envs/otdd/lib/python3.8/site-packages/otdd-0.1.0-py3.8.egg/data/usps.bz2\n"
     ]
    },
    {
     "data": {
      "application/vnd.jupyter.widget-view+json": {
       "model_id": "8971f59f19f54216927c9bdf89917d39",
       "version_major": 2,
       "version_minor": 0
      },
      "text/plain": [
       "  0%|          | 0/6579383 [00:00<?, ?it/s]"
      ]
     },
     "metadata": {},
     "output_type": "display_data"
    },
    {
     "name": "stdout",
     "output_type": "stream",
     "text": [
      "Downloading https://www.csie.ntu.edu.tw/~cjlin/libsvmtools/datasets/multiclass/usps.t.bz2 to /home/brian/anaconda3/envs/otdd/lib/python3.8/site-packages/otdd-0.1.0-py3.8.egg/data/usps.t.bz2\n"
     ]
    },
    {
     "data": {
      "application/vnd.jupyter.widget-view+json": {
       "model_id": "c778b09165f34488a3477be54b64554f",
       "version_major": 2,
       "version_minor": 0
      },
      "text/plain": [
       "  0%|          | 0/1831726 [00:00<?, ?it/s]"
      ]
     },
     "metadata": {},
     "output_type": "display_data"
    },
    {
     "name": "stdout",
     "output_type": "stream",
     "text": [
      "Fold Sizes: 2000/2007 (train/test)\n"
     ]
    },
    {
     "data": {
      "application/vnd.jupyter.widget-view+json": {
       "model_id": "d02004765843460baf7606945b401427",
       "version_major": 2,
       "version_minor": 0
      },
      "text/plain": [
       "  0%|          | 0/32 [00:00<?, ?it/s]"
      ]
     },
     "metadata": {},
     "output_type": "display_data"
    },
    {
     "data": {
      "application/vnd.jupyter.widget-view+json": {
       "model_id": "b5a1e003b755431388cd8edab81fc881",
       "version_major": 2,
       "version_minor": 0
      },
      "text/plain": [
       "  0%|          | 0/32 [00:00<?, ?it/s]"
      ]
     },
     "metadata": {},
     "output_type": "display_data"
    },
    {
     "data": {
      "application/vnd.jupyter.widget-view+json": {
       "model_id": "6d81809d4abf487f8ef49189eafb470c",
       "version_major": 2,
       "version_minor": 0
      },
      "text/plain": [
       "  0%|          | 0/45 [00:00<?, ?it/s]"
      ]
     },
     "metadata": {},
     "output_type": "display_data"
    },
    {
     "data": {
      "application/vnd.jupyter.widget-view+json": {
       "model_id": "db239cfb0c9a4b71a3bf7bc8bb635946",
       "version_major": 2,
       "version_minor": 0
      },
      "text/plain": [
       "  0%|          | 0/45 [00:00<?, ?it/s]"
      ]
     },
     "metadata": {},
     "output_type": "display_data"
    },
    {
     "data": {
      "application/vnd.jupyter.widget-view+json": {
       "model_id": "9939959bbe0b4703b3748400398dc28b",
       "version_major": 2,
       "version_minor": 0
      },
      "text/plain": [
       "  0%|          | 0/100 [00:00<?, ?it/s]"
      ]
     },
     "metadata": {},
     "output_type": "display_data"
    },
    {
     "name": "stdout",
     "output_type": "stream",
     "text": [
      "OTDD(MNIST,USPS)=  915.93\n"
     ]
    },
    {
     "ename": "",
     "evalue": "",
     "output_type": "error",
     "traceback": [
      "\u001b[1;31mThe Kernel crashed while executing code in the the current cell or a previous cell. Please review the code in the cell(s) to identify a possible cause of the failure. Click <a href='https://aka.ms/vscodeJupyterKernelCrash'>here</a> for more info. View Jupyter <a href='command:jupyter.viewOutput'>log</a> for further details."
     ]
    }
   ],
   "source": [
    "from otdd.pytorch.datasets import load_torchvision_data\n",
    "from otdd.pytorch.distance import DatasetDistance\n",
    "\n",
    "# Load data\n",
    "loaders_src  = load_torchvision_data('MNIST', valid_size=0, resize = 28, maxsize=2000)[0]\n",
    "loaders_tgt  = load_torchvision_data('USPS',  valid_size=0, resize = 28, maxsize=2000)[0]\n",
    "\n",
    "# Instantiate distance\n",
    "dist = DatasetDistance(loaders_src['train'], loaders_tgt['train'],\n",
    "                          inner_ot_method = 'exact',\n",
    "                          debiased_loss = True,\n",
    "                          p = 2, entreg = 1e-1,\n",
    "                          device='cuda:0')\n",
    "\n",
    "d = dist.distance(maxsamples = 1000)\n",
    "print(f'OTDD(MNIST,USPS)={d:8.2f}')\n"
   ]
  },
  {
   "cell_type": "code",
   "execution_count": 2,
   "metadata": {},
   "outputs": [
    {
     "name": "stdout",
     "output_type": "stream",
     "text": [
      "[KeOps] Compiling cuda jit compiler engine ... /usr/bin/ld: cannot find -lcuda\n",
      "collect2: error: ld returned 1 exit status\n",
      "\n",
      "[KeOps] Compiling cuda jit compiler engine ... /usr/bin/ld: cannot find -lcuda\n",
      "collect2: error: ld returned 1 exit status\n",
      "\n",
      "[KeOps] Compiling cuda jit compiler engine ... /usr/bin/ld: cannot find -lcuda\n",
      "collect2: error: ld returned 1 exit status\n",
      "\n",
      "[KeOps] Compiling cuda jit compiler engine ... /usr/bin/ld: cannot find -lcuda\n",
      "collect2: error: ld returned 1 exit status\n",
      "\n"
     ]
    },
    {
     "data": {
      "text/plain": [
       "torch.Size([200, 200])"
      ]
     },
     "execution_count": 2,
     "metadata": {},
     "output_type": "execute_result"
    }
   ],
   "source": [
    "import geomloss\n",
    "import torch\n",
    "\n",
    "cost_routines = {\n",
    "    1: (lambda x, y: geomloss.utils.distances(x, y)),\n",
    "    2: (lambda x, y: geomloss.utils.squared_distances(x, y) / 2),\n",
    "}\n",
    "\n",
    "# x = torch.rand(10, 3, 28 * 28)\n",
    "# y = torch.rand(10, 3, 28 * 28)\n",
    "x = torch.rand(200, 512)\n",
    "y = torch.rand(200, 512)\n",
    "d1 = cost_routines[1](x, y)\n",
    "d1.shape\n"
   ]
  },
  {
   "cell_type": "code",
   "execution_count": 22,
   "metadata": {},
   "outputs": [
    {
     "data": {
      "text/plain": [
       "(200, 200)"
      ]
     },
     "execution_count": 22,
     "metadata": {},
     "output_type": "execute_result"
    }
   ],
   "source": [
    "import ot\n",
    "\n",
    "d2 = ot.dist(x.numpy(), y.numpy(), metric='euclidean')\n",
    "d2.shape"
   ]
  },
  {
   "cell_type": "code",
   "execution_count": 16,
   "metadata": {},
   "outputs": [
    {
     "data": {
      "text/plain": [
       "torch.Size([200, 200])"
      ]
     },
     "execution_count": 16,
     "metadata": {},
     "output_type": "execute_result"
    }
   ],
   "source": [
    "geomloss.utils.distances(x, y).shape"
   ]
  },
  {
   "cell_type": "code",
   "execution_count": 18,
   "metadata": {},
   "outputs": [
    {
     "ename": "KeyError",
     "evalue": "None",
     "output_type": "error",
     "traceback": [
      "\u001b[0;31m---------------------------------------------------------------------------\u001b[0m",
      "\u001b[0;31mKeyError\u001b[0m                                  Traceback (most recent call last)",
      "\u001b[1;32m/home/brian/work/Transfer_Learning/otdd/otdd/pytorch/Untitled-2.ipynb Cell 6\u001b[0m in \u001b[0;36m<cell line: 7>\u001b[0;34m()\u001b[0m\n\u001b[1;32m      <a href='vscode-notebook-cell://ssh-remote%2B172.26.1.30/home/brian/work/Transfer_Learning/otdd/otdd/pytorch/Untitled-2.ipynb#X15sdnNjb2RlLXJlbW90ZQ%3D%3D?line=0'>1</a>\u001b[0m cost_func \u001b[39m=\u001b[39m \u001b[39mlambda\u001b[39;00m x, y: torch\u001b[39m.\u001b[39mTensor(ot\u001b[39m.\u001b[39mdist(x\u001b[39m.\u001b[39mnumpy(), y\u001b[39m.\u001b[39mnumpy()), metric\u001b[39m=\u001b[39m\u001b[39m'\u001b[39m\u001b[39mcosine\u001b[39m\u001b[39m'\u001b[39m)\n\u001b[1;32m      <a href='vscode-notebook-cell://ssh-remote%2B172.26.1.30/home/brian/work/Transfer_Learning/otdd/otdd/pytorch/Untitled-2.ipynb#X15sdnNjb2RlLXJlbW90ZQ%3D%3D?line=1'>2</a>\u001b[0m distance \u001b[39m=\u001b[39m geomloss\u001b[39m.\u001b[39mSamplesLoss(\n\u001b[1;32m      <a href='vscode-notebook-cell://ssh-remote%2B172.26.1.30/home/brian/work/Transfer_Learning/otdd/otdd/pytorch/Untitled-2.ipynb#X15sdnNjb2RlLXJlbW90ZQ%3D%3D?line=2'>3</a>\u001b[0m             loss\u001b[39m=\u001b[39m\u001b[39m'\u001b[39m\u001b[39mhausdorff\u001b[39m\u001b[39m'\u001b[39m, p\u001b[39m=\u001b[39m\u001b[39m2\u001b[39m,\n\u001b[1;32m      <a href='vscode-notebook-cell://ssh-remote%2B172.26.1.30/home/brian/work/Transfer_Learning/otdd/otdd/pytorch/Untitled-2.ipynb#X15sdnNjb2RlLXJlbW90ZQ%3D%3D?line=3'>4</a>\u001b[0m             cost\u001b[39m=\u001b[39mgeomloss\u001b[39m.\u001b[39mutils\u001b[39m.\u001b[39mdistances,\n\u001b[1;32m      <a href='vscode-notebook-cell://ssh-remote%2B172.26.1.30/home/brian/work/Transfer_Learning/otdd/otdd/pytorch/Untitled-2.ipynb#X15sdnNjb2RlLXJlbW90ZQ%3D%3D?line=4'>5</a>\u001b[0m             \u001b[39m#debias=True,\u001b[39;00m\n\u001b[1;32m      <a href='vscode-notebook-cell://ssh-remote%2B172.26.1.30/home/brian/work/Transfer_Learning/otdd/otdd/pytorch/Untitled-2.ipynb#X15sdnNjb2RlLXJlbW90ZQ%3D%3D?line=5'>6</a>\u001b[0m             blur\u001b[39m=\u001b[39m\u001b[39m0.05\u001b[39m)\n\u001b[0;32m----> <a href='vscode-notebook-cell://ssh-remote%2B172.26.1.30/home/brian/work/Transfer_Learning/otdd/otdd/pytorch/Untitled-2.ipynb#X15sdnNjb2RlLXJlbW90ZQ%3D%3D?line=6'>7</a>\u001b[0m distance(x, y)\n",
      "File \u001b[0;32m~/anaconda3/envs/otdd/lib/python3.8/site-packages/torch/nn/modules/module.py:889\u001b[0m, in \u001b[0;36mModule._call_impl\u001b[0;34m(self, *input, **kwargs)\u001b[0m\n\u001b[1;32m    887\u001b[0m     result \u001b[39m=\u001b[39m \u001b[39mself\u001b[39m\u001b[39m.\u001b[39m_slow_forward(\u001b[39m*\u001b[39m\u001b[39minput\u001b[39m, \u001b[39m*\u001b[39m\u001b[39m*\u001b[39mkwargs)\n\u001b[1;32m    888\u001b[0m \u001b[39melse\u001b[39;00m:\n\u001b[0;32m--> 889\u001b[0m     result \u001b[39m=\u001b[39m \u001b[39mself\u001b[39;49m\u001b[39m.\u001b[39;49mforward(\u001b[39m*\u001b[39;49m\u001b[39minput\u001b[39;49m, \u001b[39m*\u001b[39;49m\u001b[39m*\u001b[39;49mkwargs)\n\u001b[1;32m    890\u001b[0m \u001b[39mfor\u001b[39;00m hook \u001b[39min\u001b[39;00m itertools\u001b[39m.\u001b[39mchain(\n\u001b[1;32m    891\u001b[0m         _global_forward_hooks\u001b[39m.\u001b[39mvalues(),\n\u001b[1;32m    892\u001b[0m         \u001b[39mself\u001b[39m\u001b[39m.\u001b[39m_forward_hooks\u001b[39m.\u001b[39mvalues()):\n\u001b[1;32m    893\u001b[0m     hook_result \u001b[39m=\u001b[39m hook(\u001b[39mself\u001b[39m, \u001b[39minput\u001b[39m, result)\n",
      "File \u001b[0;32m~/anaconda3/envs/otdd/lib/python3.8/site-packages/geomloss-0.2.5-py3.8.egg/geomloss/samples_loss.py:265\u001b[0m, in \u001b[0;36mSamplesLoss.forward\u001b[0;34m(self, *args)\u001b[0m\n\u001b[1;32m    262\u001b[0m     α, x, β, y \u001b[39m=\u001b[39m α\u001b[39m.\u001b[39munsqueeze(\u001b[39m0\u001b[39m), x\u001b[39m.\u001b[39munsqueeze(\u001b[39m0\u001b[39m), β\u001b[39m.\u001b[39munsqueeze(\u001b[39m0\u001b[39m), y\u001b[39m.\u001b[39munsqueeze(\u001b[39m0\u001b[39m)\n\u001b[1;32m    264\u001b[0m \u001b[39m# Run --------------------------------------------------------------------------------\u001b[39;00m\n\u001b[0;32m--> 265\u001b[0m values \u001b[39m=\u001b[39m routines[\u001b[39mself\u001b[39;49m\u001b[39m.\u001b[39;49mloss][backend](\n\u001b[1;32m    266\u001b[0m     α,\n\u001b[1;32m    267\u001b[0m     x,\n\u001b[1;32m    268\u001b[0m     β,\n\u001b[1;32m    269\u001b[0m     y,\n\u001b[1;32m    270\u001b[0m     p\u001b[39m=\u001b[39;49m\u001b[39mself\u001b[39;49m\u001b[39m.\u001b[39;49mp,\n\u001b[1;32m    271\u001b[0m     blur\u001b[39m=\u001b[39;49m\u001b[39mself\u001b[39;49m\u001b[39m.\u001b[39;49mblur,\n\u001b[1;32m    272\u001b[0m     reach\u001b[39m=\u001b[39;49m\u001b[39mself\u001b[39;49m\u001b[39m.\u001b[39;49mreach,\n\u001b[1;32m    273\u001b[0m     diameter\u001b[39m=\u001b[39;49m\u001b[39mself\u001b[39;49m\u001b[39m.\u001b[39;49mdiameter,\n\u001b[1;32m    274\u001b[0m     scaling\u001b[39m=\u001b[39;49m\u001b[39mself\u001b[39;49m\u001b[39m.\u001b[39;49mscaling,\n\u001b[1;32m    275\u001b[0m     truncate\u001b[39m=\u001b[39;49m\u001b[39mself\u001b[39;49m\u001b[39m.\u001b[39;49mtruncate,\n\u001b[1;32m    276\u001b[0m     cost\u001b[39m=\u001b[39;49m\u001b[39mself\u001b[39;49m\u001b[39m.\u001b[39;49mcost,\n\u001b[1;32m    277\u001b[0m     kernel\u001b[39m=\u001b[39;49m\u001b[39mself\u001b[39;49m\u001b[39m.\u001b[39;49mkernel,\n\u001b[1;32m    278\u001b[0m     cluster_scale\u001b[39m=\u001b[39;49m\u001b[39mself\u001b[39;49m\u001b[39m.\u001b[39;49mcluster_scale,\n\u001b[1;32m    279\u001b[0m     debias\u001b[39m=\u001b[39;49m\u001b[39mself\u001b[39;49m\u001b[39m.\u001b[39;49mdebias,\n\u001b[1;32m    280\u001b[0m     potentials\u001b[39m=\u001b[39;49m\u001b[39mself\u001b[39;49m\u001b[39m.\u001b[39;49mpotentials,\n\u001b[1;32m    281\u001b[0m     labels_x\u001b[39m=\u001b[39;49ml_x,\n\u001b[1;32m    282\u001b[0m     labels_y\u001b[39m=\u001b[39;49ml_y,\n\u001b[1;32m    283\u001b[0m     verbose\u001b[39m=\u001b[39;49m\u001b[39mself\u001b[39;49m\u001b[39m.\u001b[39;49mverbose,\n\u001b[1;32m    284\u001b[0m )\n\u001b[1;32m    286\u001b[0m \u001b[39m# Make sure that the output has the correct shape ------------------------------------\u001b[39;00m\n\u001b[1;32m    287\u001b[0m \u001b[39mif\u001b[39;00m (\n\u001b[1;32m    288\u001b[0m     \u001b[39mself\u001b[39m\u001b[39m.\u001b[39mpotentials\n\u001b[1;32m    289\u001b[0m ):  \u001b[39m# Return some dual potentials (= test functions) sampled on the input measures\u001b[39;00m\n",
      "File \u001b[0;32m~/anaconda3/envs/otdd/lib/python3.8/site-packages/geomloss-0.2.5-py3.8.egg/geomloss/kernel_samples.py:108\u001b[0m, in \u001b[0;36mkernel_loss\u001b[0;34m(α, x, β, y, blur, kernel, name, potentials, use_keops, ranges_xx, ranges_yy, ranges_xy, **kwargs)\u001b[0m\n\u001b[1;32m     92\u001b[0m \u001b[39mdef\u001b[39;00m \u001b[39mkernel_loss\u001b[39m(\n\u001b[1;32m     93\u001b[0m     α,\n\u001b[1;32m     94\u001b[0m     x,\n\u001b[0;32m   (...)\u001b[0m\n\u001b[1;32m    105\u001b[0m     \u001b[39m*\u001b[39m\u001b[39m*\u001b[39mkwargs\n\u001b[1;32m    106\u001b[0m ):\n\u001b[1;32m    107\u001b[0m     \u001b[39mif\u001b[39;00m kernel \u001b[39mis\u001b[39;00m \u001b[39mNone\u001b[39;00m:\n\u001b[0;32m--> 108\u001b[0m         kernel \u001b[39m=\u001b[39m kernel_routines[name]\n\u001b[1;32m    110\u001b[0m     \u001b[39m# Center the point clouds just in case, to prevent numeric overflows:\u001b[39;00m\n\u001b[1;32m    111\u001b[0m     \u001b[39m# N.B.: This may break user-provided kernels and comes at a non-negligible\u001b[39;00m\n\u001b[1;32m    112\u001b[0m     \u001b[39m#       cost for small problems, so let's disable this by default.\u001b[39;00m\n\u001b[0;32m   (...)\u001b[0m\n\u001b[1;32m    115\u001b[0m \n\u001b[1;32m    116\u001b[0m     \u001b[39m# (B,N,N) tensor\u001b[39;00m\n\u001b[1;32m    117\u001b[0m     K_xx \u001b[39m=\u001b[39m kernel(\n\u001b[1;32m    118\u001b[0m         double_grad(x), x\u001b[39m.\u001b[39mdetach(), blur\u001b[39m=\u001b[39mblur, use_keops\u001b[39m=\u001b[39muse_keops, ranges\u001b[39m=\u001b[39mranges_xx\n\u001b[1;32m    119\u001b[0m     )\n",
      "\u001b[0;31mKeyError\u001b[0m: None"
     ]
    }
   ],
   "source": [
    "cost_func = lambda x, y: torch.Tensor(ot.dist(x.numpy(), y.numpy()), metric='cosine')\n",
    "distance = geomloss.SamplesLoss(\n",
    "            loss='hausdorff', p=2,\n",
    "            cost=geomloss.utils.distances,\n",
    "            #debias=True,\n",
    "            blur=0.05)\n",
    "distance(x, y)\n"
   ]
  },
  {
   "cell_type": "code",
   "execution_count": null,
   "metadata": {},
   "outputs": [
    {
     "data": {
      "text/plain": [
       "array([[9.0372095, 9.186621 , 9.289699 , ..., 8.88498  , 9.218829 ,\n",
       "        8.857074 ],\n",
       "       [8.895832 , 9.231877 , 9.3643265, ..., 9.310248 , 9.103726 ,\n",
       "        9.045063 ],\n",
       "       [8.706479 , 9.464011 , 9.407043 , ..., 9.213037 , 9.366762 ,\n",
       "        9.10549  ],\n",
       "       ...,\n",
       "       [8.787475 , 9.429503 , 9.280655 , ..., 9.435707 , 9.077512 ,\n",
       "        8.9355755],\n",
       "       [9.393565 , 9.48104  , 9.532231 , ..., 9.417166 , 9.369076 ,\n",
       "        9.140358 ],\n",
       "       [9.34291  , 8.987768 , 9.081922 , ..., 8.796278 , 8.816949 ,\n",
       "        9.25925  ]], dtype=float32)"
      ]
     },
     "metadata": {},
     "output_type": "display_data"
    }
   ],
   "source": [
    "d2"
   ]
  },
  {
   "cell_type": "code",
   "execution_count": 7,
   "metadata": {},
   "outputs": [
    {
     "data": {
      "text/plain": [
       "8.703844022750854"
      ]
     },
     "execution_count": 7,
     "metadata": {},
     "output_type": "execute_result"
    }
   ],
   "source": [
    "import ot\n",
    "\n",
    "M = ot.dist(x.numpy(), y.numpy(), metric='euclidean')\n",
    "ot.emd2(ot.unif(M.shape[0]), ot.unif(M.shape[1]), M)"
   ]
  }
 ],
 "metadata": {
  "kernelspec": {
   "display_name": "Python 3.8.13 ('otdd')",
   "language": "python",
   "name": "python3"
  },
  "language_info": {
   "codemirror_mode": {
    "name": "ipython",
    "version": 3
   },
   "file_extension": ".py",
   "mimetype": "text/x-python",
   "name": "python",
   "nbconvert_exporter": "python",
   "pygments_lexer": "ipython3",
   "version": "3.8.13"
  },
  "orig_nbformat": 4,
  "vscode": {
   "interpreter": {
    "hash": "eff6759169b6e11a8823a87099dca5072d25edbd00ef755b84f465c4d92da777"
   }
  }
 },
 "nbformat": 4,
 "nbformat_minor": 2
}
