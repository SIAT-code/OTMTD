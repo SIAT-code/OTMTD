{
 "cells": [
  {
   "cell_type": "code",
   "execution_count": 4,
   "metadata": {},
   "outputs": [],
   "source": [
    "import time\n",
    "import random\n",
    "import itertools\n",
    "import collections\n",
    "import numpy as np\n",
    "import pandas as pd\n",
    "import torch\n",
    "import torch.nn as nn\n",
    "import matplotlib.pyplot as plt\n",
    "from torch.utils.data import Dataset, DataLoader\n",
    "\n",
    "from otmtd.utils.distance_otdd import OTDD\n",
    "from scipy.spatial import distance\n",
    "\n",
    "\n",
    "class EmbeddingDataset(Dataset):\n",
    "    def __init__(self, task, text_path, train_embs_path, valid_embs_path=None, pt_label='domain'):\n",
    "        embs, labels, unique_labels = self.load_embs_and_labels(task, text_path, train_embs_path, valid_embs_path, pt_label)\n",
    "        if task != 'pre_train':\n",
    "            print(\"{} unique labels: {}\".format(task.capitalize(), len(unique_labels)))\n",
    "        else:\n",
    "            print(\"PRE-TRAIN {} unique labels: {}\".format(pt_label, len(unique_labels)))\n",
    "        counter = collections.Counter(labels)\n",
    "        sorted_counter = dict(sorted(counter.items(), key=lambda kv: kv[1], reverse=True))\n",
    "        print(sorted_counter)\n",
    "        self.unique_labels = unique_labels\n",
    "\n",
    "        self.embs_and_labels = pd.concat([embs, labels], axis=1)\n",
    "        # 创建otdd需求的Dataset属性\n",
    "        self.classes = [str(k) for k in unique_labels] # list of unique labels string\n",
    "        self.targets = torch.tensor(list(labels))\n",
    "\n",
    "    def __len__(self):\n",
    "        return len(self.targets)\n",
    "\n",
    "    def __getitem__(self, idx):\n",
    "        embedding = self.embs_and_labels.iloc[idx]['pro_emb']\n",
    "        label = self.embs_and_labels.iloc[idx]['label']\n",
    "        return torch.tensor(embedding).reshape(1, -1, 1), torch.tensor(label)\n",
    "\n",
    "    def load_embs_and_labels(self, task, text_path, train_embs_path, valid_embs_path, pt_label):\n",
    "        texts = pd.read_csv(text_path)\n",
    "        if task=='pre_train':\n",
    "            texts.rename(columns={pt_label: 'label'}, inplace=True)\n",
    "        labels = texts['label']\n",
    "        unique_labels = labels.unique()\n",
    "\n",
    "        if task=='pre_train' or task=='kinase': # pre_train / kinase, only `train` set\n",
    "            embs = pd.read_pickle(train_embs_path)\n",
    "        else:\n",
    "            train_embs, valid_embs = pd.read_pickle(train_embs_path), pd.read_pickle(valid_embs_path)\n",
    "            embs = pd.concat([train_embs, valid_embs], axis=0)\n",
    "\n",
    "        selected_ids = texts['uniprot_id'].tolist()\n",
    "        selected_embs_flag = embs['pro_id'].map(lambda x: True if x in selected_ids else False)\n",
    "        embs = embs[selected_embs_flag].reset_index(drop=True)\n",
    "        embs = embs['pro_emb']\n",
    "\n",
    "        return embs, labels, unique_labels\n",
    "    \n",
    "def set_random_seed(SEED):\n",
    "    np.random.seed(SEED)\n",
    "    torch.manual_seed(SEED)\n",
    "    torch.cuda.manual_seed(SEED)\n",
    "\n",
    "def cal_combs_distances_mean(all_pt_tasks, t2t_distances_list):\n",
    "    mean_t2t_distances = []\n",
    "    for pt_task in all_pt_tasks:\n",
    "        spec_pt_task_distance = []\n",
    "        for t2t_distances in t2t_distances_list:\n",
    "            if pt_task in t2t_distances['pt_task'].tolist():\n",
    "                spec_pt_task_distance.append(t2t_distances[t2t_distances['pt_task']==pt_task].to_numpy()[:, :-1].reshape(1, -1))\n",
    "        spec_pt_task_distance = np.concatenate(spec_pt_task_distance, axis=0).astype(np.float32).mean(axis=0)\n",
    "        mean_t2t_distances.append(spec_pt_task_distance)\n",
    "    mean_t2t_distances = np.stack(mean_t2t_distances, axis=0)\n",
    "    return mean_t2t_distances"
   ]
  },
  {
   "cell_type": "code",
   "execution_count": 6,
   "metadata": {},
   "outputs": [
    {
     "name": "stdout",
     "output_type": "stream",
     "text": [
      "Start loading data for Pretrain-MultiTask: MLM+RMD\n",
      "PRE-TRAIN mlm unique labels: 15\n",
      "{2: 148, 10: 117, 6: 116, 8: 101, 9: 98, 4: 95, 5: 59, 14: 54, 1: 49, 3: 47, 7: 46, 12: 45, 0: 45, 11: 13, 13: 12}\n",
      "PRE-TRAIN domain unique labels: 13\n",
      "{0: 173, 1: 165, 2: 121, 3: 89, 4: 88, 5: 64, 6: 59, 7: 53, 8: 50, 9: 47, 10: 46, 11: 45, 12: 45}\n",
      "PRE-TRAIN motif unique labels: 5\n",
      "{0: 843, 1: 59, 2: 50, 3: 47, 4: 46}\n",
      "PRE-TRAIN region unique labels: 10\n",
      "{0: 202, 1: 173, 2: 165, 3: 121, 4: 89, 5: 88, 6: 64, 7: 53, 8: 45, 9: 45}\n",
      "Stability unique labels: 12\n",
      "{0: 101, 1: 87, 2: 83, 3: 57, 4: 53, 5: 34, 6: 27, 7: 20, 8: 14, 9: 11, 10: 7, 11: 6}\n",
      "Fluoresecence unique labels: 12\n",
      "{0: 142, 1: 83, 2: 80, 3: 48, 4: 38, 5: 35, 6: 20, 7: 20, 8: 14, 9: 9, 10: 6, 11: 5}\n",
      "Remote_homology unique labels: 16\n",
      "{0: 136, 1: 126, 2: 96, 3: 26, 4: 20, 5: 14, 6: 11, 7: 11, 8: 9, 9: 9, 10: 8, 11: 8, 12: 7, 13: 7, 14: 6, 15: 6}\n",
      "Secondary_structrue unique labels: 15\n",
      "{9: 55, 3: 50, 1: 46, 14: 45, 8: 42, 7: 38, 13: 38, 0: 32, 6: 30, 11: 28, 2: 25, 5: 23, 12: 19, 10: 17, 4: 12}\n",
      "Pdbbind unique labels: 11\n",
      "{0: 81, 1: 70, 2: 66, 3: 58, 4: 57, 5: 56, 6: 33, 7: 28, 8: 28, 9: 18, 10: 5}\n",
      "Kinase unique labels: 2\n",
      "{0: 398, 1: 102}\n",
      "Start loading data for Pretrain-MultiTask: GO+RMD\n",
      "PRE-TRAIN domain unique labels: 13\n",
      "{0: 173, 1: 165, 2: 121, 3: 89, 4: 88, 5: 64, 6: 59, 7: 53, 8: 50, 9: 47, 10: 46, 11: 45, 12: 45}\n",
      "PRE-TRAIN motif unique labels: 5\n",
      "{0: 843, 1: 59, 2: 50, 3: 47, 4: 46}\n",
      "PRE-TRAIN region unique labels: 10\n",
      "{0: 202, 1: 173, 2: 165, 3: 121, 4: 89, 5: 88, 6: 64, 7: 53, 8: 45, 9: 45}\n",
      "PRE-TRAIN go unique labels: 9\n",
      "{0: 347, 1: 229, 2: 133, 3: 89, 4: 59, 5: 50, 6: 47, 7: 46, 8: 45}\n",
      "Stability unique labels: 12\n",
      "{0: 101, 1: 87, 2: 83, 3: 57, 4: 53, 5: 34, 6: 27, 7: 20, 8: 14, 9: 11, 10: 7, 11: 6}\n",
      "Fluoresecence unique labels: 12\n",
      "{0: 142, 1: 83, 2: 80, 3: 48, 4: 38, 5: 35, 6: 20, 7: 20, 8: 14, 9: 9, 10: 6, 11: 5}\n",
      "Remote_homology unique labels: 16\n",
      "{0: 136, 1: 126, 2: 96, 3: 26, 4: 20, 5: 14, 6: 11, 7: 11, 8: 9, 9: 9, 10: 8, 11: 8, 12: 7, 13: 7, 14: 6, 15: 6}\n",
      "Secondary_structrue unique labels: 15\n",
      "{9: 55, 3: 50, 1: 46, 14: 45, 8: 42, 7: 38, 13: 38, 0: 32, 6: 30, 11: 28, 2: 25, 5: 23, 12: 19, 10: 17, 4: 12}\n",
      "Pdbbind unique labels: 11\n",
      "{0: 81, 1: 70, 2: 66, 3: 58, 4: 57, 5: 56, 6: 33, 7: 28, 8: 28, 9: 18, 10: 5}\n",
      "Kinase unique labels: 2\n",
      "{0: 398, 1: 102}\n",
      "Start loading data for Pretrain-MultiTask: MLM+GO+D\n",
      "PRE-TRAIN mlm unique labels: 15\n",
      "{2: 148, 10: 117, 6: 116, 8: 101, 9: 98, 4: 95, 5: 59, 14: 54, 1: 49, 3: 47, 7: 46, 12: 45, 0: 45, 11: 13, 13: 12}\n",
      "PRE-TRAIN domain unique labels: 13\n",
      "{0: 173, 1: 165, 2: 121, 3: 89, 4: 88, 5: 64, 6: 59, 7: 53, 8: 50, 9: 47, 10: 46, 11: 45, 12: 45}\n",
      "PRE-TRAIN go unique labels: 9\n",
      "{0: 347, 1: 229, 2: 133, 3: 89, 4: 59, 5: 50, 6: 47, 7: 46, 8: 45}\n",
      "Stability unique labels: 12\n",
      "{0: 101, 1: 87, 2: 83, 3: 57, 4: 53, 5: 34, 6: 27, 7: 20, 8: 14, 9: 11, 10: 7, 11: 6}\n",
      "Fluoresecence unique labels: 12\n",
      "{0: 142, 1: 83, 2: 80, 3: 48, 4: 38, 5: 35, 6: 20, 7: 20, 8: 14, 9: 9, 10: 6, 11: 5}\n",
      "Remote_homology unique labels: 16\n",
      "{0: 136, 1: 126, 2: 96, 3: 26, 4: 20, 5: 14, 6: 11, 7: 11, 8: 9, 9: 9, 10: 8, 11: 8, 12: 7, 13: 7, 14: 6, 15: 6}\n",
      "Secondary_structrue unique labels: 15\n",
      "{9: 55, 3: 50, 1: 46, 14: 45, 8: 42, 7: 38, 13: 38, 0: 32, 6: 30, 11: 28, 2: 25, 5: 23, 12: 19, 10: 17, 4: 12}\n",
      "Pdbbind unique labels: 11\n",
      "{0: 81, 1: 70, 2: 66, 3: 58, 4: 57, 5: 56, 6: 33, 7: 28, 8: 28, 9: 18, 10: 5}\n",
      "Kinase unique labels: 2\n",
      "{0: 398, 1: 102}\n",
      "Start loading data for Pretrain-MultiTask: RMD\n",
      "PRE-TRAIN domain unique labels: 13\n",
      "{0: 173, 1: 165, 2: 121, 3: 89, 4: 88, 5: 64, 6: 59, 7: 53, 8: 50, 9: 47, 10: 46, 11: 45, 12: 45}\n",
      "PRE-TRAIN motif unique labels: 5\n",
      "{0: 843, 1: 59, 2: 50, 3: 47, 4: 46}\n",
      "PRE-TRAIN region unique labels: 10\n",
      "{0: 202, 1: 173, 2: 165, 3: 121, 4: 89, 5: 88, 6: 64, 7: 53, 8: 45, 9: 45}\n",
      "Stability unique labels: 12\n",
      "{0: 101, 1: 87, 2: 83, 3: 57, 4: 53, 5: 34, 6: 27, 7: 20, 8: 14, 9: 11, 10: 7, 11: 6}\n",
      "Fluoresecence unique labels: 12\n",
      "{0: 142, 1: 83, 2: 80, 3: 48, 4: 38, 5: 35, 6: 20, 7: 20, 8: 14, 9: 9, 10: 6, 11: 5}\n",
      "Remote_homology unique labels: 16\n",
      "{0: 136, 1: 126, 2: 96, 3: 26, 4: 20, 5: 14, 6: 11, 7: 11, 8: 9, 9: 9, 10: 8, 11: 8, 12: 7, 13: 7, 14: 6, 15: 6}\n",
      "Secondary_structrue unique labels: 15\n",
      "{9: 55, 3: 50, 1: 46, 14: 45, 8: 42, 7: 38, 13: 38, 0: 32, 6: 30, 11: 28, 2: 25, 5: 23, 12: 19, 10: 17, 4: 12}\n",
      "Pdbbind unique labels: 11\n",
      "{0: 81, 1: 70, 2: 66, 3: 58, 4: 57, 5: 56, 6: 33, 7: 28, 8: 28, 9: 18, 10: 5}\n",
      "Kinase unique labels: 2\n",
      "{0: 398, 1: 102}\n"
     ]
    }
   ],
   "source": [
    "num_samples = 1000\n",
    "TaskCombs = ['MLM+RMD', 'GO+RMD', 'MLM+GO+D', 'RMD']\n",
    "pt_tasks_combs = [\n",
    "    ['mlm', 'domain', 'motif', 'region'],\n",
    "    ['domain', 'motif', 'region', 'go'],\n",
    "    ['mlm', 'domain', 'go'],\n",
    "    ['domain', 'motif', 'region']\n",
    "]\n",
    "all_pt_tasks = ['PT-mlm', 'PT-domain', 'PT-motif', 'PT-region', 'PT-go']\n",
    "device = torch.device('cpu')\n",
    "p = 2\n",
    "\n",
    "# prepare data\n",
    "texts_base_dir = \"/home/brian/work/OTMTD_GH/processed_data\"\n",
    "embs_base_dir = \"/home/brian/work/OTMTD_GH/protein_embeddings_MultiTasks\"\n",
    "data_stuffs_dict = {}\n",
    "for i, comb in enumerate(TaskCombs):\n",
    "    print(\"Start loading data for Pretrain-MultiTask: {}\".format(comb))\n",
    "    # 根据multi-tasks combination构建对应的embdding hub\n",
    "    tasks_texts_embs_hub = {\n",
    "        'pre_train': [\"{}/pre_train/sampling_set.txt\".format(texts_base_dir),\n",
    "                        \"{}/pre_train_combs/pre_train_{}_pro_embs_pt.pkl\".format(embs_base_dir, comb)],\n",
    "        'stability': [\"{}/stability/sequence_go_label_{}.txt\".format(texts_base_dir, num_samples),\n",
    "                        \"{}/stability/{}->stability_pretrain_pro_embs_train.pkl\".format(embs_base_dir, comb),\n",
    "                        \"{}/stability/{}->stability_pretrain_pro_embs_valid.pkl\".format(embs_base_dir, comb)],\n",
    "        'fluoresecence': [\"{}/fluorescence/sequence_go_label_{}.txt\".format(texts_base_dir, num_samples),\n",
    "                        \"{}/fluorescence/{}->fluorescence_pretrain_pro_embs_train.pkl\".format(embs_base_dir, comb),\n",
    "                        \"{}/fluorescence/{}->fluorescence_pretrain_pro_embs_valid.pkl\".format(embs_base_dir, comb)],\n",
    "        'remote_homology': [\"{}/remote_homology/sequence_go_label_{}.txt\".format(texts_base_dir, num_samples),\n",
    "                            \"{}/remote_homology/{}->remote_homology_pretrain_pro_embs_train.pkl\".format(embs_base_dir, comb),\n",
    "                            \"{}/remote_homology/{}->remote_homology_pretrain_pro_embs_valid.pkl\".format(embs_base_dir, comb)], \n",
    "        'secondary_structrue': [\"{}/secondary_structure/sequence_go_label_{}.txt\".format(texts_base_dir, num_samples),\n",
    "                                \"{}/secondary_structure/{}->secondary_structure_pretrain_pro_embs_train.pkl\".format(embs_base_dir, comb),\n",
    "                                \"{}/secondary_structure/{}->secondary_structure_pretrain_pro_embs_valid.pkl\".format(embs_base_dir, comb)],\n",
    "        'pdbbind': [\"{}/pdbbind/sequence_go_label_{}.txt\".format(texts_base_dir, num_samples),\n",
    "                    \"{}/pdbbind/{}->pdbbind_pretrain_pro_embs_train.pkl\".format(embs_base_dir, comb),\n",
    "                    \"{}/pdbbind/{}->pdbbind_pretrain_pro_embs_dev.pkl\".format(embs_base_dir, comb)],\n",
    "        'kinase': [\"{}/kinase/sequence_go_label_{}.txt\".format(texts_base_dir, num_samples),\n",
    "                    \"{}/kinase//{}->kinase_pretrain_pro_embs_train.pkl\".format(embs_base_dir, comb)]\n",
    "    }\n",
    "\n",
    "    pt_datasets, pt_names = [], []\n",
    "    for label_task in pt_tasks_combs[i]:\n",
    "        dataset = EmbeddingDataset('pre_train', *tasks_texts_embs_hub['pre_train'], pt_label=label_task)\n",
    "        pt_datasets.append(dataset)\n",
    "        pt_names.append('PT-{}'.format(label_task))\n",
    "\n",
    "    ft_datasets, ft_names = [], []\n",
    "    for task in ['stability', 'fluoresecence', 'remote_homology', 'secondary_structrue', 'pdbbind', 'kinase']: # \n",
    "        dataset = EmbeddingDataset(task, *tasks_texts_embs_hub[task])\n",
    "        ft_datasets.append(dataset)\n",
    "        ft_names.append(task.capitalize())\n",
    "\n",
    "    pt_tasks_dict = {task: idx for idx, task in enumerate(pt_tasks_combs[i])}\n",
    "\n",
    "    data_stuff = [pt_datasets, pt_names, ft_datasets, ft_names, pt_tasks_dict]\n",
    "    data_stuffs_dict[comb] = data_stuff"
   ]
  },
  {
   "attachments": {},
   "cell_type": "markdown",
   "metadata": {},
   "source": [
    "# Baseline 1: 独立mask平均OTDD"
   ]
  },
  {
   "cell_type": "code",
   "execution_count": 10,
   "metadata": {},
   "outputs": [
    {
     "name": "stdout",
     "output_type": "stream",
     "text": [
      "Start computing for Pretrain-MultiTask: MLM+RMD\n",
      "Computing inter label-to-label distance for PT-mlm & Stability\n"
     ]
    },
    {
     "name": "stderr",
     "output_type": "stream",
     "text": [
      "12it [00:00, 19.65it/s]\n",
      "Computing label-to-label distances: 100%|██████████| 180/180 [00:09<00:00, 19.61it/s]\n"
     ]
    },
    {
     "name": "stdout",
     "output_type": "stream",
     "text": [
      "OTDD distance of PT-mlm and Stability is: 679.25\n",
      "Computing inter label-to-label distance for PT-mlm & Fluoresecence\n"
     ]
    },
    {
     "name": "stderr",
     "output_type": "stream",
     "text": [
      "12it [00:00, 19.56it/s]\n",
      "Computing label-to-label distances: 100%|██████████| 180/180 [00:09<00:00, 19.82it/s]\n"
     ]
    },
    {
     "name": "stdout",
     "output_type": "stream",
     "text": [
      "OTDD distance of PT-mlm and Fluoresecence is: 1095.73\n",
      "Computing inter label-to-label distance for PT-mlm & Remote_homology\n"
     ]
    },
    {
     "name": "stderr",
     "output_type": "stream",
     "text": [
      "15it [00:00, 19.99it/s]\n",
      "Computing label-to-label distances: 100%|██████████| 240/240 [00:12<00:00, 19.76it/s]\n"
     ]
    },
    {
     "name": "stdout",
     "output_type": "stream",
     "text": [
      "OTDD distance of PT-mlm and Remote_homology is: 601.37\n",
      "Computing inter label-to-label distance for PT-mlm & Secondary_structrue\n"
     ]
    },
    {
     "name": "stderr",
     "output_type": "stream",
     "text": [
      "15it [00:00, 20.10it/s]\n",
      "Computing label-to-label distances: 100%|██████████| 225/225 [00:11<00:00, 19.65it/s]\n"
     ]
    },
    {
     "name": "stdout",
     "output_type": "stream",
     "text": [
      "OTDD distance of PT-mlm and Secondary_structrue is: 499.54\n",
      "Computing inter label-to-label distance for PT-mlm & Pdbbind\n"
     ]
    },
    {
     "name": "stderr",
     "output_type": "stream",
     "text": [
      "11it [00:00, 19.30it/s]\n",
      "Computing label-to-label distances: 100%|██████████| 165/165 [00:08<00:00, 19.54it/s]\n"
     ]
    },
    {
     "name": "stdout",
     "output_type": "stream",
     "text": [
      "OTDD distance of PT-mlm and Pdbbind is: 565.86\n",
      "Computing inter label-to-label distance for PT-mlm & Kinase\n"
     ]
    },
    {
     "name": "stderr",
     "output_type": "stream",
     "text": [
      "2it [00:00, 15.13it/s]\n",
      "Computing label-to-label distances: 100%|██████████| 30/30 [00:01<00:00, 20.12it/s]\n"
     ]
    },
    {
     "name": "stdout",
     "output_type": "stream",
     "text": [
      "OTDD distance of PT-mlm and Kinase is: 884.16\n",
      "Computing inter label-to-label distance for PT-domain & Stability\n"
     ]
    },
    {
     "name": "stderr",
     "output_type": "stream",
     "text": [
      "12it [00:00, 18.34it/s]\n",
      "Computing label-to-label distances: 100%|██████████| 156/156 [00:08<00:00, 19.41it/s]\n"
     ]
    },
    {
     "name": "stdout",
     "output_type": "stream",
     "text": [
      "OTDD distance of PT-domain and Stability is: 679.38\n",
      "Computing inter label-to-label distance for PT-domain & Fluoresecence\n"
     ]
    },
    {
     "name": "stderr",
     "output_type": "stream",
     "text": [
      "12it [00:00, 20.09it/s]\n",
      "Computing label-to-label distances: 100%|██████████| 156/156 [00:07<00:00, 19.79it/s]\n"
     ]
    },
    {
     "name": "stdout",
     "output_type": "stream",
     "text": [
      "OTDD distance of PT-domain and Fluoresecence is: 1095.76\n",
      "Computing inter label-to-label distance for PT-domain & Remote_homology\n"
     ]
    },
    {
     "name": "stderr",
     "output_type": "stream",
     "text": [
      "13it [00:00, 19.57it/s]\n",
      "Computing label-to-label distances: 100%|██████████| 208/208 [00:10<00:00, 19.31it/s]\n"
     ]
    },
    {
     "name": "stdout",
     "output_type": "stream",
     "text": [
      "OTDD distance of PT-domain and Remote_homology is: 601.31\n",
      "Computing inter label-to-label distance for PT-domain & Secondary_structrue\n"
     ]
    },
    {
     "name": "stderr",
     "output_type": "stream",
     "text": [
      "13it [00:00, 19.60it/s]\n",
      "Computing label-to-label distances: 100%|██████████| 195/195 [00:10<00:00, 19.33it/s]\n"
     ]
    },
    {
     "name": "stdout",
     "output_type": "stream",
     "text": [
      "OTDD distance of PT-domain and Secondary_structrue is: 499.54\n",
      "Computing inter label-to-label distance for PT-domain & Pdbbind\n"
     ]
    },
    {
     "name": "stderr",
     "output_type": "stream",
     "text": [
      "11it [00:00, 18.57it/s]\n",
      "Computing label-to-label distances: 100%|██████████| 143/143 [00:07<00:00, 20.23it/s]\n"
     ]
    },
    {
     "name": "stdout",
     "output_type": "stream",
     "text": [
      "OTDD distance of PT-domain and Pdbbind is: 566.07\n",
      "Computing inter label-to-label distance for PT-domain & Kinase\n"
     ]
    },
    {
     "name": "stderr",
     "output_type": "stream",
     "text": [
      "2it [00:00, 15.27it/s]\n",
      "Computing label-to-label distances: 100%|██████████| 26/26 [00:01<00:00, 20.17it/s]\n"
     ]
    },
    {
     "name": "stdout",
     "output_type": "stream",
     "text": [
      "OTDD distance of PT-domain and Kinase is: 884.24\n",
      "Computing inter label-to-label distance for PT-motif & Stability\n"
     ]
    },
    {
     "name": "stderr",
     "output_type": "stream",
     "text": [
      "5it [00:00, 21.38it/s]\n",
      "Computing label-to-label distances: 100%|██████████| 60/60 [00:03<00:00, 19.70it/s]\n"
     ]
    },
    {
     "name": "stdout",
     "output_type": "stream",
     "text": [
      "OTDD distance of PT-motif and Stability is: 657.41\n",
      "Computing inter label-to-label distance for PT-motif & Fluoresecence\n"
     ]
    },
    {
     "name": "stderr",
     "output_type": "stream",
     "text": [
      "5it [00:00, 18.69it/s]\n",
      "Computing label-to-label distances: 100%|██████████| 60/60 [00:03<00:00, 19.21it/s]\n"
     ]
    },
    {
     "name": "stdout",
     "output_type": "stream",
     "text": [
      "OTDD distance of PT-motif and Fluoresecence is: 1092.46\n",
      "Computing inter label-to-label distance for PT-motif & Remote_homology\n"
     ]
    },
    {
     "name": "stderr",
     "output_type": "stream",
     "text": [
      "5it [00:00, 14.61it/s]\n",
      "Computing label-to-label distances: 100%|██████████| 80/80 [00:04<00:00, 18.73it/s]\n"
     ]
    },
    {
     "name": "stdout",
     "output_type": "stream",
     "text": [
      "OTDD distance of PT-motif and Remote_homology is: 585.95\n",
      "Computing inter label-to-label distance for PT-motif & Secondary_structrue\n"
     ]
    },
    {
     "name": "stderr",
     "output_type": "stream",
     "text": [
      "5it [00:00, 16.61it/s]\n",
      "Computing label-to-label distances: 100%|██████████| 75/75 [00:03<00:00, 19.85it/s]\n"
     ]
    },
    {
     "name": "stdout",
     "output_type": "stream",
     "text": [
      "OTDD distance of PT-motif and Secondary_structrue is: 493.49\n",
      "Computing inter label-to-label distance for PT-motif & Pdbbind\n"
     ]
    },
    {
     "name": "stderr",
     "output_type": "stream",
     "text": [
      "5it [00:00, 20.26it/s]\n",
      "Computing label-to-label distances: 100%|██████████| 55/55 [00:02<00:00, 19.92it/s]\n"
     ]
    },
    {
     "name": "stdout",
     "output_type": "stream",
     "text": [
      "OTDD distance of PT-motif and Pdbbind is: 537.94\n",
      "Computing inter label-to-label distance for PT-motif & Kinase\n"
     ]
    },
    {
     "name": "stderr",
     "output_type": "stream",
     "text": [
      "2it [00:00, 16.70it/s]\n",
      "Computing label-to-label distances: 100%|██████████| 10/10 [00:00<00:00, 19.92it/s]\n"
     ]
    },
    {
     "name": "stdout",
     "output_type": "stream",
     "text": [
      "OTDD distance of PT-motif and Kinase is: 860.33\n",
      "Computing inter label-to-label distance for PT-region & Stability\n"
     ]
    },
    {
     "name": "stderr",
     "output_type": "stream",
     "text": [
      "10it [00:00, 19.27it/s]\n",
      "Computing label-to-label distances: 100%|██████████| 120/120 [00:06<00:00, 19.29it/s]\n"
     ]
    },
    {
     "name": "stdout",
     "output_type": "stream",
     "text": [
      "OTDD distance of PT-region and Stability is: 673.54\n",
      "Computing inter label-to-label distance for PT-region & Fluoresecence\n"
     ]
    },
    {
     "name": "stderr",
     "output_type": "stream",
     "text": [
      "10it [00:00, 20.33it/s]\n",
      "Computing label-to-label distances: 100%|██████████| 120/120 [00:06<00:00, 19.92it/s]\n"
     ]
    },
    {
     "name": "stdout",
     "output_type": "stream",
     "text": [
      "OTDD distance of PT-region and Fluoresecence is: 1094.74\n",
      "Computing inter label-to-label distance for PT-region & Remote_homology\n"
     ]
    },
    {
     "name": "stderr",
     "output_type": "stream",
     "text": [
      "10it [00:00, 16.61it/s]\n",
      "Computing label-to-label distances: 100%|██████████| 160/160 [00:08<00:00, 19.94it/s]\n"
     ]
    },
    {
     "name": "stdout",
     "output_type": "stream",
     "text": [
      "OTDD distance of PT-region and Remote_homology is: 597.72\n",
      "Computing inter label-to-label distance for PT-region & Secondary_structrue\n"
     ]
    },
    {
     "name": "stderr",
     "output_type": "stream",
     "text": [
      "10it [00:00, 18.11it/s]\n",
      "Computing label-to-label distances: 100%|██████████| 150/150 [00:07<00:00, 20.35it/s]\n"
     ]
    },
    {
     "name": "stdout",
     "output_type": "stream",
     "text": [
      "OTDD distance of PT-region and Secondary_structrue is: 498.53\n",
      "Computing inter label-to-label distance for PT-region & Pdbbind\n"
     ]
    },
    {
     "name": "stderr",
     "output_type": "stream",
     "text": [
      "10it [00:00, 19.20it/s]\n",
      "Computing label-to-label distances: 100%|██████████| 110/110 [00:05<00:00, 19.53it/s]\n"
     ]
    },
    {
     "name": "stdout",
     "output_type": "stream",
     "text": [
      "OTDD distance of PT-region and Pdbbind is: 559.33\n",
      "Computing inter label-to-label distance for PT-region & Kinase\n"
     ]
    },
    {
     "name": "stderr",
     "output_type": "stream",
     "text": [
      "2it [00:00, 12.13it/s]\n",
      "Computing label-to-label distances: 100%|██████████| 20/20 [00:01<00:00, 19.87it/s]\n"
     ]
    },
    {
     "name": "stdout",
     "output_type": "stream",
     "text": [
      "OTDD distance of PT-region and Kinase is: 879.69\n",
      "==== x ==== ==== x ==== ==== x ==== ==== x ==== ==== x ==== \n",
      "Start computing for Pretrain-MultiTask: GO+RMD\n",
      "Computing inter label-to-label distance for PT-domain & Stability\n"
     ]
    },
    {
     "name": "stderr",
     "output_type": "stream",
     "text": [
      "12it [00:00, 19.50it/s]\n",
      "Computing label-to-label distances: 100%|██████████| 156/156 [00:07<00:00, 19.82it/s]\n"
     ]
    },
    {
     "name": "stdout",
     "output_type": "stream",
     "text": [
      "OTDD distance of PT-domain and Stability is: 933.33\n",
      "Computing inter label-to-label distance for PT-domain & Fluoresecence\n"
     ]
    },
    {
     "name": "stderr",
     "output_type": "stream",
     "text": [
      "12it [00:00, 16.15it/s]\n",
      "Computing label-to-label distances: 100%|██████████| 156/156 [00:07<00:00, 19.50it/s]\n"
     ]
    },
    {
     "name": "stdout",
     "output_type": "stream",
     "text": [
      "OTDD distance of PT-domain and Fluoresecence is: 1212.19\n",
      "Computing inter label-to-label distance for PT-domain & Remote_homology\n"
     ]
    },
    {
     "name": "stderr",
     "output_type": "stream",
     "text": [
      "13it [00:00, 19.95it/s]\n",
      "Computing label-to-label distances: 100%|██████████| 208/208 [00:10<00:00, 19.10it/s]\n"
     ]
    },
    {
     "name": "stdout",
     "output_type": "stream",
     "text": [
      "OTDD distance of PT-domain and Remote_homology is: 818.60\n",
      "Computing inter label-to-label distance for PT-domain & Secondary_structrue\n"
     ]
    },
    {
     "name": "stderr",
     "output_type": "stream",
     "text": [
      "13it [00:00, 17.86it/s]\n",
      "Computing label-to-label distances: 100%|██████████| 195/195 [00:09<00:00, 19.67it/s]\n"
     ]
    },
    {
     "name": "stdout",
     "output_type": "stream",
     "text": [
      "OTDD distance of PT-domain and Secondary_structrue is: 676.42\n",
      "Computing inter label-to-label distance for PT-domain & Pdbbind\n"
     ]
    },
    {
     "name": "stderr",
     "output_type": "stream",
     "text": [
      "11it [00:00, 20.71it/s]\n",
      "Computing label-to-label distances: 100%|██████████| 143/143 [00:07<00:00, 19.82it/s]\n"
     ]
    },
    {
     "name": "stdout",
     "output_type": "stream",
     "text": [
      "OTDD distance of PT-domain and Pdbbind is: 832.53\n",
      "Computing inter label-to-label distance for PT-domain & Kinase\n"
     ]
    },
    {
     "name": "stderr",
     "output_type": "stream",
     "text": [
      "2it [00:00, 17.35it/s]\n",
      "Computing label-to-label distances: 100%|██████████| 26/26 [00:01<00:00, 19.22it/s]\n"
     ]
    },
    {
     "name": "stdout",
     "output_type": "stream",
     "text": [
      "OTDD distance of PT-domain and Kinase is: 1076.32\n",
      "Computing inter label-to-label distance for PT-motif & Stability\n"
     ]
    },
    {
     "name": "stderr",
     "output_type": "stream",
     "text": [
      "5it [00:00, 18.42it/s]\n",
      "Computing label-to-label distances: 100%|██████████| 60/60 [00:03<00:00, 19.64it/s]\n"
     ]
    },
    {
     "name": "stdout",
     "output_type": "stream",
     "text": [
      "OTDD distance of PT-motif and Stability is: 902.21\n",
      "Computing inter label-to-label distance for PT-motif & Fluoresecence\n"
     ]
    },
    {
     "name": "stderr",
     "output_type": "stream",
     "text": [
      "5it [00:00, 19.78it/s]\n",
      "Computing label-to-label distances: 100%|██████████| 60/60 [00:03<00:00, 19.70it/s]\n"
     ]
    },
    {
     "name": "stdout",
     "output_type": "stream",
     "text": [
      "OTDD distance of PT-motif and Fluoresecence is: 1205.86\n",
      "Computing inter label-to-label distance for PT-motif & Remote_homology\n"
     ]
    },
    {
     "name": "stderr",
     "output_type": "stream",
     "text": [
      "5it [00:00, 13.77it/s]\n",
      "Computing label-to-label distances: 100%|██████████| 80/80 [00:04<00:00, 19.89it/s]\n"
     ]
    },
    {
     "name": "stdout",
     "output_type": "stream",
     "text": [
      "OTDD distance of PT-motif and Remote_homology is: 788.15\n",
      "Computing inter label-to-label distance for PT-motif & Secondary_structrue\n"
     ]
    },
    {
     "name": "stderr",
     "output_type": "stream",
     "text": [
      "5it [00:00, 19.50it/s]\n",
      "Computing label-to-label distances: 100%|██████████| 75/75 [00:03<00:00, 19.90it/s]\n"
     ]
    },
    {
     "name": "stdout",
     "output_type": "stream",
     "text": [
      "OTDD distance of PT-motif and Secondary_structrue is: 663.63\n",
      "Computing inter label-to-label distance for PT-motif & Pdbbind\n"
     ]
    },
    {
     "name": "stderr",
     "output_type": "stream",
     "text": [
      "5it [00:00, 17.37it/s]\n",
      "Computing label-to-label distances: 100%|██████████| 55/55 [00:02<00:00, 19.98it/s]\n"
     ]
    },
    {
     "name": "stdout",
     "output_type": "stream",
     "text": [
      "OTDD distance of PT-motif and Pdbbind is: 798.80\n",
      "Computing inter label-to-label distance for PT-motif & Kinase\n"
     ]
    },
    {
     "name": "stderr",
     "output_type": "stream",
     "text": [
      "2it [00:00, 14.60it/s]\n",
      "Computing label-to-label distances: 100%|██████████| 10/10 [00:00<00:00, 18.77it/s]\n"
     ]
    },
    {
     "name": "stdout",
     "output_type": "stream",
     "text": [
      "OTDD distance of PT-motif and Kinase is: 1053.88\n",
      "Computing inter label-to-label distance for PT-region & Stability\n"
     ]
    },
    {
     "name": "stderr",
     "output_type": "stream",
     "text": [
      "10it [00:00, 18.23it/s]\n",
      "Computing label-to-label distances: 100%|██████████| 120/120 [00:05<00:00, 20.42it/s]\n"
     ]
    },
    {
     "name": "stdout",
     "output_type": "stream",
     "text": [
      "OTDD distance of PT-region and Stability is: 924.54\n",
      "Computing inter label-to-label distance for PT-region & Fluoresecence\n"
     ]
    },
    {
     "name": "stderr",
     "output_type": "stream",
     "text": [
      "10it [00:00, 17.76it/s]\n",
      "Computing label-to-label distances: 100%|██████████| 120/120 [00:06<00:00, 19.59it/s]\n"
     ]
    },
    {
     "name": "stdout",
     "output_type": "stream",
     "text": [
      "OTDD distance of PT-region and Fluoresecence is: 1211.09\n",
      "Computing inter label-to-label distance for PT-region & Remote_homology\n"
     ]
    },
    {
     "name": "stderr",
     "output_type": "stream",
     "text": [
      "10it [00:00, 19.01it/s]\n",
      "Computing label-to-label distances: 100%|██████████| 160/160 [00:08<00:00, 19.76it/s]\n"
     ]
    },
    {
     "name": "stdout",
     "output_type": "stream",
     "text": [
      "OTDD distance of PT-region and Remote_homology is: 810.16\n",
      "Computing inter label-to-label distance for PT-region & Secondary_structrue\n"
     ]
    },
    {
     "name": "stderr",
     "output_type": "stream",
     "text": [
      "10it [00:00, 19.96it/s]\n",
      "Computing label-to-label distances: 100%|██████████| 150/150 [00:07<00:00, 19.78it/s]\n"
     ]
    },
    {
     "name": "stdout",
     "output_type": "stream",
     "text": [
      "OTDD distance of PT-region and Secondary_structrue is: 673.02\n",
      "Computing inter label-to-label distance for PT-region & Pdbbind\n"
     ]
    },
    {
     "name": "stderr",
     "output_type": "stream",
     "text": [
      "10it [00:00, 19.41it/s]\n",
      "Computing label-to-label distances: 100%|██████████| 110/110 [00:05<00:00, 20.25it/s]\n"
     ]
    },
    {
     "name": "stdout",
     "output_type": "stream",
     "text": [
      "OTDD distance of PT-region and Pdbbind is: 823.13\n",
      "Computing inter label-to-label distance for PT-region & Kinase\n"
     ]
    },
    {
     "name": "stderr",
     "output_type": "stream",
     "text": [
      "2it [00:00, 16.96it/s]\n",
      "Computing label-to-label distances: 100%|██████████| 20/20 [00:00<00:00, 20.26it/s]\n"
     ]
    },
    {
     "name": "stdout",
     "output_type": "stream",
     "text": [
      "OTDD distance of PT-region and Kinase is: 1069.91\n",
      "Computing inter label-to-label distance for PT-go & Stability\n"
     ]
    },
    {
     "name": "stderr",
     "output_type": "stream",
     "text": [
      "9it [00:00, 19.57it/s]\n",
      "Computing label-to-label distances: 100%|██████████| 108/108 [00:05<00:00, 19.75it/s]\n"
     ]
    },
    {
     "name": "stdout",
     "output_type": "stream",
     "text": [
      "OTDD distance of PT-go and Stability is: 930.79\n",
      "Computing inter label-to-label distance for PT-go & Fluoresecence\n"
     ]
    },
    {
     "name": "stderr",
     "output_type": "stream",
     "text": [
      "9it [00:00, 19.98it/s]\n",
      "Computing label-to-label distances: 100%|██████████| 108/108 [00:05<00:00, 19.41it/s]\n"
     ]
    },
    {
     "name": "stdout",
     "output_type": "stream",
     "text": [
      "OTDD distance of PT-go and Fluoresecence is: 1211.81\n",
      "Computing inter label-to-label distance for PT-go & Remote_homology\n"
     ]
    },
    {
     "name": "stderr",
     "output_type": "stream",
     "text": [
      "9it [00:00, 19.84it/s]\n",
      "Computing label-to-label distances: 100%|██████████| 144/144 [00:07<00:00, 20.10it/s]\n"
     ]
    },
    {
     "name": "stdout",
     "output_type": "stream",
     "text": [
      "OTDD distance of PT-go and Remote_homology is: 815.89\n",
      "Computing inter label-to-label distance for PT-go & Secondary_structrue\n"
     ]
    },
    {
     "name": "stderr",
     "output_type": "stream",
     "text": [
      "9it [00:00, 19.66it/s]\n",
      "Computing label-to-label distances: 100%|██████████| 135/135 [00:06<00:00, 20.00it/s]\n"
     ]
    },
    {
     "name": "stdout",
     "output_type": "stream",
     "text": [
      "OTDD distance of PT-go and Secondary_structrue is: 675.93\n",
      "Computing inter label-to-label distance for PT-go & Pdbbind\n"
     ]
    },
    {
     "name": "stderr",
     "output_type": "stream",
     "text": [
      "9it [00:00, 18.20it/s]\n",
      "Computing label-to-label distances: 100%|██████████| 99/99 [00:05<00:00, 19.47it/s]\n"
     ]
    },
    {
     "name": "stdout",
     "output_type": "stream",
     "text": [
      "OTDD distance of PT-go and Pdbbind is: 829.69\n",
      "Computing inter label-to-label distance for PT-go & Kinase\n"
     ]
    },
    {
     "name": "stderr",
     "output_type": "stream",
     "text": [
      "2it [00:00, 17.76it/s]\n",
      "Computing label-to-label distances: 100%|██████████| 18/18 [00:00<00:00, 19.34it/s]\n"
     ]
    },
    {
     "name": "stdout",
     "output_type": "stream",
     "text": [
      "OTDD distance of PT-go and Kinase is: 1074.55\n",
      "==== x ==== ==== x ==== ==== x ==== ==== x ==== ==== x ==== \n",
      "Start computing for Pretrain-MultiTask: MLM+GO+D\n",
      "Computing inter label-to-label distance for PT-mlm & Stability\n"
     ]
    },
    {
     "name": "stderr",
     "output_type": "stream",
     "text": [
      "12it [00:00, 20.06it/s]\n",
      "Computing label-to-label distances: 100%|██████████| 180/180 [00:08<00:00, 20.17it/s]\n"
     ]
    },
    {
     "name": "stdout",
     "output_type": "stream",
     "text": [
      "OTDD distance of PT-mlm and Stability is: 900.56\n",
      "Computing inter label-to-label distance for PT-mlm & Fluoresecence\n"
     ]
    },
    {
     "name": "stderr",
     "output_type": "stream",
     "text": [
      "12it [00:00, 20.05it/s]\n",
      "Computing label-to-label distances: 100%|██████████| 180/180 [00:08<00:00, 20.09it/s]\n"
     ]
    },
    {
     "name": "stdout",
     "output_type": "stream",
     "text": [
      "OTDD distance of PT-mlm and Fluoresecence is: 1303.75\n",
      "Computing inter label-to-label distance for PT-mlm & Remote_homology\n"
     ]
    },
    {
     "name": "stderr",
     "output_type": "stream",
     "text": [
      "15it [00:00, 19.70it/s]\n",
      "Computing label-to-label distances: 100%|██████████| 240/240 [00:12<00:00, 19.97it/s]\n"
     ]
    },
    {
     "name": "stdout",
     "output_type": "stream",
     "text": [
      "OTDD distance of PT-mlm and Remote_homology is: 866.70\n",
      "Computing inter label-to-label distance for PT-mlm & Secondary_structrue\n"
     ]
    },
    {
     "name": "stderr",
     "output_type": "stream",
     "text": [
      "15it [00:00, 20.41it/s]\n",
      "Computing label-to-label distances: 100%|██████████| 225/225 [00:11<00:00, 19.37it/s]\n"
     ]
    },
    {
     "name": "stdout",
     "output_type": "stream",
     "text": [
      "OTDD distance of PT-mlm and Secondary_structrue is: 610.91\n",
      "Computing inter label-to-label distance for PT-mlm & Pdbbind\n"
     ]
    },
    {
     "name": "stderr",
     "output_type": "stream",
     "text": [
      "11it [00:00, 18.83it/s]\n",
      "Computing label-to-label distances: 100%|██████████| 165/165 [00:08<00:00, 19.93it/s]\n"
     ]
    },
    {
     "name": "stdout",
     "output_type": "stream",
     "text": [
      "OTDD distance of PT-mlm and Pdbbind is: 813.91\n",
      "Computing inter label-to-label distance for PT-mlm & Kinase\n"
     ]
    },
    {
     "name": "stderr",
     "output_type": "stream",
     "text": [
      "2it [00:00, 14.34it/s]\n",
      "Computing label-to-label distances: 100%|██████████| 30/30 [00:01<00:00, 19.33it/s]\n"
     ]
    },
    {
     "name": "stdout",
     "output_type": "stream",
     "text": [
      "OTDD distance of PT-mlm and Kinase is: 1090.28\n",
      "Computing inter label-to-label distance for PT-domain & Stability\n"
     ]
    },
    {
     "name": "stderr",
     "output_type": "stream",
     "text": [
      "12it [00:00, 18.92it/s]\n",
      "Computing label-to-label distances: 100%|██████████| 156/156 [00:07<00:00, 19.66it/s]\n"
     ]
    },
    {
     "name": "stdout",
     "output_type": "stream",
     "text": [
      "OTDD distance of PT-domain and Stability is: 900.91\n",
      "Computing inter label-to-label distance for PT-domain & Fluoresecence\n"
     ]
    },
    {
     "name": "stderr",
     "output_type": "stream",
     "text": [
      "12it [00:00, 20.00it/s]\n",
      "Computing label-to-label distances: 100%|██████████| 156/156 [00:07<00:00, 19.95it/s]\n"
     ]
    },
    {
     "name": "stdout",
     "output_type": "stream",
     "text": [
      "OTDD distance of PT-domain and Fluoresecence is: 1303.92\n",
      "Computing inter label-to-label distance for PT-domain & Remote_homology\n"
     ]
    },
    {
     "name": "stderr",
     "output_type": "stream",
     "text": [
      "13it [00:00, 18.54it/s]\n",
      "Computing label-to-label distances: 100%|██████████| 208/208 [00:10<00:00, 19.87it/s]\n"
     ]
    },
    {
     "name": "stdout",
     "output_type": "stream",
     "text": [
      "OTDD distance of PT-domain and Remote_homology is: 866.81\n",
      "Computing inter label-to-label distance for PT-domain & Secondary_structrue\n"
     ]
    },
    {
     "name": "stderr",
     "output_type": "stream",
     "text": [
      "13it [00:00, 18.98it/s]\n",
      "Computing label-to-label distances: 100%|██████████| 195/195 [00:09<00:00, 19.78it/s]\n"
     ]
    },
    {
     "name": "stdout",
     "output_type": "stream",
     "text": [
      "OTDD distance of PT-domain and Secondary_structrue is: 610.93\n",
      "Computing inter label-to-label distance for PT-domain & Pdbbind\n"
     ]
    },
    {
     "name": "stderr",
     "output_type": "stream",
     "text": [
      "11it [00:00, 18.97it/s]\n",
      "Computing label-to-label distances: 100%|██████████| 143/143 [00:07<00:00, 19.53it/s]\n"
     ]
    },
    {
     "name": "stdout",
     "output_type": "stream",
     "text": [
      "OTDD distance of PT-domain and Pdbbind is: 814.46\n",
      "Computing inter label-to-label distance for PT-domain & Kinase\n"
     ]
    },
    {
     "name": "stderr",
     "output_type": "stream",
     "text": [
      "2it [00:00, 16.12it/s]\n",
      "Computing label-to-label distances: 100%|██████████| 26/26 [00:01<00:00, 20.07it/s]\n"
     ]
    },
    {
     "name": "stdout",
     "output_type": "stream",
     "text": [
      "OTDD distance of PT-domain and Kinase is: 1091.54\n",
      "Computing inter label-to-label distance for PT-go & Stability\n"
     ]
    },
    {
     "name": "stderr",
     "output_type": "stream",
     "text": [
      "9it [00:00, 19.78it/s]\n",
      "Computing label-to-label distances: 100%|██████████| 108/108 [00:05<00:00, 18.93it/s]\n"
     ]
    },
    {
     "name": "stdout",
     "output_type": "stream",
     "text": [
      "OTDD distance of PT-go and Stability is: 898.03\n",
      "Computing inter label-to-label distance for PT-go & Fluoresecence\n"
     ]
    },
    {
     "name": "stderr",
     "output_type": "stream",
     "text": [
      "9it [00:00, 19.24it/s]\n",
      "Computing label-to-label distances: 100%|██████████| 108/108 [00:05<00:00, 20.79it/s]\n"
     ]
    },
    {
     "name": "stdout",
     "output_type": "stream",
     "text": [
      "OTDD distance of PT-go and Fluoresecence is: 1303.52\n",
      "Computing inter label-to-label distance for PT-go & Remote_homology\n"
     ]
    },
    {
     "name": "stderr",
     "output_type": "stream",
     "text": [
      "9it [00:00, 18.53it/s]\n",
      "Computing label-to-label distances: 100%|██████████| 144/144 [00:07<00:00, 19.99it/s]\n"
     ]
    },
    {
     "name": "stdout",
     "output_type": "stream",
     "text": [
      "OTDD distance of PT-go and Remote_homology is: 864.93\n",
      "Computing inter label-to-label distance for PT-go & Secondary_structrue\n"
     ]
    },
    {
     "name": "stderr",
     "output_type": "stream",
     "text": [
      "9it [00:00, 19.19it/s]\n",
      "Computing label-to-label distances: 100%|██████████| 135/135 [00:06<00:00, 20.16it/s]\n"
     ]
    },
    {
     "name": "stdout",
     "output_type": "stream",
     "text": [
      "OTDD distance of PT-go and Secondary_structrue is: 610.35\n",
      "Computing inter label-to-label distance for PT-go & Pdbbind\n"
     ]
    },
    {
     "name": "stderr",
     "output_type": "stream",
     "text": [
      "9it [00:00, 19.09it/s]\n",
      "Computing label-to-label distances: 100%|██████████| 99/99 [00:05<00:00, 19.61it/s]\n"
     ]
    },
    {
     "name": "stdout",
     "output_type": "stream",
     "text": [
      "OTDD distance of PT-go and Pdbbind is: 811.32\n",
      "Computing inter label-to-label distance for PT-go & Kinase\n"
     ]
    },
    {
     "name": "stderr",
     "output_type": "stream",
     "text": [
      "2it [00:00, 18.10it/s]\n",
      "Computing label-to-label distances: 100%|██████████| 18/18 [00:00<00:00, 19.97it/s]\n"
     ]
    },
    {
     "name": "stdout",
     "output_type": "stream",
     "text": [
      "OTDD distance of PT-go and Kinase is: 1090.12\n",
      "==== x ==== ==== x ==== ==== x ==== ==== x ==== ==== x ==== \n",
      "Start computing for Pretrain-MultiTask: RMD\n",
      "Computing inter label-to-label distance for PT-domain & Stability\n"
     ]
    },
    {
     "name": "stderr",
     "output_type": "stream",
     "text": [
      "12it [00:00, 20.08it/s]\n",
      "Computing label-to-label distances: 100%|██████████| 156/156 [00:07<00:00, 19.73it/s]\n"
     ]
    },
    {
     "name": "stdout",
     "output_type": "stream",
     "text": [
      "OTDD distance of PT-domain and Stability is: 700.09\n",
      "Computing inter label-to-label distance for PT-domain & Fluoresecence\n"
     ]
    },
    {
     "name": "stderr",
     "output_type": "stream",
     "text": [
      "12it [00:00, 18.08it/s]\n",
      "Computing label-to-label distances: 100%|██████████| 156/156 [00:07<00:00, 19.85it/s]\n"
     ]
    },
    {
     "name": "stdout",
     "output_type": "stream",
     "text": [
      "OTDD distance of PT-domain and Fluoresecence is: 1124.13\n",
      "Computing inter label-to-label distance for PT-domain & Remote_homology\n"
     ]
    },
    {
     "name": "stderr",
     "output_type": "stream",
     "text": [
      "13it [00:00, 20.06it/s]\n",
      "Computing label-to-label distances: 100%|██████████| 208/208 [00:10<00:00, 19.16it/s]\n"
     ]
    },
    {
     "name": "stdout",
     "output_type": "stream",
     "text": [
      "OTDD distance of PT-domain and Remote_homology is: 719.22\n",
      "Computing inter label-to-label distance for PT-domain & Secondary_structrue\n"
     ]
    },
    {
     "name": "stderr",
     "output_type": "stream",
     "text": [
      "13it [00:00, 20.24it/s]\n",
      "Computing label-to-label distances: 100%|██████████| 195/195 [00:09<00:00, 19.79it/s]\n"
     ]
    },
    {
     "name": "stdout",
     "output_type": "stream",
     "text": [
      "OTDD distance of PT-domain and Secondary_structrue is: 539.36\n",
      "Computing inter label-to-label distance for PT-domain & Pdbbind\n"
     ]
    },
    {
     "name": "stderr",
     "output_type": "stream",
     "text": [
      "11it [00:00, 19.70it/s]\n",
      "Computing label-to-label distances: 100%|██████████| 143/143 [00:07<00:00, 20.04it/s]\n"
     ]
    },
    {
     "name": "stdout",
     "output_type": "stream",
     "text": [
      "OTDD distance of PT-domain and Pdbbind is: 668.87\n",
      "Computing inter label-to-label distance for PT-domain & Kinase\n"
     ]
    },
    {
     "name": "stderr",
     "output_type": "stream",
     "text": [
      "2it [00:00, 18.87it/s]\n",
      "Computing label-to-label distances: 100%|██████████| 26/26 [00:01<00:00, 19.97it/s]\n"
     ]
    },
    {
     "name": "stdout",
     "output_type": "stream",
     "text": [
      "OTDD distance of PT-domain and Kinase is: 900.26\n",
      "Computing inter label-to-label distance for PT-motif & Stability\n"
     ]
    },
    {
     "name": "stderr",
     "output_type": "stream",
     "text": [
      "5it [00:00, 19.55it/s]\n",
      "Computing label-to-label distances: 100%|██████████| 60/60 [00:03<00:00, 20.00it/s]\n"
     ]
    },
    {
     "name": "stdout",
     "output_type": "stream",
     "text": [
      "OTDD distance of PT-motif and Stability is: 675.46\n",
      "Computing inter label-to-label distance for PT-motif & Fluoresecence\n"
     ]
    },
    {
     "name": "stderr",
     "output_type": "stream",
     "text": [
      "5it [00:00, 19.87it/s]\n",
      "Computing label-to-label distances: 100%|██████████| 60/60 [00:02<00:00, 20.40it/s]\n"
     ]
    },
    {
     "name": "stdout",
     "output_type": "stream",
     "text": [
      "OTDD distance of PT-motif and Fluoresecence is: 1119.98\n",
      "Computing inter label-to-label distance for PT-motif & Remote_homology\n"
     ]
    },
    {
     "name": "stderr",
     "output_type": "stream",
     "text": [
      "5it [00:00, 19.45it/s]\n",
      "Computing label-to-label distances: 100%|██████████| 80/80 [00:03<00:00, 20.31it/s]\n"
     ]
    },
    {
     "name": "stdout",
     "output_type": "stream",
     "text": [
      "OTDD distance of PT-motif and Remote_homology is: 702.96\n",
      "Computing inter label-to-label distance for PT-motif & Secondary_structrue\n"
     ]
    },
    {
     "name": "stderr",
     "output_type": "stream",
     "text": [
      "5it [00:00, 20.14it/s]\n",
      "Computing label-to-label distances: 100%|██████████| 75/75 [00:03<00:00, 19.88it/s]\n"
     ]
    },
    {
     "name": "stdout",
     "output_type": "stream",
     "text": [
      "OTDD distance of PT-motif and Secondary_structrue is: 530.50\n",
      "Computing inter label-to-label distance for PT-motif & Pdbbind\n"
     ]
    },
    {
     "name": "stderr",
     "output_type": "stream",
     "text": [
      "5it [00:00, 17.22it/s]\n",
      "Computing label-to-label distances: 100%|██████████| 55/55 [00:02<00:00, 19.84it/s]\n"
     ]
    },
    {
     "name": "stdout",
     "output_type": "stream",
     "text": [
      "OTDD distance of PT-motif and Pdbbind is: 639.32\n",
      "Computing inter label-to-label distance for PT-motif & Kinase\n"
     ]
    },
    {
     "name": "stderr",
     "output_type": "stream",
     "text": [
      "2it [00:00, 16.91it/s]\n",
      "Computing label-to-label distances: 100%|██████████| 10/10 [00:00<00:00, 19.28it/s]\n"
     ]
    },
    {
     "name": "stdout",
     "output_type": "stream",
     "text": [
      "OTDD distance of PT-motif and Kinase is: 875.68\n",
      "Computing inter label-to-label distance for PT-region & Stability\n"
     ]
    },
    {
     "name": "stderr",
     "output_type": "stream",
     "text": [
      "10it [00:00, 18.78it/s]\n",
      "Computing label-to-label distances: 100%|██████████| 120/120 [00:05<00:00, 20.23it/s]\n"
     ]
    },
    {
     "name": "stdout",
     "output_type": "stream",
     "text": [
      "OTDD distance of PT-region and Stability is: 692.13\n",
      "Computing inter label-to-label distance for PT-region & Fluoresecence\n"
     ]
    },
    {
     "name": "stderr",
     "output_type": "stream",
     "text": [
      "10it [00:00, 19.57it/s]\n",
      "Computing label-to-label distances: 100%|██████████| 120/120 [00:05<00:00, 20.26it/s]\n"
     ]
    },
    {
     "name": "stdout",
     "output_type": "stream",
     "text": [
      "OTDD distance of PT-region and Fluoresecence is: 1123.09\n",
      "Computing inter label-to-label distance for PT-region & Remote_homology\n"
     ]
    },
    {
     "name": "stderr",
     "output_type": "stream",
     "text": [
      "10it [00:00, 19.06it/s]\n",
      "Computing label-to-label distances: 100%|██████████| 160/160 [00:07<00:00, 20.48it/s]\n"
     ]
    },
    {
     "name": "stdout",
     "output_type": "stream",
     "text": [
      "OTDD distance of PT-region and Remote_homology is: 714.94\n",
      "Computing inter label-to-label distance for PT-region & Secondary_structrue\n"
     ]
    },
    {
     "name": "stderr",
     "output_type": "stream",
     "text": [
      "10it [00:00, 17.43it/s]\n",
      "Computing label-to-label distances: 100%|██████████| 150/150 [00:07<00:00, 20.17it/s]\n"
     ]
    },
    {
     "name": "stdout",
     "output_type": "stream",
     "text": [
      "OTDD distance of PT-region and Secondary_structrue is: 538.57\n",
      "Computing inter label-to-label distance for PT-region & Pdbbind\n"
     ]
    },
    {
     "name": "stderr",
     "output_type": "stream",
     "text": [
      "10it [00:00, 19.17it/s]\n",
      "Computing label-to-label distances: 100%|██████████| 110/110 [00:05<00:00, 19.42it/s]\n"
     ]
    },
    {
     "name": "stdout",
     "output_type": "stream",
     "text": [
      "OTDD distance of PT-region and Pdbbind is: 661.91\n",
      "Computing inter label-to-label distance for PT-region & Kinase\n"
     ]
    },
    {
     "name": "stderr",
     "output_type": "stream",
     "text": [
      "2it [00:00, 15.65it/s]\n",
      "Computing label-to-label distances: 100%|██████████| 20/20 [00:01<00:00, 18.91it/s]\n"
     ]
    },
    {
     "name": "stdout",
     "output_type": "stream",
     "text": [
      "OTDD distance of PT-region and Kinase is: 892.50\n",
      "==== x ==== ==== x ==== ==== x ==== ==== x ==== ==== x ==== \n"
     ]
    }
   ],
   "source": [
    "bs1_otdd_t2t_distances = []\n",
    "for i, comb in enumerate(TaskCombs):\n",
    "    print(\"Start computing for Pretrain-MultiTask: {}\".format(comb))\n",
    "    data_stuff = data_stuffs_dict[comb]\n",
    "    pt_datasets, pt_names, ft_datasets, ft_names, pt_tasks_dict = data_stuff\n",
    "    \n",
    "    OTdd = OTDD(device, pt_names=pt_names, ft_names=ft_names,\n",
    "            pt_tasks_combs=[pt_tasks_combs[i]], pt_tasks_dict=pt_tasks_dict, gaussian_assumption=True)\n",
    "    bs1_otdd_t2t_d = OTdd.t2t_distance(pt_datasets, ft_datasets, p=p)\n",
    "    bs1_otdd_t2t_d = pd.DataFrame(bs1_otdd_t2t_d, columns=ft_names)\n",
    "    bs1_otdd_t2t_d['pt_task'] = pt_names\n",
    "    bs1_otdd_t2t_distances.append(bs1_otdd_t2t_d)\n",
    "    print('==== x ==== ' * 5)\n",
    "\n",
    "bs1_otdd_t2t_distances = cal_combs_distances_mean(all_pt_tasks, bs1_otdd_t2t_distances)\n",
    "np.save(\"./results(all)/bs1_otdd_t2t_distances.npy\", bs1_otdd_t2t_distances)"
   ]
  },
  {
   "cell_type": "code",
   "execution_count": 6,
   "metadata": {},
   "outputs": [
    {
     "data": {
      "text/plain": [
       "array([[ 803.197  , 1183.9417 ,  751.51904,  581.4503 ,  720.16187],\n",
       "       [ 803.4283 , 1184.0001 ,  751.4855 ,  581.5658 ,  720.48206],\n",
       "       [ 776.43085, 1178.9626 ,  731.1835 ,  572.58997,  689.1713 ],\n",
       "       [ 795.9525 , 1182.8298 ,  746.21716,  579.7397 ,  712.3189 ],\n",
       "       [ 801.0803 , 1183.6763 ,  749.661  ,  581.1654 ,  718.07465]],\n",
       "      dtype=float32)"
      ]
     },
     "execution_count": 6,
     "metadata": {},
     "output_type": "execute_result"
    }
   ],
   "source": [
    "bs1_otdd_t2t_distances"
   ]
  },
  {
   "attachments": {},
   "cell_type": "markdown",
   "metadata": {},
   "source": [
    "# Baseline 2: 独立平均OTNCE"
   ]
  },
  {
   "cell_type": "code",
   "execution_count": 11,
   "metadata": {},
   "outputs": [
    {
     "name": "stdout",
     "output_type": "stream",
     "text": [
      "Start computing for Pretrain-MultiTask: MLM+RMD\n",
      " -> PT-mlm - Stability\n",
      "OTNCE between PT-mlm and Stability: -2.02, time costs: 0.2\n",
      " -> PT-mlm - Fluoresecence\n",
      "OTNCE between PT-mlm and Fluoresecence: -1.93, time costs: 0.2\n",
      " -> PT-mlm - Remote_homology\n",
      "OTNCE between PT-mlm and Remote_homology: -1.91, time costs: 0.2\n",
      " -> PT-mlm - Secondary_structrue\n",
      "OTNCE between PT-mlm and Secondary_structrue: -2.47, time costs: 0.2\n",
      " -> PT-mlm - Pdbbind\n",
      "OTNCE between PT-mlm and Pdbbind: -2.13, time costs: 0.2\n",
      " -> PT-mlm - Kinase\n",
      "OTNCE between PT-mlm and Kinase: -0.49, time costs: 0.2\n",
      " -> PT-domain - Stability\n",
      "OTNCE between PT-domain and Stability: -2.05, time costs: 0.2\n",
      " -> PT-domain - Fluoresecence\n",
      "OTNCE between PT-domain and Fluoresecence: -1.95, time costs: 0.2\n",
      " -> PT-domain - Remote_homology\n",
      "OTNCE between PT-domain and Remote_homology: -1.92, time costs: 0.2\n",
      " -> PT-domain - Secondary_structrue\n",
      "OTNCE between PT-domain and Secondary_structrue: -2.48, time costs: 0.3\n",
      " -> PT-domain - Pdbbind\n",
      "OTNCE between PT-domain and Pdbbind: -2.14, time costs: 0.2\n",
      " -> PT-domain - Kinase\n",
      "OTNCE between PT-domain and Kinase: -0.49, time costs: 0.2\n",
      " -> PT-motif - Stability\n",
      "OTNCE between PT-motif and Stability: -2.13, time costs: 0.2\n",
      " -> PT-motif - Fluoresecence\n",
      "OTNCE between PT-motif and Fluoresecence: -2.03, time costs: 0.2\n",
      " -> PT-motif - Remote_homology\n",
      "OTNCE between PT-motif and Remote_homology: -2.02, time costs: 0.2\n",
      " -> PT-motif - Secondary_structrue\n",
      "OTNCE between PT-motif and Secondary_structrue: -2.59, time costs: 0.2\n",
      " -> PT-motif - Pdbbind\n",
      "OTNCE between PT-motif and Pdbbind: -2.21, time costs: 0.2\n",
      " -> PT-motif - Kinase\n",
      "OTNCE between PT-motif and Kinase: -0.50, time costs: 0.2\n",
      " -> PT-region - Stability\n",
      "OTNCE between PT-region and Stability: -2.09, time costs: 0.2\n",
      " -> PT-region - Fluoresecence\n",
      "OTNCE between PT-region and Fluoresecence: -1.99, time costs: 0.2\n",
      " -> PT-region - Remote_homology\n",
      "OTNCE between PT-region and Remote_homology: -1.96, time costs: 0.2\n",
      " -> PT-region - Secondary_structrue\n",
      "OTNCE between PT-region and Secondary_structrue: -2.52, time costs: 0.2\n",
      " -> PT-region - Pdbbind\n",
      "OTNCE between PT-region and Pdbbind: -2.18, time costs: 0.2\n",
      " -> PT-region - Kinase\n",
      "OTNCE between PT-region and Kinase: -0.50, time costs: 0.2\n",
      "==== x ==== ==== x ==== ==== x ==== ==== x ==== ==== x ==== \n",
      "Start computing for Pretrain-MultiTask: GO+RMD\n",
      " -> PT-domain - Stability\n",
      "OTNCE between PT-domain and Stability: -2.08, time costs: 0.2\n",
      " -> PT-domain - Fluoresecence\n",
      "OTNCE between PT-domain and Fluoresecence: -1.96, time costs: 0.2\n",
      " -> PT-domain - Remote_homology\n",
      "OTNCE between PT-domain and Remote_homology: -1.90, time costs: 0.2\n",
      " -> PT-domain - Secondary_structrue\n",
      "OTNCE between PT-domain and Secondary_structrue: -2.46, time costs: 0.2\n",
      " -> PT-domain - Pdbbind\n",
      "OTNCE between PT-domain and Pdbbind: -2.15, time costs: 0.2\n",
      " -> PT-domain - Kinase\n",
      "OTNCE between PT-domain and Kinase: -0.49, time costs: 0.2\n",
      " -> PT-motif - Stability\n",
      "OTNCE between PT-motif and Stability: -2.14, time costs: 0.2\n",
      " -> PT-motif - Fluoresecence\n",
      "OTNCE between PT-motif and Fluoresecence: -2.05, time costs: 0.2\n",
      " -> PT-motif - Remote_homology\n",
      "OTNCE between PT-motif and Remote_homology: -2.02, time costs: 0.2\n",
      " -> PT-motif - Secondary_structrue\n",
      "OTNCE between PT-motif and Secondary_structrue: -2.56, time costs: 0.2\n",
      " -> PT-motif - Pdbbind\n",
      "OTNCE between PT-motif and Pdbbind: -2.21, time costs: 0.2\n",
      " -> PT-motif - Kinase\n",
      "OTNCE between PT-motif and Kinase: -0.50, time costs: 0.2\n",
      " -> PT-region - Stability\n",
      "OTNCE between PT-region and Stability: -2.11, time costs: 0.2\n",
      " -> PT-region - Fluoresecence\n",
      "OTNCE between PT-region and Fluoresecence: -1.98, time costs: 0.2\n",
      " -> PT-region - Remote_homology\n",
      "OTNCE between PT-region and Remote_homology: -1.94, time costs: 0.2\n",
      " -> PT-region - Secondary_structrue\n",
      "OTNCE between PT-region and Secondary_structrue: -2.51, time costs: 0.2\n",
      " -> PT-region - Pdbbind\n",
      "OTNCE between PT-region and Pdbbind: -2.17, time costs: 0.2\n",
      " -> PT-region - Kinase\n",
      "OTNCE between PT-region and Kinase: -0.50, time costs: 0.2\n",
      " -> PT-go - Stability\n",
      "OTNCE between PT-go and Stability: -2.11, time costs: 0.2\n",
      " -> PT-go - Fluoresecence\n",
      "OTNCE between PT-go and Fluoresecence: -2.00, time costs: 0.2\n",
      " -> PT-go - Remote_homology\n",
      "OTNCE between PT-go and Remote_homology: -1.95, time costs: 0.2\n",
      " -> PT-go - Secondary_structrue\n",
      "OTNCE between PT-go and Secondary_structrue: -2.50, time costs: 0.2\n",
      " -> PT-go - Pdbbind\n",
      "OTNCE between PT-go and Pdbbind: -2.18, time costs: 0.2\n",
      " -> PT-go - Kinase\n",
      "OTNCE between PT-go and Kinase: -0.50, time costs: 0.2\n",
      "==== x ==== ==== x ==== ==== x ==== ==== x ==== ==== x ==== \n",
      "Start computing for Pretrain-MultiTask: MLM+GO+D\n",
      " -> PT-mlm - Stability\n",
      "OTNCE between PT-mlm and Stability: -2.04, time costs: 0.2\n",
      " -> PT-mlm - Fluoresecence\n",
      "OTNCE between PT-mlm and Fluoresecence: -1.94, time costs: 0.2\n",
      " -> PT-mlm - Remote_homology\n",
      "OTNCE between PT-mlm and Remote_homology: -1.89, time costs: 0.2\n",
      " -> PT-mlm - Secondary_structrue\n",
      "OTNCE between PT-mlm and Secondary_structrue: -2.47, time costs: 0.2\n",
      " -> PT-mlm - Pdbbind\n",
      "OTNCE between PT-mlm and Pdbbind: -2.11, time costs: 0.2\n",
      " -> PT-mlm - Kinase\n",
      "OTNCE between PT-mlm and Kinase: -0.49, time costs: 0.2\n",
      " -> PT-domain - Stability\n",
      "OTNCE between PT-domain and Stability: -2.04, time costs: 0.2\n",
      " -> PT-domain - Fluoresecence\n",
      "OTNCE between PT-domain and Fluoresecence: -1.92, time costs: 0.2\n",
      " -> PT-domain - Remote_homology\n",
      "OTNCE between PT-domain and Remote_homology: -1.89, time costs: 0.2\n",
      " -> PT-domain - Secondary_structrue\n",
      "OTNCE between PT-domain and Secondary_structrue: -2.47, time costs: 0.2\n",
      " -> PT-domain - Pdbbind\n",
      "OTNCE between PT-domain and Pdbbind: -2.13, time costs: 0.2\n",
      " -> PT-domain - Kinase\n",
      "OTNCE between PT-domain and Kinase: -0.49, time costs: 0.2\n",
      " -> PT-go - Stability\n",
      "OTNCE between PT-go and Stability: -2.08, time costs: 0.2\n",
      " -> PT-go - Fluoresecence\n",
      "OTNCE between PT-go and Fluoresecence: -1.98, time costs: 0.2\n",
      " -> PT-go - Remote_homology\n",
      "OTNCE between PT-go and Remote_homology: -1.95, time costs: 0.2\n",
      " -> PT-go - Secondary_structrue\n",
      "OTNCE between PT-go and Secondary_structrue: -2.52, time costs: 0.2\n",
      " -> PT-go - Pdbbind\n",
      "OTNCE between PT-go and Pdbbind: -2.15, time costs: 0.2\n",
      " -> PT-go - Kinase\n",
      "OTNCE between PT-go and Kinase: -0.49, time costs: 0.2\n",
      "==== x ==== ==== x ==== ==== x ==== ==== x ==== ==== x ==== \n",
      "Start computing for Pretrain-MultiTask: RMD\n",
      " -> PT-domain - Stability\n",
      "OTNCE between PT-domain and Stability: -2.06, time costs: 0.2\n",
      " -> PT-domain - Fluoresecence\n",
      "OTNCE between PT-domain and Fluoresecence: -1.96, time costs: 0.2\n",
      " -> PT-domain - Remote_homology\n",
      "OTNCE between PT-domain and Remote_homology: -1.90, time costs: 0.2\n",
      " -> PT-domain - Secondary_structrue\n",
      "OTNCE between PT-domain and Secondary_structrue: -2.48, time costs: 0.2\n",
      " -> PT-domain - Pdbbind\n",
      "OTNCE between PT-domain and Pdbbind: -2.13, time costs: 0.2\n",
      " -> PT-domain - Kinase\n",
      "OTNCE between PT-domain and Kinase: -0.50, time costs: 0.2\n",
      " -> PT-motif - Stability\n",
      "OTNCE between PT-motif and Stability: -2.14, time costs: 0.2\n",
      " -> PT-motif - Fluoresecence\n",
      "OTNCE between PT-motif and Fluoresecence: -2.05, time costs: 0.2\n",
      " -> PT-motif - Remote_homology\n",
      "OTNCE between PT-motif and Remote_homology: -2.01, time costs: 0.2\n",
      " -> PT-motif - Secondary_structrue\n",
      "OTNCE between PT-motif and Secondary_structrue: -2.59, time costs: 0.2\n",
      " -> PT-motif - Pdbbind\n",
      "OTNCE between PT-motif and Pdbbind: -2.19, time costs: 0.2\n",
      " -> PT-motif - Kinase\n",
      "OTNCE between PT-motif and Kinase: -0.50, time costs: 0.2\n",
      " -> PT-region - Stability\n",
      "OTNCE between PT-region and Stability: -2.09, time costs: 0.2\n",
      " -> PT-region - Fluoresecence\n",
      "OTNCE between PT-region and Fluoresecence: -1.99, time costs: 0.2\n",
      " -> PT-region - Remote_homology\n",
      "OTNCE between PT-region and Remote_homology: -1.94, time costs: 0.2\n",
      " -> PT-region - Secondary_structrue\n",
      "OTNCE between PT-region and Secondary_structrue: -2.52, time costs: 0.2\n",
      " -> PT-region - Pdbbind\n",
      "OTNCE between PT-region and Pdbbind: -2.17, time costs: 0.2\n",
      " -> PT-region - Kinase\n",
      "OTNCE between PT-region and Kinase: -0.50, time costs: 0.2\n",
      "==== x ==== ==== x ==== ==== x ==== ==== x ==== ==== x ==== \n"
     ]
    }
   ],
   "source": [
    "from otce.otce import OTNCE\n",
    "\n",
    "bs2_otnce_t2t_distances = []\n",
    "for i, comb in enumerate(TaskCombs):\n",
    "    print(\"Start computing for Pretrain-MultiTask: {}\".format(comb))\n",
    "    data_stuff = data_stuffs_dict[comb]\n",
    "    pt_datasets, pt_names, ft_datasets, ft_names, pt_tasks_dict = data_stuff\n",
    "\n",
    "    series_to_array = lambda x: np.stack(x.tolist(), axis=0)\n",
    "    pt_data_dict = {}\n",
    "    for i, pt_dataset in enumerate(pt_datasets):\n",
    "        X_Y = pt_dataset.embs_and_labels\n",
    "        pt_data_dict[pt_names[i]] = (series_to_array(X_Y['pro_emb']), series_to_array(X_Y['label']))\n",
    "    ft_data_dict = {}\n",
    "    for i, ft_dataset in enumerate(ft_datasets):\n",
    "        X_Y = ft_dataset.embs_and_labels\n",
    "        ft_data_dict[ft_names[i]] = (series_to_array(X_Y['pro_emb']), series_to_array(X_Y['label']))\n",
    "\n",
    "    dataset_dists = {}\n",
    "    OT_NCE = OTNCE(backend='numpy', distMetric='euclidean', numItermax=1e5, return_OT=False)\n",
    "    task_pairs = itertools.product(pt_names, ft_names) \n",
    "    # computing pairwise OTNCE\n",
    "    for pt_task, ft_task in task_pairs:\n",
    "        X_src, Y_src = pt_data_dict[pt_task]\n",
    "        X_tgt, Y_tgt = ft_data_dict[ft_task]\n",
    "        print(' -> {} - {}'.format(pt_task, ft_task))\n",
    "        ts = time.time()\n",
    "        otnce = OT_NCE.otnce(X_src, Y_src, X_tgt, Y_tgt)\n",
    "        dataset_dists[(pt_task, ft_task)] = otnce.item()\n",
    "        print('OTNCE between {} and {}: {:.2f}, time costs: {:.1f}'.format(pt_task, ft_task, otnce, time.time()-ts))\n",
    "\n",
    "    # Construct pairwise OTNCE dataframe\n",
    "    pttask_to_idx = {task: i for i, task in enumerate(pt_names)}\n",
    "    otnce_df = pd.DataFrame(columns=ft_names, index=range(len(pttask_to_idx)))\n",
    "    for (pt_task, ft_task), otnce in dataset_dists.items():\n",
    "        otnce_df.iloc[pttask_to_idx[pt_task]][ft_task] = otnce\n",
    "    otnce_df['pt_task'] = pt_names\n",
    " \n",
    "    bs2_otnce_t2t_distances.append(otnce_df)\n",
    "    print('==== x ==== ' * 5)\n",
    "\n",
    "bs2_otnce_t2t_distances = cal_combs_distances_mean(all_pt_tasks, bs2_otnce_t2t_distances)\n",
    "np.save(\"./results(all)/bs2_otnce_t2t_distances.npy\", bs2_otnce_t2t_distances)"
   ]
  },
  {
   "cell_type": "code",
   "execution_count": 8,
   "metadata": {},
   "outputs": [
    {
     "data": {
      "text/plain": [
       "array([[-2.0445461, -1.9418494, -1.8959922, -2.458718 , -2.1220102],\n",
       "       [-2.0611322, -1.9471098, -1.9053051, -2.474505 , -2.1363287],\n",
       "       [-2.1344495, -2.0379968, -2.013342 , -2.5787942, -2.2040348],\n",
       "       [-2.0919962, -1.9822189, -1.9455435, -2.5184326, -2.1695592],\n",
       "       [-2.0874257, -1.9892466, -1.9554827, -2.5205643, -2.165317 ]],\n",
       "      dtype=float32)"
      ]
     },
     "execution_count": 8,
     "metadata": {},
     "output_type": "execute_result"
    }
   ],
   "source": [
    "bs2_otnce_t2t_distances"
   ]
  },
  {
   "attachments": {},
   "cell_type": "markdown",
   "metadata": {},
   "source": [
    "# Baseline 3: Only feature (wo label information)"
   ]
  },
  {
   "cell_type": "code",
   "execution_count": 12,
   "metadata": {},
   "outputs": [
    {
     "name": "stdout",
     "output_type": "stream",
     "text": [
      "Start computing for Pretrain-MultiTask: MLM+RMD\n",
      " -> PT-mlm - Stability\n",
      "2-Wasserstein Distance between PT-mlm and Stability: 25.71, time costs: 0.2\n",
      " -> PT-mlm - Fluoresecence\n",
      "2-Wasserstein Distance between PT-mlm and Fluoresecence: 33.07, time costs: 0.2\n",
      " -> PT-mlm - Remote_homology\n",
      "2-Wasserstein Distance between PT-mlm and Remote_homology: 24.26, time costs: 0.3\n",
      " -> PT-mlm - Secondary_structrue\n",
      "2-Wasserstein Distance between PT-mlm and Secondary_structrue: 22.18, time costs: 0.2\n",
      " -> PT-mlm - Pdbbind\n",
      "2-Wasserstein Distance between PT-mlm and Pdbbind: 23.28, time costs: 0.2\n",
      " -> PT-mlm - Kinase\n",
      "2-Wasserstein Distance between PT-mlm and Kinase: 29.41, time costs: 0.2\n",
      " -> PT-domain - Stability\n",
      "2-Wasserstein Distance between PT-domain and Stability: 25.71, time costs: 0.2\n",
      " -> PT-domain - Fluoresecence\n",
      "2-Wasserstein Distance between PT-domain and Fluoresecence: 33.07, time costs: 0.2\n",
      " -> PT-domain - Remote_homology\n",
      "2-Wasserstein Distance between PT-domain and Remote_homology: 24.26, time costs: 0.2\n",
      " -> PT-domain - Secondary_structrue\n",
      "2-Wasserstein Distance between PT-domain and Secondary_structrue: 22.18, time costs: 0.2\n",
      " -> PT-domain - Pdbbind\n",
      "2-Wasserstein Distance between PT-domain and Pdbbind: 23.28, time costs: 0.2\n",
      " -> PT-domain - Kinase\n",
      "2-Wasserstein Distance between PT-domain and Kinase: 29.41, time costs: 0.2\n",
      " -> PT-motif - Stability\n",
      "2-Wasserstein Distance between PT-motif and Stability: 25.71, time costs: 0.2\n",
      " -> PT-motif - Fluoresecence\n",
      "2-Wasserstein Distance between PT-motif and Fluoresecence: 33.07, time costs: 0.2\n",
      " -> PT-motif - Remote_homology\n",
      "2-Wasserstein Distance between PT-motif and Remote_homology: 24.26, time costs: 0.2\n",
      " -> PT-motif - Secondary_structrue\n",
      "2-Wasserstein Distance between PT-motif and Secondary_structrue: 22.18, time costs: 0.2\n",
      " -> PT-motif - Pdbbind\n",
      "2-Wasserstein Distance between PT-motif and Pdbbind: 23.28, time costs: 0.2\n",
      " -> PT-motif - Kinase\n",
      "2-Wasserstein Distance between PT-motif and Kinase: 29.41, time costs: 0.2\n",
      " -> PT-region - Stability\n",
      "2-Wasserstein Distance between PT-region and Stability: 25.71, time costs: 0.2\n",
      " -> PT-region - Fluoresecence\n",
      "2-Wasserstein Distance between PT-region and Fluoresecence: 33.07, time costs: 0.2\n",
      " -> PT-region - Remote_homology\n",
      "2-Wasserstein Distance between PT-region and Remote_homology: 24.26, time costs: 0.2\n",
      " -> PT-region - Secondary_structrue\n",
      "2-Wasserstein Distance between PT-region and Secondary_structrue: 22.18, time costs: 0.2\n",
      " -> PT-region - Pdbbind\n",
      "2-Wasserstein Distance between PT-region and Pdbbind: 23.28, time costs: 0.2\n",
      " -> PT-region - Kinase\n",
      "2-Wasserstein Distance between PT-region and Kinase: 29.41, time costs: 0.2\n",
      "==== x ==== ==== x ==== ==== x ==== ==== x ==== ==== x ==== \n",
      "Start computing for Pretrain-MultiTask: GO+RMD\n",
      " -> PT-domain - Stability\n",
      "2-Wasserstein Distance between PT-domain and Stability: 30.15, time costs: 0.2\n",
      " -> PT-domain - Fluoresecence\n",
      "2-Wasserstein Distance between PT-domain and Fluoresecence: 34.75, time costs: 0.2\n",
      " -> PT-domain - Remote_homology\n",
      "2-Wasserstein Distance between PT-domain and Remote_homology: 28.18, time costs: 0.2\n",
      " -> PT-domain - Secondary_structrue\n",
      "2-Wasserstein Distance between PT-domain and Secondary_structrue: 25.71, time costs: 0.2\n",
      " -> PT-domain - Pdbbind\n",
      "2-Wasserstein Distance between PT-domain and Pdbbind: 28.42, time costs: 0.2\n",
      " -> PT-domain - Kinase\n",
      "2-Wasserstein Distance between PT-domain and Kinase: 32.57, time costs: 0.2\n",
      " -> PT-motif - Stability\n",
      "2-Wasserstein Distance between PT-motif and Stability: 30.15, time costs: 0.2\n",
      " -> PT-motif - Fluoresecence\n",
      "2-Wasserstein Distance between PT-motif and Fluoresecence: 34.75, time costs: 0.2\n",
      " -> PT-motif - Remote_homology\n",
      "2-Wasserstein Distance between PT-motif and Remote_homology: 28.18, time costs: 0.2\n",
      " -> PT-motif - Secondary_structrue\n",
      "2-Wasserstein Distance between PT-motif and Secondary_structrue: 25.71, time costs: 0.2\n",
      " -> PT-motif - Pdbbind\n",
      "2-Wasserstein Distance between PT-motif and Pdbbind: 28.42, time costs: 0.2\n",
      " -> PT-motif - Kinase\n",
      "2-Wasserstein Distance between PT-motif and Kinase: 32.57, time costs: 0.2\n",
      " -> PT-region - Stability\n",
      "2-Wasserstein Distance between PT-region and Stability: 30.15, time costs: 0.2\n",
      " -> PT-region - Fluoresecence\n",
      "2-Wasserstein Distance between PT-region and Fluoresecence: 34.75, time costs: 0.2\n",
      " -> PT-region - Remote_homology\n",
      "2-Wasserstein Distance between PT-region and Remote_homology: 28.18, time costs: 0.2\n",
      " -> PT-region - Secondary_structrue\n",
      "2-Wasserstein Distance between PT-region and Secondary_structrue: 25.71, time costs: 0.2\n",
      " -> PT-region - Pdbbind\n",
      "2-Wasserstein Distance between PT-region and Pdbbind: 28.42, time costs: 0.2\n",
      " -> PT-region - Kinase\n",
      "2-Wasserstein Distance between PT-region and Kinase: 32.57, time costs: 0.2\n",
      " -> PT-go - Stability\n",
      "2-Wasserstein Distance between PT-go and Stability: 30.15, time costs: 0.2\n",
      " -> PT-go - Fluoresecence\n",
      "2-Wasserstein Distance between PT-go and Fluoresecence: 34.75, time costs: 0.2\n",
      " -> PT-go - Remote_homology\n",
      "2-Wasserstein Distance between PT-go and Remote_homology: 28.18, time costs: 0.2\n",
      " -> PT-go - Secondary_structrue\n",
      "2-Wasserstein Distance between PT-go and Secondary_structrue: 25.71, time costs: 0.2\n",
      " -> PT-go - Pdbbind\n",
      "2-Wasserstein Distance between PT-go and Pdbbind: 28.42, time costs: 0.2\n",
      " -> PT-go - Kinase\n",
      "2-Wasserstein Distance between PT-go and Kinase: 32.57, time costs: 0.2\n",
      "==== x ==== ==== x ==== ==== x ==== ==== x ==== ==== x ==== \n",
      "Start computing for Pretrain-MultiTask: MLM+GO+D\n",
      " -> PT-mlm - Stability\n",
      "2-Wasserstein Distance between PT-mlm and Stability: 29.62, time costs: 0.2\n",
      " -> PT-mlm - Fluoresecence\n",
      "2-Wasserstein Distance between PT-mlm and Fluoresecence: 36.04, time costs: 0.2\n",
      " -> PT-mlm - Remote_homology\n",
      "2-Wasserstein Distance between PT-mlm and Remote_homology: 29.20, time costs: 0.2\n",
      " -> PT-mlm - Secondary_structrue\n",
      "2-Wasserstein Distance between PT-mlm and Secondary_structrue: 24.49, time costs: 0.2\n",
      " -> PT-mlm - Pdbbind\n",
      "2-Wasserstein Distance between PT-mlm and Pdbbind: 28.07, time costs: 0.2\n",
      " -> PT-mlm - Kinase\n",
      "2-Wasserstein Distance between PT-mlm and Kinase: 32.73, time costs: 0.2\n",
      " -> PT-domain - Stability\n",
      "2-Wasserstein Distance between PT-domain and Stability: 29.62, time costs: 0.2\n",
      " -> PT-domain - Fluoresecence\n",
      "2-Wasserstein Distance between PT-domain and Fluoresecence: 36.04, time costs: 0.2\n",
      " -> PT-domain - Remote_homology\n",
      "2-Wasserstein Distance between PT-domain and Remote_homology: 29.20, time costs: 0.2\n",
      " -> PT-domain - Secondary_structrue\n",
      "2-Wasserstein Distance between PT-domain and Secondary_structrue: 24.49, time costs: 0.2\n",
      " -> PT-domain - Pdbbind\n",
      "2-Wasserstein Distance between PT-domain and Pdbbind: 28.07, time costs: 0.2\n",
      " -> PT-domain - Kinase\n",
      "2-Wasserstein Distance between PT-domain and Kinase: 32.73, time costs: 0.2\n",
      " -> PT-go - Stability\n",
      "2-Wasserstein Distance between PT-go and Stability: 29.62, time costs: 0.2\n",
      " -> PT-go - Fluoresecence\n",
      "2-Wasserstein Distance between PT-go and Fluoresecence: 36.04, time costs: 0.2\n",
      " -> PT-go - Remote_homology\n",
      "2-Wasserstein Distance between PT-go and Remote_homology: 29.20, time costs: 0.2\n",
      " -> PT-go - Secondary_structrue\n",
      "2-Wasserstein Distance between PT-go and Secondary_structrue: 24.49, time costs: 0.3\n",
      " -> PT-go - Pdbbind\n",
      "2-Wasserstein Distance between PT-go and Pdbbind: 28.07, time costs: 0.2\n",
      " -> PT-go - Kinase\n",
      "2-Wasserstein Distance between PT-go and Kinase: 32.73, time costs: 0.2\n",
      "==== x ==== ==== x ==== ==== x ==== ==== x ==== ==== x ==== \n",
      "Start computing for Pretrain-MultiTask: RMD\n",
      " -> PT-domain - Stability\n",
      "2-Wasserstein Distance between PT-domain and Stability: 25.97, time costs: 0.2\n",
      " -> PT-domain - Fluoresecence\n",
      "2-Wasserstein Distance between PT-domain and Fluoresecence: 33.48, time costs: 0.2\n",
      " -> PT-domain - Remote_homology\n",
      "2-Wasserstein Distance between PT-domain and Remote_homology: 26.54, time costs: 0.2\n",
      " -> PT-domain - Secondary_structrue\n",
      "2-Wasserstein Distance between PT-domain and Secondary_structrue: 22.99, time costs: 0.2\n",
      " -> PT-domain - Pdbbind\n",
      "2-Wasserstein Distance between PT-domain and Pdbbind: 25.33, time costs: 0.2\n",
      " -> PT-domain - Kinase\n",
      "2-Wasserstein Distance between PT-domain and Kinase: 29.67, time costs: 0.2\n",
      " -> PT-motif - Stability\n",
      "2-Wasserstein Distance between PT-motif and Stability: 25.97, time costs: 0.2\n",
      " -> PT-motif - Fluoresecence\n",
      "2-Wasserstein Distance between PT-motif and Fluoresecence: 33.48, time costs: 0.2\n",
      " -> PT-motif - Remote_homology\n",
      "2-Wasserstein Distance between PT-motif and Remote_homology: 26.54, time costs: 0.2\n",
      " -> PT-motif - Secondary_structrue\n",
      "2-Wasserstein Distance between PT-motif and Secondary_structrue: 22.99, time costs: 0.2\n",
      " -> PT-motif - Pdbbind\n",
      "2-Wasserstein Distance between PT-motif and Pdbbind: 25.33, time costs: 0.2\n",
      " -> PT-motif - Kinase\n",
      "2-Wasserstein Distance between PT-motif and Kinase: 29.67, time costs: 0.2\n",
      " -> PT-region - Stability\n",
      "2-Wasserstein Distance between PT-region and Stability: 25.97, time costs: 0.2\n",
      " -> PT-region - Fluoresecence\n",
      "2-Wasserstein Distance between PT-region and Fluoresecence: 33.48, time costs: 0.2\n",
      " -> PT-region - Remote_homology\n",
      "2-Wasserstein Distance between PT-region and Remote_homology: 26.54, time costs: 0.2\n",
      " -> PT-region - Secondary_structrue\n",
      "2-Wasserstein Distance between PT-region and Secondary_structrue: 22.99, time costs: 0.2\n",
      " -> PT-region - Pdbbind\n",
      "2-Wasserstein Distance between PT-region and Pdbbind: 25.33, time costs: 0.2\n",
      " -> PT-region - Kinase\n",
      "2-Wasserstein Distance between PT-region and Kinase: 29.67, time costs: 0.2\n",
      "==== x ==== ==== x ==== ==== x ==== ==== x ==== ==== x ==== \n"
     ]
    }
   ],
   "source": [
    "import ot\n",
    "\n",
    "def pW_cal(a, b, p=2, metric='euclidean'):\n",
    "    \"\"\" Args:\n",
    "            a, b: samples sets drawn from α,β respectively\n",
    "            p: the coefficient in the OT cost (i.e., the p in p-Wasserstein)\n",
    "            metric: the metric to compute cost matrix, 'euclidean' or 'cosine'\n",
    "    \"\"\"\n",
    "    # cost matrix\n",
    "    M = ot.dist(a, b, metric=metric)\n",
    "    M = pow(M, p)\n",
    "    # uniform distribution assumption\n",
    "    alpha = ot.unif(len(a))\n",
    "    beta = ot.unif(len(b))\n",
    "    # p-Wesserstein Distance\n",
    "    pW = ot.emd2(alpha, beta, M, numItermax=100000)\n",
    "    pW = pow(pW, 1/p)\n",
    "    return pW\n",
    "\n",
    "bs3_XpW_t2t_distances = []\n",
    "for i, comb in enumerate(TaskCombs):\n",
    "    print(\"Start computing for Pretrain-MultiTask: {}\".format(comb))\n",
    "    data_stuff = data_stuffs_dict[comb]\n",
    "    pt_datasets, pt_names, ft_datasets, ft_names, pt_tasks_dict = data_stuff\n",
    "\n",
    "    pt_xdata_dict = {}\n",
    "    for i, pt_dataset in enumerate(pt_datasets):\n",
    "        X_Y = pt_dataset.embs_and_labels\n",
    "        pt_xdata_dict[pt_names[i]] = series_to_array(X_Y['pro_emb'])\n",
    "    ft_xdata_dict = {}\n",
    "    for i, ft_dataset in enumerate(ft_datasets):\n",
    "        X_Y = ft_dataset.embs_and_labels\n",
    "        ft_xdata_dict[ft_names[i]] = series_to_array(X_Y['pro_emb'])\n",
    "\n",
    "    dataset_dists = {}\n",
    "    task_pairs = itertools.product(pt_names, ft_names) \n",
    "    # computing pairwise feature distances\n",
    "    for pt_task, ft_task in task_pairs:\n",
    "        X_src = pt_xdata_dict[pt_task]\n",
    "        X_tgt = ft_xdata_dict[ft_task]\n",
    "        print(' -> {} - {}'.format(pt_task, ft_task))\n",
    "        ts = time.time()\n",
    "        pW = pW_cal(X_src, X_tgt, p=p, metric='euclidean')\n",
    "        dataset_dists[(pt_task, ft_task)] = pW\n",
    "        print('{}-Wasserstein Distance between {} and {}: {:.2f}, time costs: {:.1f}'.format(p, pt_task, ft_task, pW, time.time()-ts))\n",
    "\n",
    "    # Construct pairwise pW Distance dataframe\n",
    "    pttask_to_idx = {task: i for i, task in enumerate(pt_names)}\n",
    "    pW_df = pd.DataFrame(columns=ft_names, index=range(len(pttask_to_idx)))\n",
    "    for (pt_task, ft_task), pW in dataset_dists.items():\n",
    "        pW_df.iloc[pttask_to_idx[pt_task]][ft_task] = pW\n",
    "    pW_df['pt_task'] = pt_names\n",
    "    \n",
    "    bs3_XpW_t2t_distances.append(pW_df)\n",
    "    print('==== x ==== ' * 5)\n",
    "\n",
    "bs3_XpW_t2t_distances = cal_combs_distances_mean(all_pt_tasks, bs3_XpW_t2t_distances)\n",
    "np.save(\"./results(all)/bs3_XpW_t2t_distances.npy\", bs3_XpW_t2t_distances)"
   ]
  },
  {
   "cell_type": "code",
   "execution_count": 10,
   "metadata": {},
   "outputs": [
    {
     "data": {
      "text/plain": [
       "array([[27.862999, 34.334396, 27.04403 , 23.841352, 26.273642],\n",
       "       [27.862999, 34.334396, 27.04403 , 23.841352, 26.273642],\n",
       "       [27.862999, 34.334396, 27.04403 , 23.841352, 26.273642],\n",
       "       [27.862999, 34.334396, 27.04403 , 23.841352, 26.273642],\n",
       "       [27.862999, 34.334396, 27.04403 , 23.841352, 26.273642]],\n",
       "      dtype=float32)"
      ]
     },
     "execution_count": 10,
     "metadata": {},
     "output_type": "execute_result"
    }
   ],
   "source": [
    "bs3_XpW_t2t_distances"
   ]
  }
 ],
 "metadata": {
  "kernelspec": {
   "display_name": "Python 3.9.1 ('transferability')",
   "language": "python",
   "name": "python3"
  },
  "language_info": {
   "codemirror_mode": {
    "name": "ipython",
    "version": 3
   },
   "file_extension": ".py",
   "mimetype": "text/x-python",
   "name": "python",
   "nbconvert_exporter": "python",
   "pygments_lexer": "ipython3",
   "version": "3.9.1 (default, Dec 11 2020, 14:32:07) \n[GCC 7.3.0]"
  },
  "orig_nbformat": 4,
  "vscode": {
   "interpreter": {
    "hash": "147b18059a52f9d12650ff68dd3a2fbba920f25994ce47eb91f133cf06ed312d"
   }
  }
 },
 "nbformat": 4,
 "nbformat_minor": 2
}
