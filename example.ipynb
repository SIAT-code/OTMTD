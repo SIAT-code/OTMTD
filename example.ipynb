{
 "cells": [
  {
   "cell_type": "code",
   "execution_count": 1,
   "metadata": {},
   "outputs": [],
   "source": [
    "import time\n",
    "import random\n",
    "import itertools\n",
    "import collections\n",
    "import numpy as np\n",
    "import pandas as pd\n",
    "import torch\n",
    "import torch.nn as nn\n",
    "import matplotlib.pyplot as plt\n",
    "from torch.utils.data import Dataset, DataLoader\n",
    "\n",
    "from otmtd.utils.distance import WTE\n",
    "from scipy.spatial import distance\n",
    "\n",
    "\n",
    "class EmbeddingDataset(Dataset):\n",
    "    def __init__(self, task, text_path, train_embs_path, valid_embs_path=None, pt_label='domain'):\n",
    "        embs, labels, unique_labels = self.load_embs_and_labels(task, text_path, train_embs_path, valid_embs_path, pt_label)\n",
    "        if task != 'pre_train':\n",
    "            print(\"{} unique labels: {}\".format(task.capitalize(), len(unique_labels)))\n",
    "        else:\n",
    "            print(\"PRE-TRAIN {} unique labels: {}\".format(pt_label, len(unique_labels)))\n",
    "        counter = collections.Counter(labels)\n",
    "        sorted_counter = dict(sorted(counter.items(), key=lambda kv: kv[1], reverse=True))\n",
    "        print(sorted_counter)\n",
    "        self.unique_labels = unique_labels\n",
    "\n",
    "        self.embs_and_labels = pd.concat([embs, labels], axis=1)\n",
    "        # 创建otdd需求的Dataset属性\n",
    "        self.classes = [str(k) for k in unique_labels] # list of unique labels string\n",
    "        self.targets = torch.tensor(list(labels))\n",
    "\n",
    "    def __len__(self):\n",
    "        return len(self.targets)\n",
    "\n",
    "    def __getitem__(self, idx):\n",
    "        embedding = self.embs_and_labels.iloc[idx]['pro_emb']\n",
    "        label = self.embs_and_labels.iloc[idx]['label']\n",
    "        return torch.tensor(embedding).reshape(1, -1, 1), torch.tensor(label)\n",
    "\n",
    "    def load_embs_and_labels(self, task, text_path, train_embs_path, valid_embs_path, pt_label):\n",
    "        texts = pd.read_csv(text_path)\n",
    "        if task=='pre_train':\n",
    "            texts.rename(columns={pt_label: 'label'}, inplace=True)\n",
    "        labels = texts['label']\n",
    "        unique_labels = labels.unique()\n",
    "\n",
    "        if task=='pre_train' or task=='kinase': # pre_train / kinase, only `train` set\n",
    "            embs = pd.read_pickle(train_embs_path)\n",
    "        else:\n",
    "            train_embs, valid_embs = pd.read_pickle(train_embs_path), pd.read_pickle(valid_embs_path)\n",
    "            embs = pd.concat([train_embs, valid_embs], axis=0)\n",
    "\n",
    "        selected_ids = texts['uniprot_id'].tolist()\n",
    "        selected_embs_flag = embs['pro_id'].map(lambda x: True if x in selected_ids else False)\n",
    "        embs = embs[selected_embs_flag].reset_index(drop=True)\n",
    "        embs = embs['pro_emb']\n",
    "\n",
    "        return embs, labels, unique_labels\n",
    "    \n",
    "def set_random_seed(SEED):\n",
    "    np.random.seed(SEED)\n",
    "    torch.manual_seed(SEED)\n",
    "    torch.cuda.manual_seed(SEED)"
   ]
  },
  {
   "cell_type": "code",
   "execution_count": 2,
   "metadata": {},
   "outputs": [
    {
     "name": "stdout",
     "output_type": "stream",
     "text": [
      "Start computing for Pretrain-MultiTask: MLM+RMD\n",
      "PRE-TRAIN mlm unique labels: 15\n",
      "{2: 148, 10: 117, 6: 116, 8: 101, 9: 98, 4: 95, 5: 59, 14: 54, 1: 49, 3: 47, 7: 46, 12: 45, 0: 45, 11: 13, 13: 12}\n",
      "PRE-TRAIN domain unique labels: 13\n",
      "{0: 173, 1: 165, 2: 121, 3: 89, 4: 88, 5: 64, 6: 59, 7: 53, 8: 50, 9: 47, 10: 46, 11: 45, 12: 45}\n",
      "PRE-TRAIN motif unique labels: 5\n",
      "{0: 843, 1: 59, 2: 50, 3: 47, 4: 46}\n",
      "PRE-TRAIN region unique labels: 10\n",
      "{0: 202, 1: 173, 2: 165, 3: 121, 4: 89, 5: 88, 6: 64, 7: 53, 8: 45, 9: 45}\n",
      "Fluoresecence unique labels: 39\n",
      "{0: 127, 1: 118, 2: 102, 3: 84, 4: 78, 5: 78, 6: 56, 7: 43, 8: 37, 9: 34, 10: 31, 11: 28, 12: 28, 13: 19, 14: 16, 15: 15, 16: 13, 17: 13, 18: 12, 19: 11, 20: 8, 21: 7, 22: 7, 23: 5, 24: 5, 25: 3, 26: 3, 27: 3, 28: 2, 29: 2, 30: 2, 31: 2, 32: 2, 33: 1, 34: 1, 35: 1, 36: 1, 37: 1, 38: 1}\n",
      "Embedding labels...\n",
      "Computing inter label-to-label distance for mlm & domain\n"
     ]
    },
    {
     "name": "stderr",
     "output_type": "stream",
     "text": [
      "13it [00:00, 19.65it/s]\n",
      "Computing label-to-label distances: 100%|██████████| 195/195 [00:10<00:00, 19.28it/s]\n"
     ]
    },
    {
     "name": "stdout",
     "output_type": "stream",
     "text": [
      "Computing inter label-to-label distance for mlm & motif\n"
     ]
    },
    {
     "name": "stderr",
     "output_type": "stream",
     "text": [
      "5it [00:00, 18.43it/s]\n",
      "Computing label-to-label distances: 100%|██████████| 75/75 [00:03<00:00, 19.94it/s]\n"
     ]
    },
    {
     "name": "stdout",
     "output_type": "stream",
     "text": [
      "Computing inter label-to-label distance for mlm & region\n"
     ]
    },
    {
     "name": "stderr",
     "output_type": "stream",
     "text": [
      "10it [00:00, 17.41it/s]\n",
      "Computing label-to-label distances: 100%|██████████| 150/150 [00:07<00:00, 20.28it/s]\n"
     ]
    },
    {
     "name": "stdout",
     "output_type": "stream",
     "text": [
      "Computing inter label-to-label distance for mlm & Fluoresecence\n"
     ]
    },
    {
     "name": "stderr",
     "output_type": "stream",
     "text": [
      "/home/brian/work/OTMTD_GH/otmtd/utils/distance.py:98: UserWarning: cov(): degrees of freedom is <= 0 (Triggered internally at  ../aten/src/ATen/native/Correlation.cpp:99.)\n",
      "  cov = torch.stack([torch.cov(X[Y == y].T) for y in labels], dim=0)\n",
      "15it [00:00, 20.12it/s]\n",
      "Computing label-to-label distances: 100%|██████████| 585/585 [00:29<00:00, 19.72it/s]\n"
     ]
    },
    {
     "name": "stdout",
     "output_type": "stream",
     "text": [
      "Computing inter label-to-label distance for domain & motif\n"
     ]
    },
    {
     "name": "stderr",
     "output_type": "stream",
     "text": [
      "5it [00:00, 16.19it/s]\n",
      "Computing label-to-label distances: 100%|██████████| 65/65 [00:03<00:00, 19.62it/s]\n"
     ]
    },
    {
     "name": "stdout",
     "output_type": "stream",
     "text": [
      "Computing inter label-to-label distance for domain & region\n"
     ]
    },
    {
     "name": "stderr",
     "output_type": "stream",
     "text": [
      "10it [00:00, 19.01it/s]\n",
      "Computing label-to-label distances: 100%|██████████| 130/130 [00:06<00:00, 20.11it/s]\n"
     ]
    },
    {
     "name": "stdout",
     "output_type": "stream",
     "text": [
      "Computing inter label-to-label distance for domain & Fluoresecence\n"
     ]
    },
    {
     "name": "stderr",
     "output_type": "stream",
     "text": [
      "13it [00:00, 19.71it/s]\n",
      "Computing label-to-label distances: 100%|██████████| 507/507 [00:26<00:00, 19.48it/s]\n"
     ]
    },
    {
     "name": "stdout",
     "output_type": "stream",
     "text": [
      "Computing inter label-to-label distance for motif & region\n"
     ]
    },
    {
     "name": "stderr",
     "output_type": "stream",
     "text": [
      "5it [00:00, 20.52it/s]\n",
      "Computing label-to-label distances: 100%|██████████| 50/50 [00:02<00:00, 20.58it/s]\n"
     ]
    },
    {
     "name": "stdout",
     "output_type": "stream",
     "text": [
      "Computing inter label-to-label distance for motif & Fluoresecence\n"
     ]
    },
    {
     "name": "stderr",
     "output_type": "stream",
     "text": [
      "5it [00:00, 18.02it/s]\n",
      "Computing label-to-label distances: 100%|██████████| 195/195 [00:09<00:00, 19.71it/s]\n"
     ]
    },
    {
     "name": "stdout",
     "output_type": "stream",
     "text": [
      "Computing inter label-to-label distance for region & Fluoresecence\n"
     ]
    },
    {
     "name": "stderr",
     "output_type": "stream",
     "text": [
      "10it [00:00, 19.43it/s]\n",
      "Computing label-to-label distances: 100%|██████████| 390/390 [00:20<00:00, 19.26it/s]\n"
     ]
    },
    {
     "name": "stdout",
     "output_type": "stream",
     "text": [
      "Computing intra label-to-label distance for mlm\n"
     ]
    },
    {
     "name": "stderr",
     "output_type": "stream",
     "text": [
      "15it [00:00, 19.61it/s]\n",
      "Computing label-to-label distances: 100%|██████████| 105/105 [00:05<00:00, 20.06it/s]\n"
     ]
    },
    {
     "name": "stdout",
     "output_type": "stream",
     "text": [
      "Computing intra label-to-label distance for domain\n"
     ]
    },
    {
     "name": "stderr",
     "output_type": "stream",
     "text": [
      "13it [00:00, 19.43it/s]\n",
      "Computing label-to-label distances: 100%|██████████| 78/78 [00:03<00:00, 19.77it/s]\n"
     ]
    },
    {
     "name": "stdout",
     "output_type": "stream",
     "text": [
      "Computing intra label-to-label distance for motif\n"
     ]
    },
    {
     "name": "stderr",
     "output_type": "stream",
     "text": [
      "5it [00:00, 20.07it/s]\n",
      "Computing label-to-label distances: 100%|██████████| 10/10 [00:00<00:00, 20.33it/s]\n"
     ]
    },
    {
     "name": "stdout",
     "output_type": "stream",
     "text": [
      "Computing intra label-to-label distance for region\n"
     ]
    },
    {
     "name": "stderr",
     "output_type": "stream",
     "text": [
      "10it [00:00, 16.75it/s]\n",
      "Computing label-to-label distances: 100%|██████████| 45/45 [00:02<00:00, 20.27it/s]\n"
     ]
    },
    {
     "name": "stdout",
     "output_type": "stream",
     "text": [
      "Computing intra label-to-label distance for Fluoresecence\n"
     ]
    },
    {
     "name": "stderr",
     "output_type": "stream",
     "text": [
      "39it [00:01, 20.17it/s]\n",
      "Computing label-to-label distances: 100%|██████████| 741/741 [00:36<00:00, 20.03it/s]\n"
     ]
    },
    {
     "name": "stdout",
     "output_type": "stream",
     "text": [
      "Finish label embedding in 3.1 mins\n",
      "Wasserstein embedding...\n",
      "Finish WTE in 3.2 mins\n",
      "(1, 1) \n",
      " ==== x ==== ==== x ==== ==== x ==== ==== x ==== ==== x ==== \n",
      "Start computing for Pretrain-MultiTask: GO+RMD\n",
      "PRE-TRAIN domain unique labels: 13\n",
      "{0: 173, 1: 165, 2: 121, 3: 89, 4: 88, 5: 64, 6: 59, 7: 53, 8: 50, 9: 47, 10: 46, 11: 45, 12: 45}\n",
      "PRE-TRAIN motif unique labels: 5\n",
      "{0: 843, 1: 59, 2: 50, 3: 47, 4: 46}\n",
      "PRE-TRAIN region unique labels: 10\n",
      "{0: 202, 1: 173, 2: 165, 3: 121, 4: 89, 5: 88, 6: 64, 7: 53, 8: 45, 9: 45}\n",
      "PRE-TRAIN go unique labels: 9\n",
      "{0: 347, 1: 229, 2: 133, 3: 89, 4: 59, 5: 50, 6: 47, 7: 46, 8: 45}\n",
      "Fluoresecence unique labels: 39\n",
      "{0: 127, 1: 118, 2: 102, 3: 84, 4: 78, 5: 78, 6: 56, 7: 43, 8: 37, 9: 34, 10: 31, 11: 28, 12: 28, 13: 19, 14: 16, 15: 15, 16: 13, 17: 13, 18: 12, 19: 11, 20: 8, 21: 7, 22: 7, 23: 5, 24: 5, 25: 3, 26: 3, 27: 3, 28: 2, 29: 2, 30: 2, 31: 2, 32: 2, 33: 1, 34: 1, 35: 1, 36: 1, 37: 1, 38: 1}\n",
      "Embedding labels...\n",
      "Computing inter label-to-label distance for domain & motif\n"
     ]
    },
    {
     "name": "stderr",
     "output_type": "stream",
     "text": [
      "5it [00:00, 17.75it/s]\n",
      "Computing label-to-label distances: 100%|██████████| 65/65 [00:03<00:00, 19.46it/s]\n"
     ]
    },
    {
     "name": "stdout",
     "output_type": "stream",
     "text": [
      "Computing inter label-to-label distance for domain & region\n"
     ]
    },
    {
     "name": "stderr",
     "output_type": "stream",
     "text": [
      "10it [00:00, 18.83it/s]\n",
      "Computing label-to-label distances: 100%|██████████| 130/130 [00:06<00:00, 19.28it/s]\n"
     ]
    },
    {
     "name": "stdout",
     "output_type": "stream",
     "text": [
      "Computing inter label-to-label distance for domain & go\n"
     ]
    },
    {
     "name": "stderr",
     "output_type": "stream",
     "text": [
      "9it [00:00, 18.06it/s]\n",
      "Computing label-to-label distances: 100%|██████████| 117/117 [00:05<00:00, 20.09it/s]\n"
     ]
    },
    {
     "name": "stdout",
     "output_type": "stream",
     "text": [
      "Computing inter label-to-label distance for domain & Fluoresecence\n"
     ]
    },
    {
     "name": "stderr",
     "output_type": "stream",
     "text": [
      "/home/brian/work/OTMTD_GH/otmtd/utils/distance.py:98: UserWarning: cov(): degrees of freedom is <= 0 (Triggered internally at  ../aten/src/ATen/native/Correlation.cpp:99.)\n",
      "  cov = torch.stack([torch.cov(X[Y == y].T) for y in labels], dim=0)\n",
      "13it [00:00, 18.11it/s]\n",
      "Computing label-to-label distances: 100%|██████████| 507/507 [00:25<00:00, 19.72it/s]\n"
     ]
    },
    {
     "name": "stdout",
     "output_type": "stream",
     "text": [
      "Computing inter label-to-label distance for motif & region\n"
     ]
    },
    {
     "name": "stderr",
     "output_type": "stream",
     "text": [
      "5it [00:00, 17.44it/s]\n",
      "Computing label-to-label distances: 100%|██████████| 50/50 [00:02<00:00, 19.59it/s]\n"
     ]
    },
    {
     "name": "stdout",
     "output_type": "stream",
     "text": [
      "Computing inter label-to-label distance for motif & go\n"
     ]
    },
    {
     "name": "stderr",
     "output_type": "stream",
     "text": [
      "5it [00:00, 18.72it/s]\n",
      "Computing label-to-label distances: 100%|██████████| 45/45 [00:02<00:00, 19.74it/s]\n"
     ]
    },
    {
     "name": "stdout",
     "output_type": "stream",
     "text": [
      "Computing inter label-to-label distance for motif & Fluoresecence\n"
     ]
    },
    {
     "name": "stderr",
     "output_type": "stream",
     "text": [
      "5it [00:00, 19.06it/s]\n",
      "Computing label-to-label distances: 100%|██████████| 195/195 [00:09<00:00, 19.82it/s]\n"
     ]
    },
    {
     "name": "stdout",
     "output_type": "stream",
     "text": [
      "Computing inter label-to-label distance for region & go\n"
     ]
    },
    {
     "name": "stderr",
     "output_type": "stream",
     "text": [
      "9it [00:00, 17.82it/s]\n",
      "Computing label-to-label distances: 100%|██████████| 90/90 [00:04<00:00, 19.36it/s]\n"
     ]
    },
    {
     "name": "stdout",
     "output_type": "stream",
     "text": [
      "Computing inter label-to-label distance for region & Fluoresecence\n"
     ]
    },
    {
     "name": "stderr",
     "output_type": "stream",
     "text": [
      "10it [00:00, 17.16it/s]\n",
      "Computing label-to-label distances: 100%|██████████| 390/390 [00:19<00:00, 19.52it/s]\n"
     ]
    },
    {
     "name": "stdout",
     "output_type": "stream",
     "text": [
      "Computing inter label-to-label distance for go & Fluoresecence\n"
     ]
    },
    {
     "name": "stderr",
     "output_type": "stream",
     "text": [
      "9it [00:00, 19.07it/s]\n",
      "Computing label-to-label distances: 100%|██████████| 351/351 [00:17<00:00, 19.63it/s]\n"
     ]
    },
    {
     "name": "stdout",
     "output_type": "stream",
     "text": [
      "Computing intra label-to-label distance for domain\n"
     ]
    },
    {
     "name": "stderr",
     "output_type": "stream",
     "text": [
      "13it [00:00, 19.79it/s]\n",
      "Computing label-to-label distances: 100%|██████████| 78/78 [00:03<00:00, 19.94it/s]\n"
     ]
    },
    {
     "name": "stdout",
     "output_type": "stream",
     "text": [
      "Computing intra label-to-label distance for motif\n"
     ]
    },
    {
     "name": "stderr",
     "output_type": "stream",
     "text": [
      "5it [00:00, 19.95it/s]\n",
      "Computing label-to-label distances: 100%|██████████| 10/10 [00:00<00:00, 20.12it/s]\n"
     ]
    },
    {
     "name": "stdout",
     "output_type": "stream",
     "text": [
      "Computing intra label-to-label distance for region\n"
     ]
    },
    {
     "name": "stderr",
     "output_type": "stream",
     "text": [
      "10it [00:00, 19.26it/s]\n",
      "Computing label-to-label distances: 100%|██████████| 45/45 [00:02<00:00, 20.51it/s]\n"
     ]
    },
    {
     "name": "stdout",
     "output_type": "stream",
     "text": [
      "Computing intra label-to-label distance for go\n"
     ]
    },
    {
     "name": "stderr",
     "output_type": "stream",
     "text": [
      "9it [00:00, 20.02it/s]\n",
      "Computing label-to-label distances: 100%|██████████| 36/36 [00:01<00:00, 20.32it/s]\n"
     ]
    },
    {
     "name": "stdout",
     "output_type": "stream",
     "text": [
      "Computing intra label-to-label distance for Fluoresecence\n"
     ]
    },
    {
     "name": "stderr",
     "output_type": "stream",
     "text": [
      "39it [00:01, 20.38it/s]\n",
      "Computing label-to-label distances: 100%|██████████| 741/741 [00:37<00:00, 19.74it/s]\n"
     ]
    },
    {
     "name": "stdout",
     "output_type": "stream",
     "text": [
      "Finish label embedding in 2.7 mins\n",
      "Wasserstein embedding...\n",
      "Finish WTE in 2.7 mins\n",
      "(1, 1) \n",
      " ==== x ==== ==== x ==== ==== x ==== ==== x ==== ==== x ==== \n",
      "Start computing for Pretrain-MultiTask: MLM+GO+D\n",
      "PRE-TRAIN mlm unique labels: 15\n",
      "{2: 148, 10: 117, 6: 116, 8: 101, 9: 98, 4: 95, 5: 59, 14: 54, 1: 49, 3: 47, 7: 46, 12: 45, 0: 45, 11: 13, 13: 12}\n",
      "PRE-TRAIN domain unique labels: 13\n",
      "{0: 173, 1: 165, 2: 121, 3: 89, 4: 88, 5: 64, 6: 59, 7: 53, 8: 50, 9: 47, 10: 46, 11: 45, 12: 45}\n",
      "PRE-TRAIN go unique labels: 9\n",
      "{0: 347, 1: 229, 2: 133, 3: 89, 4: 59, 5: 50, 6: 47, 7: 46, 8: 45}\n",
      "Fluoresecence unique labels: 39\n",
      "{0: 127, 1: 118, 2: 102, 3: 84, 4: 78, 5: 78, 6: 56, 7: 43, 8: 37, 9: 34, 10: 31, 11: 28, 12: 28, 13: 19, 14: 16, 15: 15, 16: 13, 17: 13, 18: 12, 19: 11, 20: 8, 21: 7, 22: 7, 23: 5, 24: 5, 25: 3, 26: 3, 27: 3, 28: 2, 29: 2, 30: 2, 31: 2, 32: 2, 33: 1, 34: 1, 35: 1, 36: 1, 37: 1, 38: 1}\n",
      "Embedding labels...\n",
      "Computing inter label-to-label distance for mlm & domain\n"
     ]
    },
    {
     "name": "stderr",
     "output_type": "stream",
     "text": [
      "13it [00:00, 18.36it/s]\n",
      "Computing label-to-label distances: 100%|██████████| 195/195 [00:09<00:00, 19.62it/s]\n"
     ]
    },
    {
     "name": "stdout",
     "output_type": "stream",
     "text": [
      "Computing inter label-to-label distance for mlm & go\n"
     ]
    },
    {
     "name": "stderr",
     "output_type": "stream",
     "text": [
      "9it [00:00, 18.37it/s]\n",
      "Computing label-to-label distances: 100%|██████████| 135/135 [00:06<00:00, 20.02it/s]\n"
     ]
    },
    {
     "name": "stdout",
     "output_type": "stream",
     "text": [
      "Computing inter label-to-label distance for mlm & Fluoresecence\n"
     ]
    },
    {
     "name": "stderr",
     "output_type": "stream",
     "text": [
      "/home/brian/work/OTMTD_GH/otmtd/utils/distance.py:98: UserWarning: cov(): degrees of freedom is <= 0 (Triggered internally at  ../aten/src/ATen/native/Correlation.cpp:99.)\n",
      "  cov = torch.stack([torch.cov(X[Y == y].T) for y in labels], dim=0)\n",
      "15it [00:00, 18.95it/s]\n",
      "Computing label-to-label distances: 100%|██████████| 585/585 [00:29<00:00, 19.78it/s]\n"
     ]
    },
    {
     "name": "stdout",
     "output_type": "stream",
     "text": [
      "Computing inter label-to-label distance for domain & go\n"
     ]
    },
    {
     "name": "stderr",
     "output_type": "stream",
     "text": [
      "9it [00:00, 18.41it/s]\n",
      "Computing label-to-label distances: 100%|██████████| 117/117 [00:05<00:00, 20.04it/s]\n"
     ]
    },
    {
     "name": "stdout",
     "output_type": "stream",
     "text": [
      "Computing inter label-to-label distance for domain & Fluoresecence\n"
     ]
    },
    {
     "name": "stderr",
     "output_type": "stream",
     "text": [
      "13it [00:00, 19.92it/s]\n",
      "Computing label-to-label distances: 100%|██████████| 507/507 [00:25<00:00, 19.71it/s]\n"
     ]
    },
    {
     "name": "stdout",
     "output_type": "stream",
     "text": [
      "Computing inter label-to-label distance for go & Fluoresecence\n"
     ]
    },
    {
     "name": "stderr",
     "output_type": "stream",
     "text": [
      "9it [00:00, 17.28it/s]\n",
      "Computing label-to-label distances: 100%|██████████| 351/351 [00:17<00:00, 19.89it/s]\n"
     ]
    },
    {
     "name": "stdout",
     "output_type": "stream",
     "text": [
      "Computing intra label-to-label distance for mlm\n"
     ]
    },
    {
     "name": "stderr",
     "output_type": "stream",
     "text": [
      "15it [00:00, 20.49it/s]\n",
      "Computing label-to-label distances: 100%|██████████| 105/105 [00:05<00:00, 19.78it/s]\n"
     ]
    },
    {
     "name": "stdout",
     "output_type": "stream",
     "text": [
      "Computing intra label-to-label distance for domain\n"
     ]
    },
    {
     "name": "stderr",
     "output_type": "stream",
     "text": [
      "13it [00:00, 20.70it/s]\n",
      "Computing label-to-label distances: 100%|██████████| 78/78 [00:03<00:00, 20.66it/s]\n"
     ]
    },
    {
     "name": "stdout",
     "output_type": "stream",
     "text": [
      "Computing intra label-to-label distance for go\n"
     ]
    },
    {
     "name": "stderr",
     "output_type": "stream",
     "text": [
      "9it [00:00, 19.55it/s]\n",
      "Computing label-to-label distances: 100%|██████████| 36/36 [00:01<00:00, 19.19it/s]\n"
     ]
    },
    {
     "name": "stdout",
     "output_type": "stream",
     "text": [
      "Computing intra label-to-label distance for Fluoresecence\n"
     ]
    },
    {
     "name": "stderr",
     "output_type": "stream",
     "text": [
      "39it [00:01, 20.90it/s]\n",
      "Computing label-to-label distances: 100%|██████████| 741/741 [00:37<00:00, 19.97it/s]\n"
     ]
    },
    {
     "name": "stdout",
     "output_type": "stream",
     "text": [
      "Finish label embedding in 2.6 mins\n",
      "Wasserstein embedding...\n",
      "Finish WTE in 2.6 mins\n",
      "(1, 1) \n",
      " ==== x ==== ==== x ==== ==== x ==== ==== x ==== ==== x ==== \n",
      "Start computing for Pretrain-MultiTask: RMD\n",
      "PRE-TRAIN domain unique labels: 13\n",
      "{0: 173, 1: 165, 2: 121, 3: 89, 4: 88, 5: 64, 6: 59, 7: 53, 8: 50, 9: 47, 10: 46, 11: 45, 12: 45}\n",
      "PRE-TRAIN motif unique labels: 5\n",
      "{0: 843, 1: 59, 2: 50, 3: 47, 4: 46}\n",
      "PRE-TRAIN region unique labels: 10\n",
      "{0: 202, 1: 173, 2: 165, 3: 121, 4: 89, 5: 88, 6: 64, 7: 53, 8: 45, 9: 45}\n",
      "Fluoresecence unique labels: 39\n",
      "{0: 127, 1: 118, 2: 102, 3: 84, 4: 78, 5: 78, 6: 56, 7: 43, 8: 37, 9: 34, 10: 31, 11: 28, 12: 28, 13: 19, 14: 16, 15: 15, 16: 13, 17: 13, 18: 12, 19: 11, 20: 8, 21: 7, 22: 7, 23: 5, 24: 5, 25: 3, 26: 3, 27: 3, 28: 2, 29: 2, 30: 2, 31: 2, 32: 2, 33: 1, 34: 1, 35: 1, 36: 1, 37: 1, 38: 1}\n",
      "Embedding labels...\n",
      "Computing inter label-to-label distance for domain & motif\n"
     ]
    },
    {
     "name": "stderr",
     "output_type": "stream",
     "text": [
      "5it [00:00, 18.37it/s]\n",
      "Computing label-to-label distances: 100%|██████████| 65/65 [00:03<00:00, 19.85it/s]\n"
     ]
    },
    {
     "name": "stdout",
     "output_type": "stream",
     "text": [
      "Computing inter label-to-label distance for domain & region\n"
     ]
    },
    {
     "name": "stderr",
     "output_type": "stream",
     "text": [
      "10it [00:00, 19.94it/s]\n",
      "Computing label-to-label distances: 100%|██████████| 130/130 [00:06<00:00, 20.18it/s]\n"
     ]
    },
    {
     "name": "stdout",
     "output_type": "stream",
     "text": [
      "Computing inter label-to-label distance for domain & Fluoresecence\n"
     ]
    },
    {
     "name": "stderr",
     "output_type": "stream",
     "text": [
      "/home/brian/work/OTMTD_GH/otmtd/utils/distance.py:98: UserWarning: cov(): degrees of freedom is <= 0 (Triggered internally at  ../aten/src/ATen/native/Correlation.cpp:99.)\n",
      "  cov = torch.stack([torch.cov(X[Y == y].T) for y in labels], dim=0)\n",
      "13it [00:00, 18.30it/s]\n",
      "Computing label-to-label distances: 100%|██████████| 507/507 [00:25<00:00, 19.94it/s]\n"
     ]
    },
    {
     "name": "stdout",
     "output_type": "stream",
     "text": [
      "Computing inter label-to-label distance for motif & region\n"
     ]
    },
    {
     "name": "stderr",
     "output_type": "stream",
     "text": [
      "5it [00:00, 17.41it/s]\n",
      "Computing label-to-label distances: 100%|██████████| 50/50 [00:02<00:00, 19.07it/s]\n"
     ]
    },
    {
     "name": "stdout",
     "output_type": "stream",
     "text": [
      "Computing inter label-to-label distance for motif & Fluoresecence\n"
     ]
    },
    {
     "name": "stderr",
     "output_type": "stream",
     "text": [
      "5it [00:00, 16.46it/s]\n",
      "Computing label-to-label distances: 100%|██████████| 195/195 [00:10<00:00, 19.13it/s]\n"
     ]
    },
    {
     "name": "stdout",
     "output_type": "stream",
     "text": [
      "Computing inter label-to-label distance for region & Fluoresecence\n"
     ]
    },
    {
     "name": "stderr",
     "output_type": "stream",
     "text": [
      "10it [00:00, 19.49it/s]\n",
      "Computing label-to-label distances: 100%|██████████| 390/390 [00:19<00:00, 19.68it/s]\n"
     ]
    },
    {
     "name": "stdout",
     "output_type": "stream",
     "text": [
      "Computing intra label-to-label distance for domain\n"
     ]
    },
    {
     "name": "stderr",
     "output_type": "stream",
     "text": [
      "13it [00:00, 20.69it/s]\n",
      "Computing label-to-label distances: 100%|██████████| 78/78 [00:03<00:00, 19.96it/s]\n"
     ]
    },
    {
     "name": "stdout",
     "output_type": "stream",
     "text": [
      "Computing intra label-to-label distance for motif\n"
     ]
    },
    {
     "name": "stderr",
     "output_type": "stream",
     "text": [
      "5it [00:00, 18.29it/s]\n",
      "Computing label-to-label distances: 100%|██████████| 10/10 [00:00<00:00, 20.23it/s]\n"
     ]
    },
    {
     "name": "stdout",
     "output_type": "stream",
     "text": [
      "Computing intra label-to-label distance for region\n"
     ]
    },
    {
     "name": "stderr",
     "output_type": "stream",
     "text": [
      "10it [00:00, 19.26it/s]\n",
      "Computing label-to-label distances: 100%|██████████| 45/45 [00:02<00:00, 20.56it/s]\n"
     ]
    },
    {
     "name": "stdout",
     "output_type": "stream",
     "text": [
      "Computing intra label-to-label distance for Fluoresecence\n"
     ]
    },
    {
     "name": "stderr",
     "output_type": "stream",
     "text": [
      "39it [00:01, 20.70it/s]\n",
      "Computing label-to-label distances: 100%|██████████| 741/741 [00:37<00:00, 19.87it/s]\n"
     ]
    },
    {
     "name": "stdout",
     "output_type": "stream",
     "text": [
      "Finish label embedding in 2.1 mins\n",
      "Wasserstein embedding...\n",
      "Finish WTE in 2.1 mins\n",
      "(1, 1) \n",
      " ==== x ==== ==== x ==== ==== x ==== ==== x ==== ==== x ==== \n"
     ]
    }
   ],
   "source": [
    "num_samples = 1000\n",
    "TaskCombs = ['MLM+RMD', 'GO+RMD', 'MLM+GO+D', 'RMD']\n",
    "pt_tasks_combs = [\n",
    "    ['mlm', 'domain', 'motif', 'region'],\n",
    "    ['domain', 'motif', 'region', 'go'],\n",
    "    ['mlm', 'domain', 'go'],\n",
    "    ['domain', 'motif', 'region']\n",
    "]\n",
    "\n",
    "device = torch.device('cpu')\n",
    "# generate reference\n",
    "feat_dim, lbl_emb_dim, ref_size = 512, 10, 200\n",
    "seed = 1145114\n",
    "set_random_seed(seed)\n",
    "reference = torch.randn(ref_size, feat_dim + lbl_emb_dim, dtype=float, device=device).float()\n",
    "\n",
    "wte_distance, wte_t2t_distances = [], []\n",
    "texts_base_dir = \"/home/brian/work/OTMTD_GH/processed_data\"\n",
    "embs_base_dir = \"/home/brian/work/OTMTD_GH/protein_embeddings_MultiTasks\"\n",
    "for i, comb in enumerate(TaskCombs):\n",
    "    print(\"Start computing for Pretrain-MultiTask: {}\".format(comb))\n",
    "    # 根据multi-tasks combination构建对应的embdding hub\n",
    "    tasks_texts_embs_hub = {\n",
    "        'pre_train': [\"{}/pre_train/sampling_set.txt\".format(texts_base_dir),\n",
    "                        \"{}/pre_train_combs/pre_train_{}_pro_embs_pt.pkl\".format(embs_base_dir, comb)],\n",
    "        'fluoresecence': [\"{}/fluorescence/sequence_go_label_{}.txt\".format(texts_base_dir, num_samples),\n",
    "                        \"{}/fluorescence/{}->fluorescence_pretrain_pro_embs_train.pkl\".format(embs_base_dir, comb),\n",
    "                        \"{}/fluorescence/{}->fluorescence_pretrain_pro_embs_valid.pkl\".format(embs_base_dir, comb)],\n",
    "    }\n",
    "\n",
    "    pt_datasets, pt_class_nums, pt_names = [], [], []\n",
    "    for label_task in pt_tasks_combs[i]:\n",
    "        dataset = EmbeddingDataset('pre_train', *tasks_texts_embs_hub['pre_train'], pt_label=label_task)\n",
    "        pt_datasets.append(dataset)\n",
    "        pt_class_nums.append(len(dataset.unique_labels))\n",
    "        pt_names.append(label_task)\n",
    "\n",
    "    ft_datasets, ft_class_nums, ft_names = [], [], []\n",
    "    for task in ['fluoresecence']:\n",
    "        dataset = EmbeddingDataset(task, *tasks_texts_embs_hub[task])\n",
    "        ft_datasets.append(dataset)\n",
    "        ft_class_nums.append(len(dataset.unique_labels))\n",
    "        ft_names.append(task.capitalize())\n",
    "\n",
    "    pt_tasks_dict = {task: i for i, task in enumerate(pt_tasks_combs[i])}\n",
    "    MultiTask_WTE = WTE(lbl_emb_dim, device, pt_class_nums=np.array(pt_class_nums),\n",
    "                        ft_class_nums=np.array(ft_class_nums), pt_names=pt_names, ft_names=ft_names,\n",
    "                        pt_tasks_combs=[pt_tasks_combs[i]], pt_tasks_dict=pt_tasks_dict, gaussian_assumption=True)\n",
    "    # pt_task_comb_embs, ft_task_embs = MultiTask_WTE.cwte(pt_datasets, ft_datasets, reference)\n",
    "    pt_task_comb_embs, ft_task_embs, pt_task_sole_embs = MultiTask_WTE.cwte(pt_datasets, ft_datasets, reference, return_t2t=True)\n",
    "    pt_task_comb_vecs = pt_task_comb_embs.reshape(1, -1) # each comb each time\n",
    "    ft_task_vecs = ft_task_embs.reshape(1, -1) # (dataset_num, ref_size * (feat_dim+lbl_emb_dim)) flatten operation\n",
    "\n",
    "    wte_distance_row = distance.cdist(pt_task_comb_vecs, ft_task_vecs, 'euclidean') # (dataset_num, dataset_num)\n",
    "    wte_distance.append(wte_distance_row)\n",
    "    print(wte_distance_row.shape, '\\n', '==== x ==== ' * 5)\n",
    "    \n",
    "wte_distance = np.concatenate(wte_distance, axis=0)"
   ]
  }
 ],
 "metadata": {
  "kernelspec": {
   "display_name": "Python 3.9.1 ('transferability')",
   "language": "python",
   "name": "python3"
  },
  "language_info": {
   "codemirror_mode": {
    "name": "ipython",
    "version": 3
   },
   "file_extension": ".py",
   "mimetype": "text/x-python",
   "name": "python",
   "nbconvert_exporter": "python",
   "pygments_lexer": "ipython3",
   "version": "3.9.1"
  },
  "orig_nbformat": 4,
  "vscode": {
   "interpreter": {
    "hash": "147b18059a52f9d12650ff68dd3a2fbba920f25994ce47eb91f133cf06ed312d"
   }
  }
 },
 "nbformat": 4,
 "nbformat_minor": 2
}
