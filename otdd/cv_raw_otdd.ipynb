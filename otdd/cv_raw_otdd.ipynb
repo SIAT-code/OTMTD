{
 "cells": [
  {
   "cell_type": "markdown",
   "metadata": {},
   "source": [
    "# 一、 *NIST & USPS"
   ]
  },
  {
   "cell_type": "code",
   "execution_count": 79,
   "metadata": {},
   "outputs": [
    {
     "name": "stdout",
     "output_type": "stream",
     "text": [
      "Fold Sizes: 54000/6000/10000 (train/valid/test)\n",
      "Fold Sizes: 112320/12480/20800 (train/valid/test)\n",
      "Fold Sizes: 54000/6000/10000 (train/valid/test)\n",
      "Fold Sizes: 54000/6000/10000 (train/valid/test)\n",
      "Fold Sizes: 6561/730/2007 (train/valid/test)\n",
      ">>> Computing OTDD for MNIST-EMNIST\n"
     ]
    },
    {
     "name": "stderr",
     "output_type": "stream",
     "text": [
      "Computing label-to-label distances: 100%|██████████| 45/45 [00:00<00:00, 87.44it/s]\n",
      "Computing label-to-label distances: 100%|██████████| 325/325 [00:03<00:00, 103.83it/s]\n",
      "Computing label-to-label distances: 100%|██████████| 260/260 [00:02<00:00, 110.36it/s]\n"
     ]
    },
    {
     "name": "stdout",
     "output_type": "stream",
     "text": [
      "OTDD(MNIST,EMNIST)=852.10\n",
      ">>> Computing OTDD for MNIST-FashionMNIST\n"
     ]
    },
    {
     "name": "stderr",
     "output_type": "stream",
     "text": [
      "Computing label-to-label distances: 100%|██████████| 45/45 [00:00<00:00, 84.00it/s]\n",
      "Computing label-to-label distances: 100%|██████████| 45/45 [00:00<00:00, 77.30it/s]\n",
      "Computing label-to-label distances: 100%|██████████| 100/100 [00:01<00:00, 86.24it/s]\n"
     ]
    },
    {
     "name": "stdout",
     "output_type": "stream",
     "text": [
      "OTDD(MNIST,FashionMNIST)=1233.05\n",
      ">>> Computing OTDD for MNIST-KMNIST\n"
     ]
    },
    {
     "name": "stderr",
     "output_type": "stream",
     "text": [
      "Computing label-to-label distances: 100%|██████████| 45/45 [00:00<00:00, 109.85it/s]\n",
      "Computing label-to-label distances: 100%|██████████| 45/45 [00:00<00:00, 107.81it/s]\n",
      "Computing label-to-label distances: 100%|██████████| 100/100 [00:01<00:00, 77.10it/s]\n"
     ]
    },
    {
     "name": "stdout",
     "output_type": "stream",
     "text": [
      "OTDD(MNIST,KMNIST)=1106.96\n",
      ">>> Computing OTDD for MNIST-USPS\n"
     ]
    },
    {
     "name": "stderr",
     "output_type": "stream",
     "text": [
      "Computing label-to-label distances: 100%|██████████| 45/45 [00:00<00:00, 88.84it/s]\n",
      "Computing label-to-label distances: 100%|██████████| 45/45 [00:00<00:00, 121.12it/s]\n",
      "Computing label-to-label distances: 100%|██████████| 100/100 [00:00<00:00, 119.85it/s]\n"
     ]
    },
    {
     "name": "stdout",
     "output_type": "stream",
     "text": [
      "OTDD(MNIST,USPS)=960.06\n",
      ">>> Computing OTDD for EMNIST-FashionMNIST\n"
     ]
    },
    {
     "name": "stderr",
     "output_type": "stream",
     "text": [
      "Computing label-to-label distances: 100%|██████████| 325/325 [00:02<00:00, 114.88it/s]\n",
      "Computing label-to-label distances: 100%|██████████| 45/45 [00:00<00:00, 107.86it/s]\n",
      "Computing label-to-label distances: 100%|██████████| 260/260 [00:02<00:00, 106.09it/s]\n"
     ]
    },
    {
     "name": "stdout",
     "output_type": "stream",
     "text": [
      "OTDD(EMNIST,FashionMNIST)=1144.06\n",
      ">>> Computing OTDD for EMNIST-KMNIST\n"
     ]
    },
    {
     "name": "stderr",
     "output_type": "stream",
     "text": [
      "Computing label-to-label distances: 100%|██████████| 325/325 [00:02<00:00, 115.26it/s]\n",
      "Computing label-to-label distances: 100%|██████████| 45/45 [00:00<00:00, 109.47it/s]\n",
      "Computing label-to-label distances: 100%|██████████| 260/260 [00:02<00:00, 106.80it/s]\n"
     ]
    },
    {
     "name": "stdout",
     "output_type": "stream",
     "text": [
      "OTDD(EMNIST,KMNIST)=1100.71\n",
      ">>> Computing OTDD for EMNIST-USPS\n"
     ]
    },
    {
     "name": "stderr",
     "output_type": "stream",
     "text": [
      "Computing label-to-label distances: 100%|██████████| 325/325 [00:03<00:00, 107.44it/s]\n",
      "Computing label-to-label distances: 100%|██████████| 45/45 [00:00<00:00, 109.48it/s]\n",
      "Computing label-to-label distances: 100%|██████████| 260/260 [00:02<00:00, 109.64it/s]\n"
     ]
    },
    {
     "name": "stdout",
     "output_type": "stream",
     "text": [
      "OTDD(EMNIST,USPS)=993.17\n",
      ">>> Computing OTDD for FashionMNIST-KMNIST\n"
     ]
    },
    {
     "name": "stderr",
     "output_type": "stream",
     "text": [
      "Computing label-to-label distances: 100%|██████████| 45/45 [00:00<00:00, 83.76it/s]\n",
      "Computing label-to-label distances: 100%|██████████| 45/45 [00:00<00:00, 103.90it/s]\n",
      "Computing label-to-label distances: 100%|██████████| 100/100 [00:00<00:00, 105.87it/s]\n"
     ]
    },
    {
     "name": "stdout",
     "output_type": "stream",
     "text": [
      "OTDD(FashionMNIST,KMNIST)=1235.62\n",
      ">>> Computing OTDD for FashionMNIST-USPS\n"
     ]
    },
    {
     "name": "stderr",
     "output_type": "stream",
     "text": [
      "Computing label-to-label distances: 100%|██████████| 45/45 [00:00<00:00, 76.68it/s]\n",
      "Computing label-to-label distances: 100%|██████████| 45/45 [00:00<00:00, 114.43it/s]\n",
      "Computing label-to-label distances: 100%|██████████| 100/100 [00:00<00:00, 112.74it/s]\n"
     ]
    },
    {
     "name": "stdout",
     "output_type": "stream",
     "text": [
      "OTDD(FashionMNIST,USPS)=771.77\n",
      ">>> Computing OTDD for KMNIST-USPS\n"
     ]
    },
    {
     "name": "stderr",
     "output_type": "stream",
     "text": [
      "Computing label-to-label distances: 100%|██████████| 45/45 [00:00<00:00, 100.37it/s]\n",
      "Computing label-to-label distances: 100%|██████████| 45/45 [00:00<00:00, 121.84it/s]\n",
      "Computing label-to-label distances: 100%|██████████| 100/100 [00:00<00:00, 115.17it/s]\n"
     ]
    },
    {
     "name": "stdout",
     "output_type": "stream",
     "text": [
      "OTDD(KMNIST,USPS)=986.04\n"
     ]
    }
   ],
   "source": [
    "import itertools\n",
    "import pandas as pd\n",
    "import numpy as np\n",
    "from otdd.pytorch.datasets import load_torchvision_data\n",
    "from otdd.pytorch.distance import DatasetDistance\n",
    "\n",
    "\n",
    "all_names = ['MNIST', 'EMNIST', 'FashionMNIST', 'KMNIST', 'USPS'] #, 'CIFAR10'\n",
    "name2idx = {task: i for i, task in enumerate(all_names)}\n",
    "all_loaders = {task: load_torchvision_data(task, resize=28)[0] for task in all_names}\n",
    "all_otdds = pd.DataFrame(columns=all_names, index=range(len(all_names)))\n",
    "for comb in list(itertools.combinations(range(len(all_names)), 2)):\n",
    "    src_name, tgt_name = all_names[comb[0]], all_names[comb[1]]\n",
    "    print(\">>> Computing OTDD for {}-{}\".format(src_name, tgt_name))\n",
    "    src_loader, tgt_loader = all_loaders[src_name], all_loaders[tgt_name]\n",
    "    \n",
    "    dist = DatasetDistance(src_loader['test'], tgt_loader['test'],\n",
    "                          inner_ot_method = 'exact',\n",
    "                          debiased_loss = True,\n",
    "                          p = 2, entreg = 1e-1,\n",
    "                          device='cuda:0')\n",
    "\n",
    "    d = dist.distance(maxsamples=10000).item()\n",
    "    print('OTDD({},{})={:.2f}'.format(src_name, tgt_name, d))\n",
    "    all_otdds.iloc[name2idx[tgt_name]][src_name] = d\n",
    "    all_otdds.iloc[name2idx[src_name]][tgt_name] = d"
   ]
  },
  {
   "cell_type": "code",
   "execution_count": 80,
   "metadata": {},
   "outputs": [
    {
     "data": {
      "text/html": [
       "<div>\n",
       "<style scoped>\n",
       "    .dataframe tbody tr th:only-of-type {\n",
       "        vertical-align: middle;\n",
       "    }\n",
       "\n",
       "    .dataframe tbody tr th {\n",
       "        vertical-align: top;\n",
       "    }\n",
       "\n",
       "    .dataframe thead th {\n",
       "        text-align: right;\n",
       "    }\n",
       "</style>\n",
       "<table border=\"1\" class=\"dataframe\">\n",
       "  <thead>\n",
       "    <tr style=\"text-align: right;\">\n",
       "      <th></th>\n",
       "      <th>MNIST</th>\n",
       "      <th>EMNIST</th>\n",
       "      <th>FashionMNIST</th>\n",
       "      <th>KMNIST</th>\n",
       "      <th>USPS</th>\n",
       "    </tr>\n",
       "  </thead>\n",
       "  <tbody>\n",
       "    <tr>\n",
       "      <th>0</th>\n",
       "      <td>NaN</td>\n",
       "      <td>852.098511</td>\n",
       "      <td>1233.050049</td>\n",
       "      <td>1106.957886</td>\n",
       "      <td>960.061523</td>\n",
       "    </tr>\n",
       "    <tr>\n",
       "      <th>1</th>\n",
       "      <td>852.098511</td>\n",
       "      <td>NaN</td>\n",
       "      <td>1144.060913</td>\n",
       "      <td>1100.706055</td>\n",
       "      <td>993.173706</td>\n",
       "    </tr>\n",
       "    <tr>\n",
       "      <th>2</th>\n",
       "      <td>1233.050049</td>\n",
       "      <td>1144.060913</td>\n",
       "      <td>NaN</td>\n",
       "      <td>1235.623535</td>\n",
       "      <td>771.768372</td>\n",
       "    </tr>\n",
       "    <tr>\n",
       "      <th>3</th>\n",
       "      <td>1106.957886</td>\n",
       "      <td>1100.706055</td>\n",
       "      <td>1235.623535</td>\n",
       "      <td>NaN</td>\n",
       "      <td>986.038696</td>\n",
       "    </tr>\n",
       "    <tr>\n",
       "      <th>4</th>\n",
       "      <td>960.061523</td>\n",
       "      <td>993.173706</td>\n",
       "      <td>771.768372</td>\n",
       "      <td>986.038696</td>\n",
       "      <td>NaN</td>\n",
       "    </tr>\n",
       "  </tbody>\n",
       "</table>\n",
       "</div>"
      ],
      "text/plain": [
       "         MNIST       EMNIST FashionMNIST       KMNIST        USPS\n",
       "0          NaN   852.098511  1233.050049  1106.957886  960.061523\n",
       "1   852.098511          NaN  1144.060913  1100.706055  993.173706\n",
       "2  1233.050049  1144.060913          NaN  1235.623535  771.768372\n",
       "3  1106.957886  1100.706055  1235.623535          NaN  986.038696\n",
       "4   960.061523   993.173706   771.768372   986.038696         NaN"
      ]
     },
     "execution_count": 80,
     "metadata": {},
     "output_type": "execute_result"
    }
   ],
   "source": [
    "all_otdds"
   ]
  },
  {
   "cell_type": "code",
   "execution_count": 92,
   "metadata": {},
   "outputs": [
    {
     "name": "stdout",
     "output_type": "stream",
     "text": [
      "SpearmanrResult(correlation=0.9310086072192505, pvalue=2.613673456616178e-09)\n",
      "1.3193960401801275\n"
     ]
    }
   ],
   "source": [
    "from scipy.stats import spearmanr\n",
    "claimed_otdds = np.array([[np.nan, 1.04, 1.74, 1.41, 1.26],\n",
    "                          [1.04, np.nan, 1.57, 1.28, 1.32],\n",
    "                          [1.74, 1.57, np.nan, 1.67, 1.10],\n",
    "                          [1.41, 1.28, 1.67, np.nan, 1.30],\n",
    "                          [1.28, 1.32, 1.10, 1.30, np.nan]]) * 1000\n",
    "\n",
    "all_otdds_f = all_otdds.values.astype(np.float32).flatten()\n",
    "idxs = ~np.isnan(all_otdds_f)\n",
    "all_otdds_f = all_otdds_f[idxs]\n",
    "claimed_otdds_f = claimed_otdds.flatten()\n",
    "idxs = ~np.isnan(claimed_otdds_f)\n",
    "claimed_otdds_f = claimed_otdds_f[idxs]\n",
    "print(spearmanr(all_otdds_f, claimed_otdds_f))\n",
    "print(claimed_otdds_f.mean()/all_otdds_f.mean())"
   ]
  },
  {
   "cell_type": "code",
   "execution_count": 93,
   "metadata": {},
   "outputs": [],
   "source": [
    "all_otdds.to_pickle(\"/home/brian/work/ICLR-Representation_Transferability_X/cv_emd/results/reproduced_cv_raw_otdds.pkl\")\n",
    "pd.DataFrame(claimed_otdds, columns=all_names).to_pickle(\n",
    "            \"/home/brian/work/ICLR-Representation_Transferability_X/cv_emd/results/claimed_cv_raw_otdds.pkl\")"
   ]
  },
  {
   "cell_type": "code",
   "execution_count": 53,
   "metadata": {},
   "outputs": [],
   "source": [
    "import matplotlib.pyplot as plt\n",
    "import matplotlib as mpl\n",
    "import seaborn as sns\n",
    "\n",
    "def truncate_colormap(cmapIn='jet', minval=0.0, maxval=1.0, n=100):\n",
    "    '''truncate_colormap(cmapIn='jet', minval=0.0, maxval=1.0, n=100)'''\n",
    "    cmapIn = plt.get_cmap(cmapIn)\n",
    "    new_cmap = mpl.colors.LinearSegmentedColormap.from_list(\n",
    "        'trunc({n},{a:.2f},{b:.2f})'.format(n=cmapIn.name, a=minval, b=maxval),\n",
    "        cmapIn(np.linspace(minval, maxval, n)))\n",
    "    return new_cmap\n",
    "new_cmap = truncate_colormap('flare', minval=0.2, maxval=0.8)\n",
    "\n",
    "def plotter(dist_df):\n",
    "    ax = sns.heatmap(dist_df.fillna(0), cmap='OrRd', annot=True, fmt='.3f', annot_kws={'size': 'small'},\n",
    "                    cbar=False, linewidths=1.5, mask=dist_df.isna(), vmin=0, vmax=1.02)\n",
    "    ax.xaxis.tick_top()\n",
    "    ax.tick_params(axis=u'both', which=u'both', length=0)\n",
    "plotter(all_otdds)\n",
    "plt.show()"
   ]
  },
  {
   "cell_type": "markdown",
   "metadata": {},
   "source": [
    "# 二、MNIST-CIFAR10"
   ]
  },
  {
   "cell_type": "code",
   "execution_count": 90,
   "metadata": {},
   "outputs": [
    {
     "name": "stdout",
     "output_type": "stream",
     "text": [
      "Files already downloaded and verified\n",
      "Files already downloaded and verified\n",
      "Fold Sizes: 45000/5000/10000 (train/valid/test)\n",
      "Fold Sizes: 54000/6000/10000 (train/valid/test)\n"
     ]
    },
    {
     "name": "stderr",
     "output_type": "stream",
     "text": [
      "Computing label-to-label distances: 100%|██████████| 45/45 [00:04<00:00, 10.13it/s]\n",
      "Computing label-to-label distances: 100%|██████████| 45/45 [00:04<00:00, 10.73it/s]\n",
      "Computing label-to-label distances: 100%|██████████| 100/100 [00:09<00:00, 10.81it/s]\n"
     ]
    },
    {
     "name": "stdout",
     "output_type": "stream",
     "text": [
      "Embedded OTDD(CIFAR10,MNIST)= 4322.91\n"
     ]
    }
   ],
   "source": [
    "import pickle\n",
    "import torch\n",
    "from torchvision.models import resnet18\n",
    "\n",
    "from otdd.pytorch.datasets import load_torchvision_data\n",
    "from otdd.pytorch.distance import DatasetDistance, FeatureCost\n",
    "\n",
    "# Load MNIST/CIFAR in 3channels (needed by torchvision models)\n",
    "loaders_src = load_torchvision_data('CIFAR10', resize=28)[0]#, maxsize=20\n",
    "loaders_tgt = load_torchvision_data('MNIST', resize=28, to3channels=True)[0]# ,maxsize=20\n",
    "\n",
    "# Embed using a pretrained (+frozen) resnet\n",
    "# embedder = resnet18(pretrained=True).eval()\n",
    "# embedder.fc = torch.nn.Identity()\n",
    "# for p in embedder.parameters():\n",
    "#     p.requires_grad = False\n",
    "\n",
    "# Here we use same embedder for both datasets\n",
    "# feature_cost = FeatureCost(src_embedding = embedder,\n",
    "#                            src_dim = (3,28,28),\n",
    "#                            tgt_embedding = embedder,\n",
    "#                            tgt_dim = (3,28,28),\n",
    "#                            p = 2,\n",
    "#                            device='cpu')\n",
    "\n",
    "dist = DatasetDistance(loaders_src['test'], loaders_tgt['test'],\n",
    "                          inner_ot_method = 'exact',\n",
    "                          debiased_loss = True,\n",
    "                        #   feature_cost = feature_cost,\n",
    "                          sqrt_method = 'spectral',\n",
    "                          sqrt_niters=10,\n",
    "                          precision='single',\n",
    "                          p = 2, entreg = 1e-1,\n",
    "                          device='cpu')\n",
    "\n",
    "d = dist.distance(maxsamples = 10000)\n",
    "print(f'Embedded OTDD(CIFAR10,MNIST)={d:8.2f}')\n",
    "\n",
    "d = {('mnist', 'cifar10'): d.item()}\n",
    "with open(\"/home/brian/work/ICLR-Representation_Transferability_X/cv_emd/results/mnist_cifar10_raw_otdd.pkl\", 'wb') as handle:\n",
    "    pickle.dump(d, handle)"
   ]
  }
 ],
 "metadata": {
  "kernelspec": {
   "display_name": "Python 3.8.13 ('otdd')",
   "language": "python",
   "name": "python3"
  },
  "language_info": {
   "codemirror_mode": {
    "name": "ipython",
    "version": 3
   },
   "file_extension": ".py",
   "mimetype": "text/x-python",
   "name": "python",
   "nbconvert_exporter": "python",
   "pygments_lexer": "ipython3",
   "version": "3.8.13"
  },
  "orig_nbformat": 4,
  "vscode": {
   "interpreter": {
    "hash": "eff6759169b6e11a8823a87099dca5072d25edbd00ef755b84f465c4d92da777"
   }
  }
 },
 "nbformat": 4,
 "nbformat_minor": 2
}
